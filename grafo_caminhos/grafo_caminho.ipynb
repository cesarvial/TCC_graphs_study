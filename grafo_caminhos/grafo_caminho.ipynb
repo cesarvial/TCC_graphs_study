{
 "cells": [
  {
   "cell_type": "markdown",
   "id": "985670d7",
   "metadata": {},
   "source": [
    "### NetworkX e Gephi\n",
    "Use o código abaixo em conjunto com o Gephi:\n",
    "1. carregue o exemplo Les Miserables.gexf no Gephi\n",
    "2. exporte no formato GML (miserables.gml) para carregar no notebook\n",
    "\n",
    "Esta rede representa as interações dos personagens do romance de Victor Hugo.\\\n",
    "Compare alguns valores fornecidos pelo NetworkX com os disponíveis no Gephi"
   ]
  },
  {
   "cell_type": "code",
   "execution_count": 2,
   "id": "617dafe4",
   "metadata": {},
   "outputs": [
    {
     "name": "stdout",
     "output_type": "stream",
     "text": [
      "../excel/dados_historicos_alunos_de_EngComputacaoCuritiba desistentes mudancas curso.csv\n",
      "../excel/dados_historicos_alunos_de_EngComputacaoCuritiba formados.csv\n",
      "../excel/dados_historicos_alunos_de_EngComputacaoCuritiba regulares.csv\n",
      "../excel/dados_historicos_alunos_de_EngComputacaoCuritiba trancados.csv\n"
     ]
    }
   ],
   "source": [
    "import matplotlib.pyplot as plt\n",
    "import networkx as nx\n",
    "import csv\n",
    "\n",
    "hist = []\n",
    "files = ['../excel/dados_historicos_alunos_de_EngComputacaoCuritiba desistentes mudancas curso.csv',\n",
    "         '../excel/dados_historicos_alunos_de_EngComputacaoCuritiba formados.csv',\n",
    "         '../excel/dados_historicos_alunos_de_EngComputacaoCuritiba regulares.csv',\n",
    "         '../excel/dados_historicos_alunos_de_EngComputacaoCuritiba trancados.csv']\n",
    "\n",
    "for file in files:\n",
    "    print(file)\n",
    "    with open(file, 'r') as csvfile:   \n",
    "        reader = csv.DictReader(csvfile, delimiter=';')\n",
    "        for row in reader:\n",
    "            hist.append(row)"
   ]
  },
  {
   "cell_type": "code",
   "execution_count": 3,
   "id": "5799bb25",
   "metadata": {},
   "outputs": [
    {
     "data": {
      "text/plain": [
       "(NodeView(('ES70R', 'FI71M', 'CSF13', 'MA71B', 'CSD20', 'MA71A', 'FIT1S', 'ENADE I', 'EEF21', 'FI72S', 'FI73S', 'MA73A', 'EEB21', 'EEB31', 'EEX22', 'MA63C', 'ET77B', 'ET75E', 'QB70D', 'ET75F', 'QB70E', 'QB60A', 'MA70H', 'EEX21', 'MA72A', 'EL64H', 'EL66C', 'CSW40', 'EEQ32', 'CSC41', 'CSF20', 'EEQ31', 'CSR30', 'EL66I', 'CSE20', 'EEF11', 'ES70P', 'CSF30', 'CSB30', 'CSI30', 'MA64A', 'FI64A', 'EEF31', 'CSH30', 'EEE32', 'FI62B', 'QB70C', 'FI73A', 'FI72N', 'MA70G', 'CSD21', 'IF63O', 'ES60F', 'ES70N', 'FI72M', 'ES70L', 'EL62O', 'IF66B', 'GE70D', 'CSG20', 'CSR41', 'IF6AG', 'GE70H', 'ES70G', 'FI66A', 'CSE30', 'ET30N', 'ET38N', 'EEC21', 'ES65A', 'GE60A', 'EEX11', 'FI70A', 'FI71S', 'DI64G', 'GE60G', 'EL66K', 'EEE31', 'CSO30', 'CSR44', 'ES70Q', 'ME37K', 'CSX42', 'CSW41', 'IF6AB', 'IF6AE', 'ES70H', 'ES60B', 'EEC41', 'CSI52', 'ES70B', 'CSV30', 'CSW42', 'CSS30', 'ES60D', 'CE62A', 'ED60E', 'ED60D', 'ED60C', 'ED60B', 'ED60I', 'ES30X', 'ES70C', 'GE62D', 'IF62D', 'IF68B', 'IF65F', 'ES60J', 'CSA30', 'FI70D', 'GE62A', 'MA71G', 'MA71F', 'MA71E', 'FI74N', 'GE70F', 'GE70L', 'CSX43', 'ENADE C', 'CSA44', 'IF6CL', 'EL6BC', 'EL6CB', 'CSX53', 'IF60K', 'EL6AE', 'EL6EB', 'CSA43', 'IF6BB', 'CSX10', 'GE72A', 'GE71A', 'GE70K', 'GE60E', 'CSR31', 'EL6BA', 'GE60K', 'CSR42', 'MA31K', 'IF67G', 'CL21I', 'GE74G', 'IF66F', 'GE75A', 'ME60I', 'FI63B', 'CC61B', 'CSA31', 'EEB22', 'EEC31', 'CSW30', 'CSD41', 'CSW49', 'EES41', 'CSM43', 'CSX54', 'FI74M', 'EL6DB', 'EL6EC', 'IF6CJ', 'CSD40', 'IF6AL', 'EF32S', 'CL62B', 'EL6AA', 'IF33R', 'K5D330', 'GE65C', 'GE64C', 'IF66H', 'IF66E', 'GE64D', 'MA70C', 'EL66A', 'CC6CP', 'CC61L', 'CE70B', 'ES32U', 'QB61F', 'ET63D', 'FI72A', 'DI56B', 'EL54A', 'DI85B', 'FI55G', 'CSW45', 'CSE42', 'CSB41', 'DI84D', 'CSM44', 'CSM41', 'CSI57', 'EL6EE', 'DI61L', 'DI61K', 'DI61I', 'ME61J', 'ME69C', 'ME66J', 'ME63H', 'ME66I', 'EL6BF', 'IF6BJ', 'EL6CA', 'IF6AO', 'IF6CN', 'IF6AP', 'EL69C', 'EL6CC', 'ET77C', 'EL6DA', 'CC72E', 'FI70B', 'CC74B', 'CC74G', 'CC75C', 'CC75F', 'CC75G', 'GE60F', 'CC75E', 'CC72B', 'CC72D', 'CC73B', 'ET74F', 'ET74E', 'ED70H', 'ED60F', 'FI56C', 'FI53E', 'FI51C', 'FI55A', 'FI55F', 'ET53V', 'IF61F', 'IF63B', 'GE63D', 'ME6BI', 'FI71A', 'FI74A', 'ET71C', 'GE70O', 'EA37J', 'CE63B', 'ET7AB', 'DI6BH', 'ME6BQ', 'CC71A', 'IF62E', 'IF67F', 'IF66G', 'MA74G', 'D0D590', 'CSG30', 'GE73A', 'CSR45', 'CSM30', 'CSH43', 'CSX40', 'CSG10', 'FI73M', 'ET72B', 'FI70E', 'ME63J', 'ET64J', 'IF71A', 'ME64F', 'ME62J', 'QB60E', 'DI54C', 'CSE40', 'EEX23', 'ED70G', 'ED60G', 'ET73F', 'CL21F', 'FI74S', 'ED70T', 'EEY41', 'EL64B', 'ES70J', 'ET7GM', 'CC62B', 'CC62P', 'CC62D', 'CC62O', 'DI62G', 'EL52O', 'CE61B', 'DI61C', 'EF65B', 'EL65B', 'GE70A', 'EL85C', 'IF6AF', 'ET76F', 'ET72F', 'ET71B', 'EL64F', 'DI65G', 'ED70U', 'CSE48', 'FI71F', 'QB74I', 'ME62I', 'CE75D', 'EL63A', 'CL7CG', 'CL73B', 'CL65A', 'CL72A', 'EL65F', 'EL6AF', 'IF6BV', 'DI63L', 'DI64B', 'IF6CK', 'ES70I', 'FI52B', 'FI53B', 'EL53F', 'CE51N', 'ED70E', 'ES60C', 'DI61D', 'DI61H', 'GE73F', 'GE73G', 'FI6BD', 'DI6DC', 'GE77B', 'CSG47', 'ES7AB', 'ED70C', 'GE73E', 'ET77F', 'DI55F', 'CSW20', 'ELW74', 'GE77J', 'CSV40', 'EL73F', 'EL65D', 'FI54A', 'IF55Z', 'GE72C', 'CSV45', 'CSB51', 'IF6AH', 'CE6AB', 'CE63F', 'GE68A', 'FI52Z', 'CE64H', 'CL65D', 'CE65D', 'CL68A', 'EF63D', 'EL53G', 'EL65J', 'CL23I', 'GE70N', 'GE70C', 'DI61E', 'ED70A', 'MA72D', 'MA72E', 'MA72F', 'DI6DB', 'EL76A', 'EL77A', 'DI84G', 'CSH42', 'DI61B', 'DI61F', 'FI51A', 'DI63C', 'FI63C', 'MA75D', 'ELF62', 'EL66E', 'DI81B', 'DI81F', 'ELO92', 'DI68G', 'EL6BB', 'CSR43', 'CSI41', 'CSI56', 'CSD45', 'ELF61', 'CSG42', 'ES72C', 'CSM40', 'EL85E', 'CSH41', 'ES70S', 'EF62E', 'ET7BC', 'EL66F', 'GE78B', 'ET74C', 'CSB53', 'CSH44', 'ET7FA', 'ET51C', 'AU6AS', 'FI75F', 'MA73H', 'CE76E', 'EF63F', 'CE73D', 'MA73N', 'EL72E', 'MA78E', 'CSR53', 'MA7AV', 'ELP73', 'ELB66', 'AU62O', 'AU61L', 'AU61P', 'ME62H', 'ME63I', 'ME67A', 'ED70D', 'CE65B', 'ELB23', 'IF72A', 'EL75F', 'ELTE3', 'GE7AB', 'GE76N', 'EL86B', 'EL86F', 'GE77E', 'QB71H', 'CC79B', 'EL85A', 'GE77C', 'CSE47', 'AU64P', 'EL72F', 'GE74K', 'MA78K', 'ES81A', 'EF62D', 'EF64E', 'GE76B', 'DI81A', 'CE73B', 'CSA42', 'CSA41', 'EL67F', 'CSB54', 'EL74H', 'EF61C', 'QB53F', 'QB7BC', 'DI82B', 'DI82F', 'DI82G', 'FI70C', 'ET75H', 'DI6AH', 'CL74B', 'ED70Q', 'EL64G', 'EL65E', 'EL64E', 'GE70S', 'ET76B', 'ET76E', 'MA71Z', 'MA71Y', 'ET7DA', 'QB70J', 'DI86C', 'EL71E', 'GE72B', 'CSX20', 'CSX30', 'ELF41', 'GE79B', 'FCH7SC', 'ELP61', 'IF6BF', 'CSG44', 'CSD52', 'EL67D', 'DI84A', 'CE6AI', 'ELF74', 'ELF51', 'CSI55', 'FI71Z', 'CSA45', 'MA72H', 'MA70Z', 'FI71Y', 'DI63E', 'FI71G', 'DI82A', 'CL7DH', 'ELN85A', 'FI72Z', 'MAT7C1', 'ICSF13', 'ICSD20', 'ET76H', 'MAT7GA', 'ELEX10', 'FIS7F1', 'IF35J', 'MA33K', 'F2D070', 'E1D000', 'E2D060', 'MA74C', 'EL6AB', 'EL6EA', 'IF6AI', 'IF6BL', 'IF6AT', 'FI34M', 'DI63H', 'EL66B', 'EL68D', 'ET76G', 'IF6AJ', 'IF6AD', 'EL6ED', 'QB51F', 'ET66E', 'EL6BG', 'GE53B', 'ES60H', 'IF6AQ', 'CSW55', 'CSR40', 'ET70H', 'CSD42', 'FI7BO', 'EEY43', 'CSI53', 'IF6BE', 'EL6AD', 'IF6BT', 'IF6AA', 'ET7AC', 'CSE41', 'IF6BN', 'ET77H', 'ET61A', 'CSH51', 'CL73A', 'CE78C', 'QB60D', 'EL67B', 'GE73H', 'EL84G', 'GE74C', 'ET7DJ', 'ES60E', 'IF6AK', 'CSI58', 'CSI54', 'CSW47', 'IF6AV', 'IF6BQ', 'CSW48', 'IF6BG', 'GE76G', 'QB7AH', 'GE70X', 'ES7AD', 'ET7CL', 'GE70T', 'DI81C', 'DI62F', 'DI83F', 'CL74C', 'DI66G', 'EL76G', 'DI62D', 'FI64B', 'CSV42', 'D7D420', 'GE60L', 'EL6DC', 'EEY42', 'EF67E', 'IF6BP', 'GE56A', 'QB55Z', 'CL73D', 'MA77J', 'ELF66', 'EEY51', 'EEL51', 'EL71D', 'IF6AR', 'ET75C', 'ELO91', 'CSR48', 'CSM45', 'CL74A', 'CSI31', 'DI83E', 'CSB52', 'CL7AB', 'GE77I', 'ELH01', 'GE77H', 'CE78E', 'GE78C', 'CSD47', 'FI54O', 'CSG48', 'CE70H', 'DI63D', 'FI56F', 'ME78I', 'COE70A', 'FI53H', 'ELH02', 'CSH45', 'CSV52', 'CSE43', 'CSI51', 'CSV41', 'FCH7HB', 'CSR47', 'EL8AA', 'DI63G', 'EL83F', 'GE79A', 'PPGSESAI11', 'ELTA4', 'ELTA1', 'EEY44', 'DI65H', 'MA75K', 'GE73D', 'EL75H', 'CE66C', 'ME73H', 'MA74A', 'ET7BG', 'ME67C', 'ELTE2', 'EL84H', 'ES7AK', 'ME79J', 'ELH11', 'ELF52', 'GE76J', 'ES7AG', 'CSE44', 'GE70E', 'CL7BI', 'EF64D', 'CL74D', 'GE72D', 'CE75Q', 'ELTE6', 'ELSC01', 'ELTA2', 'AU62M', 'CSL41', 'CSB55', 'ET79F', 'CL72B', 'FCH7FA', 'ICSB30', 'ELN8BB', 'FCH7HC', 'ELTB3', 'CC71B', 'CL7BM', 'CL75F', 'ED70B', 'CL70B', 'CL70C', 'ELB13', 'GE74H', 'ELE13', 'ELN8CA', 'MA73I', 'LEM702', 'PPGA37', 'LEM701', 'CAART02', 'CE70A', 'MA71H', 'ME79C', 'ET56F', 'ME7BR', 'ELN8BA', 'MA72I', 'ELE12', 'ELB11', 'QBI7QE', 'QBI7QT', 'ELEF10', 'ELEY40', 'QBI7CA', 'FIS7E1', 'FIS7F2', 'MAT7AL', 'DI84B', 'CE74F', 'FIS81C', 'ELN8DG', 'QB70F', 'FCH7SB', 'FIS7F3', 'EST70A', 'MAT7C2', 'FIS7E2', 'ICSD21', 'CE74G', 'ELM01', 'MA70K', 'ELN83A', 'ELN8AB', 'CSG70', 'ELN81A', 'ELB93')),\n",
       " 76844)"
      ]
     },
<<<<<<< HEAD
     "execution_count": 18,
=======
     "execution_count": 3,
    }
   "source": [
    "G = nx.DiGraph()\n",
    "\n",
    "# disciplinas \n",
    "for line in hist:\n",
    "    if not G.has_node(line[\"CODIGO\"]):\n",
    "        G.add_node(line[\"CODIGO\"])\n",
    "G.nodes(), hist.__len__()"
   ]
  },
  {
   "cell_type": "code",
<<<<<<< HEAD
   "execution_count": 19,
   "id": "70d6d3e0",
   "metadata": {},
   "outputs": [],
   "source": [
    "map_disciplinas = {}\n",
    "mapeamento_721_to_844_path = \"../excel/mapeamento_disciplinas_721_to_844.csv\"\n",
    "with open(mapeamento_721_to_844_path) as csvfile:\n",
    "    reader = csv.DictReader(csvfile, delimiter=\",\")\n",
    "    map_disciplinas = {row[\"721\"]: row[\"844\"] for row in reader}\n",
    "\n",
    "# Mapear as disciplinas para o nova grade\n",
    "# Note que para algumas disciplinas não existe mapeamento, TODO: tratar isso posteriormente\n",
    "estudantes = {}\n",
    "for dado in hist:\n",
    "    if dado[\"CODIGO\"] in map_disciplinas:\n",
    "        dado[\"CODIGO\"] = map_disciplinas[dado[\"CODIGO\"]]"
   ]
  },
  {
   "cell_type": "code",
   "execution_count": 20,
=======
   "execution_count": 4,
>>>>>>> 393945da4168bfee900230a731774b62cb2a15c8
   "id": "740875b3",
   "metadata": {},
   "outputs": [
    {
     "name": "stdout",
     "output_type": "stream",
     "text": [
      "728\n"
     ]
    }
   ],
   "source": [
    "print(G.number_of_nodes())"
   ]
  },
  {
   "cell_type": "code",
<<<<<<< HEAD
   "execution_count": 10,
=======
   "execution_count": 5,
>>>>>>> 393945da4168bfee900230a731774b62cb2a15c8
   "id": "f6ae9a0a",
   "metadata": {},
   "outputs": [],
   "source": [
    "j_init = 0\n",
    "student = \"\"\n",
    "for i in range(len(hist)):\n",
    "    course = hist[i][\"CODIGO\"]\n",
    "    year = int(hist[i][\"ANO\"])\n",
    "    semester = int(hist[i][\"PERIODO\"])\n",
    "    # começou a análise de outro estudante\n",
    "    if (student != hist[i][\"ID_ANONIMO\"]):\n",
    "        student = hist[i][\"ID_ANONIMO\"]\n",
    "        j_init = i\n",
    "    for j in range(j_init, len(hist)):\n",
    "        # verificar se é o próximo período ainda do mesmo aluno\n",
    "        if (student != hist[j][\"ID_ANONIMO\"]):\n",
    "            break\n",
    "        # cria a aresta/adiciona peso nela\n",
    "        edge1 = course\n",
    "        edge2 = hist[j][\"CODIGO\"]\n",
    "        if (semester == 1):\n",
    "            # deve ser no mesmo ano e no 2o periodo\n",
    "            if int(hist[j][\"ANO\"]) == year and int(hist[j][\"PERIODO\"]) == 2:\n",
    "                if G.has_edge(edge1, edge2):\n",
    "                    G[edge1][edge2]['weight'] += 1\n",
    "                else:\n",
    "                    G.add_edge(edge1, edge2, weight = 1) \n",
    "        else:\n",
    "            # deve ser no próx ano e no 1o período\n",
    "            if int(hist[j][\"ANO\"]) == year+1 and int(hist[j][\"PERIODO\"]) == 1:\n",
    "                if G.has_edge(edge1, edge2):\n",
    "                    G[edge1][edge2]['weight'] += 1\n",
    "                else:\n",
    "                    G.add_edge(edge1, edge2, weight = 1) "
   ]
  },
  {
   "cell_type": "code",
<<<<<<< HEAD
   "execution_count": 11,
=======
   "execution_count": 6,
>>>>>>> 393945da4168bfee900230a731774b62cb2a15c8
   "id": "8e9710c4",
   "metadata": {},
   "outputs": [
    {
     "name": "stdout",
     "output_type": "stream",
     "text": [
      "30845\n"
     ]
    }
   ],
   "source": [
    "print(G.number_of_edges())"
   ]
  },
  {
   "cell_type": "code",
<<<<<<< HEAD
   "execution_count": 11,
=======
   "execution_count": 7,
>>>>>>> 393945da4168bfee900230a731774b62cb2a15c8
   "id": "ada9959c",
   "metadata": {},
   "outputs": [],
   "source": [
    "degrees = sorted(G.degree, key=lambda x: x[1], reverse=True)\n",
    "with open('node_degree.txt', 'w') as f:\n",
    "    for degree in degrees:\n",
    "        f.write(str(degree) + \"\\n\")"
   ]
  },
  {
   "cell_type": "code",
<<<<<<< HEAD
   "execution_count": 12,
=======
   "execution_count": 8,
>>>>>>> 393945da4168bfee900230a731774b62cb2a15c8
   "id": "0f1c127f",
   "metadata": {},
   "outputs": [],
   "source": [
    "nx.write_gexf(G, \"grafo_caminho.gexf\")"
   ]
  },
  {
   "cell_type": "code",
<<<<<<< HEAD
   "execution_count": 13,
=======
   "execution_count": 9,
>>>>>>> 393945da4168bfee900230a731774b62cb2a15c8
   "id": "27a2e236",
   "metadata": {},
   "outputs": [],
   "source": [
    "# ordena as arestas por peso, buscando assim quais as matérias mais relacionadas\n",
    "edges = sorted(G.edges(data=True), key=lambda edge: edge[2].get('weight', 1))\n",
    "with open('edge_weights.txt', 'w') as f1:\n",
    "    with open('edge_same_weights.txt', 'w') as f2:\n",
    "        for edge in edges:\n",
    "            f1.write(str(edge) + \"\\n\")\n",
    "            if (edge[0] == edge[1]):\n",
    "                f2.write(str(edge) + \"\\n\")\n",
    "\n"
   ]
  }
 ],
 "metadata": {
  "kernelspec": {
   "display_name": "Python 3 (ipykernel)",
   "language": "python",
   "name": "python3"
  },
  "language_info": {
   "codemirror_mode": {
    "name": "ipython",
    "version": 3
   },
   "file_extension": ".py",
   "mimetype": "text/x-python",
   "name": "python",
   "nbconvert_exporter": "python",
   "pygments_lexer": "ipython3",
   "version": "3.11.2"
  }
 },
 "nbformat": 4,
 "nbformat_minor": 5
}
