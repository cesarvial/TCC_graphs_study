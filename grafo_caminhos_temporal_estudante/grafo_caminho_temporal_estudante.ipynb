{
 "cells": [
  {
   "cell_type": "markdown",
   "id": "985670d7",
   "metadata": {},
   "source": [
    "### NetworkX e Gephi\n",
    "Use o código abaixo em conjunto com o Gephi:\n",
    "1. carregue o exemplo Les Miserables.gexf no Gephi\n",
    "2. exporte no formato GML (miserables.gml) para carregar no notebook\n",
    "\n",
    "Esta rede representa as interações dos personagens do romance de Victor Hugo.\\\n",
    "Compare alguns valores fornecidos pelo NetworkX com os disponíveis no Gephi"
   ]
  },
  {
   "cell_type": "code",
   "execution_count": 10,
   "id": "617dafe4",
   "metadata": {},
   "outputs": [],
   "source": [
    "import matplotlib.pyplot as plt\n",
    "import networkx as nx\n",
    "import csv\n",
    "\n",
    "hist = []\n",
    "file = '../excel/dados_historicos_alunos_de_EngComputacaoCuritiba formados.csv'\n",
    "\n",
    "with open(file, 'r') as csvfile:   \n",
    "    reader = csv.DictReader(csvfile, delimiter=';')\n",
    "    for row in reader:\n",
    "        if row[\"ID_ANONIMO\"] == \"198543\":\n",
    "            hist.append(row)"
   ]
  },
  {
   "cell_type": "code",
   "execution_count": 11,
   "id": "5799bb25",
   "metadata": {},
   "outputs": [
    {
     "data": {
      "text/plain": [
       "NodeView(('QB70E-2021/1', 'ES70P-2021/2', 'GE70H-2021/1', 'GE73D-2022/1', 'FI74M-2020/2', 'MA70G-2018/2', 'MA70H-2018/2', 'MA73A-2018/2', 'MA71A-2017/2', 'FI72M-2018/1', 'QB70C-2018/1', 'ES70G-2021/1', 'ENADE C-2022/2', 'ENADE I-2017/2', 'DI65H-2021/2', 'EL66E-2020/2', 'MA71B-2017/2', 'MA72A-2018/1', 'GE70D-2021/1', 'ELF51-2021/2', 'ELB23-2021/1', 'CSM45-2022/2', 'ELTE3-2021/2', 'ELF62-2021/2', 'FI74N-2019/1', 'CSM41-2022/2', 'EEX22-2020/2', 'EEX22-2020/1', 'EEE31-2019/2', 'CSW30-2019/2', 'FI74S-2020/2', 'CSW41-2022/1', 'EEX11-2018/1', 'CSX43-2022/2', 'EEF11-2019/1', 'EEX21-2018/2', 'EEC21-2021/2', 'EEQ32-2021/2', 'CSM44-2022/1', 'FI71S-2017/2', 'EEE32-2020/2', 'CSR31-2019/2', 'EEQ31-2019/1', 'CSW40-2020/1', 'CSX42-2022/1', 'CSI30-2021/2', 'CSI30-2020/1', 'EEX23-2021/1', 'CSH42-2022/1', 'CSX54-2020/2', 'CSX54-2020/1', 'FI72S-2018/1', 'FI73S-2019/1', 'EEF21-2021/1', 'CSX53-2022/2', 'EEF31-2021/1', 'EEB31-2019/1', 'CSE30-2020/1', 'CSG20-2019/2', 'CSH30-2021/2', 'CSA31-2020/1', 'CSW42-2021/2', 'EEB21-2018/2', 'EEC31-2022/1', 'EEB22-2019/1', 'EL77A-2022/1', 'CSR30-2021/2', 'CSS30-2022/1', 'CSE20-2018/1', 'CSF20-2018/1', 'CSD20-2017/2', 'CSE30-2021/1', 'DI84D-2022/1', 'CSF13-2017/2', 'FI73M-2019/1', 'FI73M-2018/2', 'CSD21-2019/1', 'CSF30-2018/2', 'CSB30-2019/2', 'CSA30-2019/2', 'CSO30-2020/1', 'FI71M-2017/2', 'FI72N-2018/1'))"
      ]
     },
     "execution_count": 11,
     "metadata": {},
     "output_type": "execute_result"
    }
   ],
   "source": [
    "G = nx.DiGraph()\n",
    "\n",
    "# disciplinas \n",
    "for line in hist:\n",
    "    if not G.has_node(line[\"CODIGO\"]):\n",
    "        G.add_node(line[\"CODIGO\"] + \"-\" + line[\"ANO\"] + \"/\" + line[\"PERIODO\"])\n",
    "G.nodes()"
   ]
  },
  {
   "cell_type": "code",
   "execution_count": 12,
   "id": "740875b3",
   "metadata": {},
   "outputs": [
    {
     "name": "stdout",
     "output_type": "stream",
     "text": [
      "83\n"
     ]
    }
   ],
   "source": [
    "print(G.number_of_nodes())"
   ]
  },
  {
   "cell_type": "code",
   "execution_count": 13,
   "id": "f6ae9a0a",
   "metadata": {},
   "outputs": [],
   "source": [
    "j_init = 0\n",
    "student = \"\"\n",
    "for i in range(len(hist)):\n",
    "    course = hist[i][\"CODIGO\"]\n",
    "    year = int(hist[i][\"ANO\"])\n",
    "    semester = int(hist[i][\"PERIODO\"])\n",
    "    # começou a análise de outro estudante\n",
    "    if (student != hist[i][\"ID_ANONIMO\"]):\n",
    "        student = hist[i][\"ID_ANONIMO\"]\n",
    "        j_init = i\n",
    "    for j in range(j_init, len(hist)):\n",
    "        # verificar se é o próximo período ainda do mesmo aluno\n",
    "        if (student != hist[j][\"ID_ANONIMO\"]):\n",
    "            break\n",
    "        # cria a aresta/adiciona peso nela\n",
    "        edge1 = course + \"-\" + str(year) + \"/\" + str(semester)\n",
    "        edge2 = hist[j][\"CODIGO\"] + \"-\" + hist[j][\"ANO\"] + \"/\" + hist[j][\"PERIODO\"]\n",
    "        if (semester == 1):\n",
    "            # deve ser no mesmo ano e no 2o periodo\n",
    "            if int(hist[j][\"ANO\"]) == year and int(hist[j][\"PERIODO\"]) == 2:\n",
    "                if G.has_edge(edge1, edge2):\n",
    "                    G[edge1][edge2]['weight'] += 1\n",
    "                else:\n",
    "                    G.add_edge(edge1, edge2, weight = 1) \n",
    "        else:\n",
    "            # deve ser no próx ano e no 1o período\n",
    "            if int(hist[j][\"ANO\"]) == year+1 and int(hist[j][\"PERIODO\"]) == 1:\n",
    "                if G.has_edge(edge1, edge2):\n",
    "                    G[edge1][edge2]['weight'] += 1\n",
    "                else:\n",
    "                    G.add_edge(edge1, edge2, weight = 1) "
   ]
  },
  {
   "cell_type": "code",
   "execution_count": 14,
   "id": "8e9710c4",
   "metadata": {},
   "outputs": [
    {
     "name": "stdout",
     "output_type": "stream",
     "text": [
      "597\n"
     ]
    }
   ],
   "source": [
    "print(G.number_of_edges())"
   ]
  },
  {
   "cell_type": "code",
   "execution_count": 15,
   "id": "136aeb31",
   "metadata": {},
   "outputs": [],
   "source": [
    "#nx.draw(G)"
   ]
  },
  {
   "cell_type": "code",
   "execution_count": 16,
   "id": "10cebc91",
   "metadata": {},
   "outputs": [
    {
     "data": {
      "text/plain": [
       "DiDegreeView({'QB70E-2021/1': 17, 'ES70P-2021/2': 18, 'GE70H-2021/1': 17, 'GE73D-2022/1': 16, 'FI74M-2020/2': 16, 'MA70G-2018/2': 16, 'MA70H-2018/2': 16, 'MA73A-2018/2': 16, 'MA71A-2017/2': 8, 'FI72M-2018/1': 14, 'QB70C-2018/1': 14, 'ES70G-2021/1': 17, 'ENADE C-2022/2': 9, 'ENADE I-2017/2': 8, 'DI65H-2021/2': 18, 'EL66E-2020/2': 16, 'MA71B-2017/2': 8, 'MA72A-2018/1': 14, 'GE70D-2021/1': 17, 'ELF51-2021/2': 18, 'ELB23-2021/1': 17, 'CSM45-2022/2': 9, 'ELTE3-2021/2': 18, 'ELF62-2021/2': 18, 'FI74N-2019/1': 13, 'CSM41-2022/2': 9, 'EEX22-2020/2': 16, 'EEX22-2020/1': 12, 'EEE31-2019/2': 15, 'CSW30-2019/2': 15, 'FI74S-2020/2': 16, 'CSW41-2022/1': 16, 'EEX11-2018/1': 14, 'CSX43-2022/2': 9, 'EEF11-2019/1': 13, 'EEX21-2018/2': 16, 'EEC21-2021/2': 18, 'EEQ32-2021/2': 18, 'CSM44-2022/1': 16, 'FI71S-2017/2': 8, 'EEE32-2020/2': 16, 'CSR31-2019/2': 15, 'EEQ31-2019/1': 13, 'CSW40-2020/1': 12, 'CSX42-2022/1': 16, 'CSI30-2021/2': 18, 'CSI30-2020/1': 12, 'EEX23-2021/1': 17, 'CSH42-2022/1': 16, 'CSX54-2020/2': 16, 'CSX54-2020/1': 12, 'FI72S-2018/1': 14, 'FI73S-2019/1': 13, 'EEF21-2021/1': 17, 'CSX53-2022/2': 9, 'EEF31-2021/1': 17, 'EEB31-2019/1': 13, 'CSE30-2020/1': 12, 'CSG20-2019/2': 15, 'CSH30-2021/2': 18, 'CSA31-2020/1': 12, 'CSW42-2021/2': 18, 'EEB21-2018/2': 16, 'EEC31-2022/1': 16, 'EEB22-2019/1': 13, 'EL77A-2022/1': 16, 'CSR30-2021/2': 18, 'CSS30-2022/1': 16, 'CSE20-2018/1': 14, 'CSF20-2018/1': 14, 'CSD20-2017/2': 8, 'CSE30-2021/1': 17, 'DI84D-2022/1': 16, 'CSF13-2017/2': 8, 'FI73M-2019/1': 13, 'FI73M-2018/2': 16, 'CSD21-2019/1': 13, 'CSF30-2018/2': 16, 'CSB30-2019/2': 15, 'CSA30-2019/2': 15, 'CSO30-2020/1': 12, 'FI71M-2017/2': 8, 'FI72N-2018/1': 14})"
      ]
     },
     "execution_count": 16,
     "metadata": {},
     "output_type": "execute_result"
    }
   ],
   "source": [
    "G.degree()"
   ]
  },
  {
   "cell_type": "code",
   "execution_count": 17,
   "id": "ada9959c",
   "metadata": {},
   "outputs": [
    {
     "data": {
      "text/plain": [
       "Text(0, 0.5, 'Numero de nós')"
      ]
     },
     "execution_count": 17,
     "metadata": {},
     "output_type": "execute_result"
    },
    {
     "data": {
      "image/png": "[encoded data removed]",
      "text/plain": [
       "<Figure size 640x480 with 1 Axes>"
      ]
     },
     "metadata": {},
     "output_type": "display_data"
    }
   ],
   "source": [
    "dicDegree = dict(G.degree() )\n",
    "valores = sorted(set(dicDegree.values()))\n",
    "valores\n",
    "\n",
    "hist = [list(dicDegree.values()).count(x) for x in valores]\n",
    "\n",
    "plt.plot(valores, hist, 'ro-') \n",
    "\n",
    "plt.xlabel('Grau')\n",
    "plt.ylabel('Numero de nós')"
   ]
  },
  {
   "cell_type": "code",
   "execution_count": 18,
   "id": "0f1c127f",
   "metadata": {},
   "outputs": [],
   "source": [
    "nx.write_gexf(G, \"grafo_caminho_estudante_temporal.gexf\")"
   ]
  },
  {
   "cell_type": "code",
   "execution_count": null,
   "id": "badb8384",
   "metadata": {},
   "outputs": [],
   "source": []
  }
 ],
 "metadata": {
  "kernelspec": {
   "display_name": "Python 3 (ipykernel)",
   "language": "python",
   "name": "python3"
  },
  "language_info": {
   "codemirror_mode": {
    "name": "ipython",
    "version": 3
   },
   "file_extension": ".py",
   "mimetype": "text/x-python",
   "name": "python",
   "nbconvert_exporter": "python",
   "pygments_lexer": "ipython3",
   "version": "3.10.0"
  }
 },
 "nbformat": 4,
 "nbformat_minor": 5
}
