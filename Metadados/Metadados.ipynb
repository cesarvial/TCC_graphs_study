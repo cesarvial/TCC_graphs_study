{
 "cells": [
  {
   "cell_type": "code",
   "execution_count": 50,
   "metadata": {},
   "outputs": [],
   "source": [
    "%reload_ext autoreload\n",
    "%autoreload 2\n",
    "\n",
    "import community as community_louvain\n",
    "import matplotlib.pyplot as plt\n",
    "import networkx as nx\n",
    "from matplotlib import colormaps\n",
    "import sys\n",
    "from itertools import combinations\n",
    "from datetime import datetime\n",
    "import copy\n",
    "sys.path.append('../utils')\n",
    "from mapa_estudantes import *"
   ]
  },
  {
   "cell_type": "code",
   "execution_count": 52,
   "metadata": {},
   "outputs": [
    {
     "name": "stdout",
     "output_type": "stream",
     "text": [
      "Carregando 76844 dados de estudantes\n"
     ]
    }
   ],
   "source": [
    "historico_completo = get_historico_completo()\n",
    "\n",
    "disciplinas_matriz_844 = get_disciplinas_matriz_844()\n",
    "mapeamento_844_equivalencias = get_mapeamento_844_equivalencias(disciplinas_matriz_844)\n",
    "\n",
    "mapeamento_721_to_844 = get_mapeamento_721_to_844()"
   ]
  },
  {
   "cell_type": "code",
   "execution_count": 75,
   "metadata": {},
   "outputs": [
    {
     "name": "stdout",
     "output_type": "stream",
     "text": [
      "30144\n",
      "2983\n",
      "164\n",
      "len disciplinas mapeagas 335\n"
     ]
    }
   ],
   "source": [
    "historico_completo_mapeado = copy.deepcopy(historico_completo)\n",
    "historico_completo_mapeado = list(filter(lambda x: x[\"SITUACAOALUNO\"] == \"Formado\", historico_completo_mapeado))\n",
    "print(len(historico_completo_mapeado))\n",
    "for dado_aluno in historico_completo_mapeado:\n",
    "    if dado_aluno[\"CODIGO\"] in mapeamento_721_to_844:\n",
    "        # print(dado_aluno[\"CODIGO\"], end=\" -> \")\n",
    "        dado_aluno[\"CODIGO\"] = mapeamento_721_to_844[dado_aluno[\"CODIGO\"]]\n",
    "        # print(dado_aluno[\"CODIGO\"])\n",
    "    if dado_aluno[\"CODIGO\"] in mapeamento_844_equivalencias:\n",
    "        # print(dado_aluno[\"CODIGO\"], end=\" ->  \")\n",
    "        dado_aluno[\"CODIGO\"] = mapeamento_844_equivalencias[dado_aluno[\"CODIGO\"]]\n",
    "        # print(dado_aluno[\"CODIGO\"])\n",
    "\n",
    "historico_restante = list(\n",
    "    filter(\n",
    "        lambda dado: dado[\"CODIGO\"] not in disciplinas_matriz_844,\n",
    "        historico_completo_mapeado,\n",
    "    )\n",
    ")\n",
    "\n",
    "print(len(historico_restante))\n",
    "disciplinas_restantes = set(dado[\"CODIGO\"] for dado in historico_restante)\n",
    "print(len(disciplinas_restantes))\n",
    "\n",
    "disciplinas_mapeadas = set(dado[\"CODIGO\"] for dado in historico_completo_mapeado)"
   ]
  }
 ],
 "metadata": {
  "kernelspec": {
   "display_name": ".venv",
   "language": "python",
   "name": "python3"
  },
  "language_info": {
   "codemirror_mode": {
    "name": "ipython",
    "version": 3
   },
   "file_extension": ".py",
   "mimetype": "text/x-python",
   "name": "python",
   "nbconvert_exporter": "python",
   "pygments_lexer": "ipython3",
   "version": "3.11.2"
  }
 },
 "nbformat": 4,
 "nbformat_minor": 2
}
