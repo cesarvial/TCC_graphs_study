{
 "cells": [
  {
   "cell_type": "markdown",
   "id": "2cd094d6-d2e0-4fb9-ae3b-307d2cf3c833",
   "metadata": {},
   "source": [
    "# Recomendações básicas\n",
    "Esse notebook almeja desenvolver um sistema de recomendação simples para disciplinas optativas."
   ]
  },
  {
   "cell_type": "markdown",
   "id": "efe62b9a-87d6-461b-b285-5364026eb902",
   "metadata": {},
   "source": [
    "## Processamento inicial dos dados"
   ]
  },
  {
   "cell_type": "code",
   "execution_count": 37,
   "id": "812b64a8-3c57-4e1b-8870-af7fca443637",
   "metadata": {},
   "outputs": [
    {
     "data": {
      "text/plain": [
       "Index(['ID_ANONIMO', 'CR', 'PERIODO', 'INGRESSO', 'CODIGO', 'ANO', 'PERIODO.1',\n",
       "       'NOTA', 'CH', 'SITUACAOALUNO'],\n",
       "      dtype='object')"
      ]
     },
     "execution_count": 37,
     "metadata": {},
     "output_type": "execute_result"
    }
   ],
   "source": [
    "import pandas as pd\n",
    "\n",
    "dados_formados_path = 'input/dados_formados.csv'\n",
    "dados_formados = pd.read_csv(dados_formados_path, delimiter=';')\n",
    "dados_formados.columns"
   ]
  },
  {
   "cell_type": "code",
   "execution_count": 38,
   "id": "3c15b03b-0266-4de2-ba05-7040a17e8f51",
   "metadata": {},
   "outputs": [
    {
     "data": {
      "text/plain": [
       "Index(['ID_ANONIMO', 'CR', 'PERIODO', 'INGRESSO', 'CODIGO', 'ANO', 'PERIODO.1',\n",
       "       'NOTA', 'CH', 'SITUACAOALUNO'],\n",
       "      dtype='object')"
      ]
     },
     "execution_count": 38,
     "metadata": {},
     "output_type": "execute_result"
    }
   ],
   "source": [
    "dados_regulares_path = 'input/dados_regulares.csv'\n",
    "dados_regulares = pd.read_csv(dados_regulares_path, delimiter=';')\n",
    "dados_regulares.columns"
   ]
  },
  {
   "cell_type": "code",
   "execution_count": 39,
   "id": "424d2c81-64e7-43fa-a464-6ba9242ec248",
   "metadata": {},
   "outputs": [],
   "source": [
    "def select_random_student(data : pd.DataFrame, max_tries : int, minimum_entry_year : int):\n",
    "    id = 0\n",
    "    tries = 0\n",
    "    while id == 0 and tries < max_tries:\n",
    "        try:\n",
    "            id = data[[int(x[3].split('/')[2].split(' ')[0]) >= 14 for x in data.values]].sample()\n",
    "            return int(id.ID_ANONIMO.iloc[0])\n",
    "        except:\n",
    "            id = 0\n",
    "            tries += 1\n",
    "    return None"
   ]
  },
  {
   "cell_type": "code",
   "execution_count": 59,
   "id": "741dde16-d942-4357-848d-692e19aa999b",
   "metadata": {},
   "outputs": [
    {
     "name": "stdout",
     "output_type": "stream",
     "text": [
      "172046\n"
     ]
    }
   ],
   "source": [
    "print(str(select_random_student(dados_formados, 100, 14)))"
   ]
  },
  {
   "cell_type": "code",
   "execution_count": 41,
   "id": "210e0928-5b07-4304-b6b1-b50da9e49d23",
   "metadata": {},
   "outputs": [
    {
     "name": "stdout",
     "output_type": "stream",
     "text": [
      "232732\n"
     ]
    }
   ],
   "source": [
    "print(str(select_random_student(dados_regulares, 100, 11)))"
   ]
  },
  {
   "cell_type": "code",
   "execution_count": 42,
   "id": "9477b30c-8a8f-412f-8523-bdefd38b36b1",
   "metadata": {},
   "outputs": [
    {
     "data": {
      "text/html": [
       "<div>\n",
       "<style scoped>\n",
       "    .dataframe tbody tr th:only-of-type {\n",
       "        vertical-align: middle;\n",
       "    }\n",
       "\n",
       "    .dataframe tbody tr th {\n",
       "        vertical-align: top;\n",
       "    }\n",
       "\n",
       "    .dataframe thead th {\n",
       "        text-align: right;\n",
       "    }\n",
       "</style>\n",
       "<table border=\"1\" class=\"dataframe\">\n",
       "  <thead>\n",
       "    <tr style=\"text-align: right;\">\n",
       "      <th></th>\n",
       "      <th>ID_ANONIMO</th>\n",
       "      <th>CR</th>\n",
       "      <th>PERIODO</th>\n",
       "      <th>INGRESSO</th>\n",
       "      <th>CODIGO</th>\n",
       "      <th>ANO</th>\n",
       "      <th>PERIODO.1</th>\n",
       "      <th>NOTA</th>\n",
       "      <th>CH</th>\n",
       "      <th>SITUACAOALUNO</th>\n",
       "    </tr>\n",
       "  </thead>\n",
       "  <tbody>\n",
       "    <tr>\n",
       "      <th>0</th>\n",
       "      <td>11357</td>\n",
       "      <td>0,6967</td>\n",
       "      <td>5</td>\n",
       "      <td>23/01/23</td>\n",
       "      <td>CSD21</td>\n",
       "      <td>2023</td>\n",
       "      <td>1</td>\n",
       "      <td>4,7</td>\n",
       "      <td>45</td>\n",
       "      <td>Regular</td>\n",
       "    </tr>\n",
       "    <tr>\n",
       "      <th>1</th>\n",
       "      <td>11357</td>\n",
       "      <td>0,6967</td>\n",
       "      <td>5</td>\n",
       "      <td>23/01/23</td>\n",
       "      <td>ES70P</td>\n",
       "      <td>2023</td>\n",
       "      <td>1</td>\n",
       "      <td>7,6</td>\n",
       "      <td>45</td>\n",
       "      <td>Regular</td>\n",
       "    </tr>\n",
       "    <tr>\n",
       "      <th>2</th>\n",
       "      <td>11357</td>\n",
       "      <td>0,6967</td>\n",
       "      <td>5</td>\n",
       "      <td>23/01/23</td>\n",
       "      <td>CSE20</td>\n",
       "      <td>2023</td>\n",
       "      <td>1</td>\n",
       "      <td>6</td>\n",
       "      <td>60</td>\n",
       "      <td>Regular</td>\n",
       "    </tr>\n",
       "    <tr>\n",
       "      <th>3</th>\n",
       "      <td>11357</td>\n",
       "      <td>0,6967</td>\n",
       "      <td>5</td>\n",
       "      <td>23/01/23</td>\n",
       "      <td>ES70G</td>\n",
       "      <td>2023</td>\n",
       "      <td>1</td>\n",
       "      <td>7,3</td>\n",
       "      <td>45</td>\n",
       "      <td>Regular</td>\n",
       "    </tr>\n",
       "    <tr>\n",
       "      <th>4</th>\n",
       "      <td>11357</td>\n",
       "      <td>0,6967</td>\n",
       "      <td>5</td>\n",
       "      <td>23/01/23</td>\n",
       "      <td>CSF20</td>\n",
       "      <td>2023</td>\n",
       "      <td>1</td>\n",
       "      <td>6,3</td>\n",
       "      <td>45</td>\n",
       "      <td>Regular</td>\n",
       "    </tr>\n",
       "    <tr>\n",
       "      <th>...</th>\n",
       "      <td>...</td>\n",
       "      <td>...</td>\n",
       "      <td>...</td>\n",
       "      <td>...</td>\n",
       "      <td>...</td>\n",
       "      <td>...</td>\n",
       "      <td>...</td>\n",
       "      <td>...</td>\n",
       "      <td>...</td>\n",
       "      <td>...</td>\n",
       "    </tr>\n",
       "    <tr>\n",
       "      <th>19877</th>\n",
       "      <td>261036</td>\n",
       "      <td>0,695</td>\n",
       "      <td>2</td>\n",
       "      <td>09/08/23</td>\n",
       "      <td>ICSF13</td>\n",
       "      <td>2023</td>\n",
       "      <td>2</td>\n",
       "      <td>6,6</td>\n",
       "      <td>90</td>\n",
       "      <td>Regular</td>\n",
       "    </tr>\n",
       "    <tr>\n",
       "      <th>19878</th>\n",
       "      <td>261911</td>\n",
       "      <td>0,7143</td>\n",
       "      <td>1</td>\n",
       "      <td>17/08/23</td>\n",
       "      <td>ICSD21</td>\n",
       "      <td>2023</td>\n",
       "      <td>2</td>\n",
       "      <td>8</td>\n",
       "      <td>45</td>\n",
       "      <td>Regular</td>\n",
       "    </tr>\n",
       "    <tr>\n",
       "      <th>19879</th>\n",
       "      <td>261911</td>\n",
       "      <td>0,7143</td>\n",
       "      <td>1</td>\n",
       "      <td>17/08/23</td>\n",
       "      <td>ELEX10</td>\n",
       "      <td>2023</td>\n",
       "      <td>2</td>\n",
       "      <td>8</td>\n",
       "      <td>45</td>\n",
       "      <td>Regular</td>\n",
       "    </tr>\n",
       "    <tr>\n",
       "      <th>19880</th>\n",
       "      <td>261911</td>\n",
       "      <td>0,7143</td>\n",
       "      <td>1</td>\n",
       "      <td>17/08/23</td>\n",
       "      <td>ICSF13</td>\n",
       "      <td>2023</td>\n",
       "      <td>2</td>\n",
       "      <td>6</td>\n",
       "      <td>90</td>\n",
       "      <td>Regular</td>\n",
       "    </tr>\n",
       "    <tr>\n",
       "      <th>19881</th>\n",
       "      <td>261911</td>\n",
       "      <td>0,7143</td>\n",
       "      <td>1</td>\n",
       "      <td>17/08/23</td>\n",
       "      <td>COE70A</td>\n",
       "      <td>2023</td>\n",
       "      <td>2</td>\n",
       "      <td>8</td>\n",
       "      <td>30</td>\n",
       "      <td>Regular</td>\n",
       "    </tr>\n",
       "  </tbody>\n",
       "</table>\n",
       "<p>17444 rows × 10 columns</p>\n",
       "</div>"
      ],
      "text/plain": [
       "       ID_ANONIMO      CR PERIODO  INGRESSO  CODIGO   ANO  PERIODO.1 NOTA  CH  \\\n",
       "0           11357  0,6967       5  23/01/23   CSD21  2023          1  4,7  45   \n",
       "1           11357  0,6967       5  23/01/23   ES70P  2023          1  7,6  45   \n",
       "2           11357  0,6967       5  23/01/23   CSE20  2023          1    6  60   \n",
       "3           11357  0,6967       5  23/01/23   ES70G  2023          1  7,3  45   \n",
       "4           11357  0,6967       5  23/01/23   CSF20  2023          1  6,3  45   \n",
       "...           ...     ...     ...       ...     ...   ...        ...  ...  ..   \n",
       "19877      261036   0,695       2  09/08/23  ICSF13  2023          2  6,6  90   \n",
       "19878      261911  0,7143       1  17/08/23  ICSD21  2023          2    8  45   \n",
       "19879      261911  0,7143       1  17/08/23  ELEX10  2023          2    8  45   \n",
       "19880      261911  0,7143       1  17/08/23  ICSF13  2023          2    6  90   \n",
       "19881      261911  0,7143       1  17/08/23  COE70A  2023          2    8  30   \n",
       "\n",
       "      SITUACAOALUNO  \n",
       "0           Regular  \n",
       "1           Regular  \n",
       "2           Regular  \n",
       "3           Regular  \n",
       "4           Regular  \n",
       "...             ...  \n",
       "19877       Regular  \n",
       "19878       Regular  \n",
       "19879       Regular  \n",
       "19880       Regular  \n",
       "19881       Regular  \n",
       "\n",
       "[17444 rows x 10 columns]"
      ]
     },
     "execution_count": 42,
     "metadata": {},
     "output_type": "execute_result"
    }
   ],
   "source": [
    "dados_regulares[[int(x[3].split('/')[2].split(' ')[0]) >= 14 for x in dados_regulares.values]]"
   ]
  },
  {
   "cell_type": "code",
   "execution_count": 43,
   "id": "cd93d3ab-19f1-4506-8a32-92f824892f4b",
   "metadata": {},
   "outputs": [],
   "source": [
    "def get_all_data_from_student(student_id : int, data : pd.DataFrame):\n",
    "    return data[[x == student_id for x in data.ID_ANONIMO]]\n",
    "    pass"
   ]
  },
  {
   "cell_type": "code",
   "execution_count": 45,
   "id": "ce793154-7809-40e6-9da1-7a010a257152",
   "metadata": {},
   "outputs": [
    {
     "data": {
      "text/html": [
       "<div>\n",
       "<style scoped>\n",
       "    .dataframe tbody tr th:only-of-type {\n",
       "        vertical-align: middle;\n",
       "    }\n",
       "\n",
       "    .dataframe tbody tr th {\n",
       "        vertical-align: top;\n",
       "    }\n",
       "\n",
       "    .dataframe thead th {\n",
       "        text-align: right;\n",
       "    }\n",
       "</style>\n",
       "<table border=\"1\" class=\"dataframe\">\n",
       "  <thead>\n",
       "    <tr style=\"text-align: right;\">\n",
       "      <th></th>\n",
       "      <th>ID_ANONIMO</th>\n",
       "      <th>CR</th>\n",
       "      <th>PERIODO</th>\n",
       "      <th>INGRESSO</th>\n",
       "      <th>CODIGO</th>\n",
       "      <th>ANO</th>\n",
       "      <th>PERIODO.1</th>\n",
       "      <th>NOTA</th>\n",
       "      <th>CH</th>\n",
       "      <th>SITUACAOALUNO</th>\n",
       "    </tr>\n",
       "  </thead>\n",
       "  <tbody>\n",
       "    <tr>\n",
       "      <th>15577</th>\n",
       "      <td>123736</td>\n",
       "      <td>0,8296</td>\n",
       "      <td>10</td>\n",
       "      <td>24/09/14</td>\n",
       "      <td>FI71M</td>\n",
       "      <td>2014</td>\n",
       "      <td>2</td>\n",
       "      <td>6</td>\n",
       "      <td>60</td>\n",
       "      <td>Formado</td>\n",
       "    </tr>\n",
       "    <tr>\n",
       "      <th>15578</th>\n",
       "      <td>123736</td>\n",
       "      <td>0,8296</td>\n",
       "      <td>10</td>\n",
       "      <td>24/09/14</td>\n",
       "      <td>FI70D</td>\n",
       "      <td>2016</td>\n",
       "      <td>2</td>\n",
       "      <td>7,8</td>\n",
       "      <td>30</td>\n",
       "      <td>Formado</td>\n",
       "    </tr>\n",
       "    <tr>\n",
       "      <th>15579</th>\n",
       "      <td>123736</td>\n",
       "      <td>0,8296</td>\n",
       "      <td>10</td>\n",
       "      <td>24/09/14</td>\n",
       "      <td>EL62O</td>\n",
       "      <td>2015</td>\n",
       "      <td>1</td>\n",
       "      <td>9</td>\n",
       "      <td>45</td>\n",
       "      <td>Formado</td>\n",
       "    </tr>\n",
       "    <tr>\n",
       "      <th>15580</th>\n",
       "      <td>123736</td>\n",
       "      <td>0,8296</td>\n",
       "      <td>10</td>\n",
       "      <td>24/09/14</td>\n",
       "      <td>MA70H</td>\n",
       "      <td>2015</td>\n",
       "      <td>2</td>\n",
       "      <td>9,7</td>\n",
       "      <td>60</td>\n",
       "      <td>Formado</td>\n",
       "    </tr>\n",
       "    <tr>\n",
       "      <th>15581</th>\n",
       "      <td>123736</td>\n",
       "      <td>0,8296</td>\n",
       "      <td>10</td>\n",
       "      <td>24/09/14</td>\n",
       "      <td>MA73A</td>\n",
       "      <td>2015</td>\n",
       "      <td>2</td>\n",
       "      <td>6,8</td>\n",
       "      <td>60</td>\n",
       "      <td>Formado</td>\n",
       "    </tr>\n",
       "    <tr>\n",
       "      <th>...</th>\n",
       "      <td>...</td>\n",
       "      <td>...</td>\n",
       "      <td>...</td>\n",
       "      <td>...</td>\n",
       "      <td>...</td>\n",
       "      <td>...</td>\n",
       "      <td>...</td>\n",
       "      <td>...</td>\n",
       "      <td>...</td>\n",
       "      <td>...</td>\n",
       "    </tr>\n",
       "    <tr>\n",
       "      <th>15688</th>\n",
       "      <td>123736</td>\n",
       "      <td>0,8296</td>\n",
       "      <td>10</td>\n",
       "      <td>24/09/14</td>\n",
       "      <td>FI72N</td>\n",
       "      <td>2015</td>\n",
       "      <td>1</td>\n",
       "      <td>8,2</td>\n",
       "      <td>30</td>\n",
       "      <td>Formado</td>\n",
       "    </tr>\n",
       "    <tr>\n",
       "      <th>15689</th>\n",
       "      <td>123736</td>\n",
       "      <td>0,8296</td>\n",
       "      <td>10</td>\n",
       "      <td>24/09/14</td>\n",
       "      <td>MA70C</td>\n",
       "      <td>2018</td>\n",
       "      <td>2</td>\n",
       "      <td>8,6</td>\n",
       "      <td>60</td>\n",
       "      <td>Formado</td>\n",
       "    </tr>\n",
       "    <tr>\n",
       "      <th>15690</th>\n",
       "      <td>123736</td>\n",
       "      <td>0,8296</td>\n",
       "      <td>10</td>\n",
       "      <td>24/09/14</td>\n",
       "      <td>QB70E</td>\n",
       "      <td>2018</td>\n",
       "      <td>1</td>\n",
       "      <td>8,1</td>\n",
       "      <td>30</td>\n",
       "      <td>Formado</td>\n",
       "    </tr>\n",
       "    <tr>\n",
       "      <th>15691</th>\n",
       "      <td>123736</td>\n",
       "      <td>0,8296</td>\n",
       "      <td>10</td>\n",
       "      <td>24/09/14</td>\n",
       "      <td>QB70C</td>\n",
       "      <td>2017</td>\n",
       "      <td>1</td>\n",
       "      <td>7,6</td>\n",
       "      <td>75</td>\n",
       "      <td>Formado</td>\n",
       "    </tr>\n",
       "    <tr>\n",
       "      <th>15692</th>\n",
       "      <td>123736</td>\n",
       "      <td>0,8296</td>\n",
       "      <td>10</td>\n",
       "      <td>24/09/14</td>\n",
       "      <td>ES70G</td>\n",
       "      <td>2017</td>\n",
       "      <td>1</td>\n",
       "      <td>8,7</td>\n",
       "      <td>45</td>\n",
       "      <td>Formado</td>\n",
       "    </tr>\n",
       "  </tbody>\n",
       "</table>\n",
       "<p>116 rows × 10 columns</p>\n",
       "</div>"
      ],
      "text/plain": [
       "       ID_ANONIMO      CR  PERIODO  INGRESSO CODIGO   ANO  PERIODO.1 NOTA  CH  \\\n",
       "15577      123736  0,8296       10  24/09/14  FI71M  2014          2    6  60   \n",
       "15578      123736  0,8296       10  24/09/14  FI70D  2016          2  7,8  30   \n",
       "15579      123736  0,8296       10  24/09/14  EL62O  2015          1    9  45   \n",
       "15580      123736  0,8296       10  24/09/14  MA70H  2015          2  9,7  60   \n",
       "15581      123736  0,8296       10  24/09/14  MA73A  2015          2  6,8  60   \n",
       "...           ...     ...      ...       ...    ...   ...        ...  ...  ..   \n",
       "15688      123736  0,8296       10  24/09/14  FI72N  2015          1  8,2  30   \n",
       "15689      123736  0,8296       10  24/09/14  MA70C  2018          2  8,6  60   \n",
       "15690      123736  0,8296       10  24/09/14  QB70E  2018          1  8,1  30   \n",
       "15691      123736  0,8296       10  24/09/14  QB70C  2017          1  7,6  75   \n",
       "15692      123736  0,8296       10  24/09/14  ES70G  2017          1  8,7  45   \n",
       "\n",
       "      SITUACAOALUNO  \n",
       "15577       Formado  \n",
       "15578       Formado  \n",
       "15579       Formado  \n",
       "15580       Formado  \n",
       "15581       Formado  \n",
       "...             ...  \n",
       "15688       Formado  \n",
       "15689       Formado  \n",
       "15690       Formado  \n",
       "15691       Formado  \n",
       "15692       Formado  \n",
       "\n",
       "[116 rows x 10 columns]"
      ]
     },
     "execution_count": 45,
     "metadata": {},
     "output_type": "execute_result"
    }
   ],
   "source": [
    "get_all_data_from_student(select_random_student(dados_formados, 100, 14), dados_formados)"
   ]
  },
  {
   "cell_type": "markdown",
   "id": "5ef0a682-714e-49af-9086-207d443830b9",
   "metadata": {},
   "source": [
    "## Preparo dos dados\n",
    "\n",
    "Queremos recomendar disciplinas para estudantes com base em sua performance nas disciplinas prévias. Para tal, precisamos converter os dados do DataFrame para um vetor de _features_. Escolhemos para esse teste simples utilizar a nota do estudante como valor a ser analisado. A nota utilizada será a menor entre todas as vezes que a disciplina foi cursada.\n",
    "\n",
    "| Curso | Nota | Ultima data ((Ano - 2000)*2 + periodo)|\n",
    "| -- | -- | -- |\n",
    "| FI73A | 6 |  20 (2009 - 2o periodo) |\n",
    "| EL68A | -1 ( nao fez ) |  -1 ( nao fez ) |\n",
    "| GE60C | 4 (passou, mas reprovou uma vez com 4) |  20 (2009 - 2o periodo) |"
   ]
  },
  {
   "cell_type": "code",
   "execution_count": 46,
   "id": "2d48e31d-9aff-456a-8bba-48fe3f22922b",
   "metadata": {},
   "outputs": [],
   "source": [
    "from typing import List\n",
    "\n",
    "def get_user_array(student_id : int, data : pd.DataFrame):\n",
    "    student_data = get_all_data_from_student(student_id, data)\n",
    "    student_array : List[ List[string], List[float], List[int] ] = [[],[],[]]\n",
    "    for course in student_data.values:\n",
    "        if [course[4]] not in student_array[0]:\n",
    "            print([course[4], float(str(course[7]).replace(',','.')),(course[5] - 2000)*2 + course[6]])\n",
    "            student_array[0].append(course[4])\n",
    "            student_array[1].append(float(str(course[7]).replace(',','.')))\n",
    "            student_array[2].append((course[5] - 2000)*2 + course[6])\n",
    "        else:\n",
    "            index = student_array[0].index(course[4])\n",
    "            nota = float(str(course[7]).replace(',','.'))\n",
    "            student_array[1] = nota if nota < student_array[1][index] else student_array[1][index]\n",
    "    \n",
    "    pass"
   ]
  },
  {
   "cell_type": "code",
   "execution_count": 47,
   "id": "b199678c-a033-4f12-a6d6-7c744c7e9a93",
   "metadata": {},
   "outputs": [
    {
     "name": "stdout",
     "output_type": "stream",
     "text": [
      "['EL66C', 7.3, 20]\n",
      "['IF6AE', 10.0, 25]\n",
      "['IF6AG', 9.2, 24]\n",
      "['IF6AL', 9.0, 25]\n",
      "['IF6AB', 8.9, 25]\n",
      "['IF60A', 8.8, 24]\n",
      "['ES60F', 10.0, 19]\n",
      "['ES60G', 7.8, 20]\n",
      "['IF69D', 6.1, 24]\n",
      "['ES60A', 10.0, 18]\n",
      "['EL62A', 10.0, 17]\n",
      "['MA63B', 9.9, 18]\n",
      "['MA61A', 7.0, 16]\n",
      "['MA63A', 5.2, 18]\n",
      "['MA65A', 8.7, 18]\n",
      "['MA62A', 7.5, 17]\n",
      "['IF60K', 0.0, 25]\n",
      "['GE60B', 8.1, 22]\n",
      "['IF61C', 9.3, 16]\n",
      "['FI62A', 7.3, 17]\n",
      "['FI66A', 8.1, 20]\n",
      "['ES65A', 9.1, 24]\n",
      "['MA61B', 7.2, 16]\n",
      "['FI61A', 8.9, 16]\n",
      "['IF63F', 8.3, 18]\n",
      "['ES61A', 8.6, 16]\n",
      "['QB62A', 7.7, 17]\n",
      "['IF62J', 9.0, 17]\n",
      "['IF66B', 7.8, 21]\n",
      "['FI63A', 7.6, 17]\n",
      "['EL68F', 8.2, 23]\n",
      "['ENADE C', nan, 26]\n",
      "['GE60D', 6.5, 21]\n",
      "['EL65A', 7.8, 19]\n",
      "['FI64C', 7.5, 19]\n",
      "['IF64C', 5.0, 19]\n",
      "['EL63B', 5.7, 18]\n",
      "['IF63C', 8.4, 18]\n",
      "['IF63E', 6.9, 18]\n",
      "['ENADE I', 0.0, 18]\n",
      "['ES60B', 10.0, 24]\n",
      "['ES60D', 6.8, 25]\n",
      "['IF66C', 8.4, 21]\n",
      "['IF66D', 7.0, 21]\n",
      "['IF65E', 8.6, 20]\n",
      "['EL65H', 5.0, 20]\n",
      "['IF65D', 10.0, 20]\n",
      "['IF64J', 9.6, 19]\n",
      "['IF65C', 6.3, 20]\n",
      "['EL64H', 7.6, 20]\n",
      "['EL64H', 4.0, 19]\n",
      "['EL65G', 6.0, 19]\n",
      "['IF67C', 8.7, 22]\n",
      "['EL66D', 9.5, 22]\n",
      "['IF66J', 7.7, 21]\n",
      "['IF67B', 9.0, 23]\n",
      "['IF67B', 0.0, 22]\n",
      "['EL66H', 4.6, 21]\n",
      "['EL66I', 6.5, 21]\n",
      "['EL66G', 5.1, 21]\n",
      "['EL66H', 6.0, 24]\n",
      "['IF61B', 7.8, 16]\n",
      "['IF60J', 10.0, 25]\n",
      "['IF60B', 9.5, 25]\n",
      "['EL68E', 7.8, 23]\n",
      "['EL68G', 7.1, 23]\n",
      "['IF68D', 6.8, 23]\n",
      "['IF68E', 9.6, 23]\n",
      "['IF67H', 8.9, 22]\n",
      "['IF67D', 6.0, 22]\n",
      "['EL68A', 9.0, 22]\n",
      "['GE60C', 6.8, 23]\n",
      "['IF62C', 8.9, 17]\n",
      "['GE60A', 7.2, 24]\n",
      "['QB60A', 8.0, 23]\n",
      "None\n"
     ]
    }
   ],
   "source": [
    "print(get_user_array(93846, dados_formados))"
   ]
  },
  {
   "cell_type": "markdown",
   "id": "b725d105-eb2d-43cc-9750-271042654d01",
   "metadata": {},
   "source": [
    "## Recomendações \"ingênuas\""
   ]
  },
  {
   "cell_type": "markdown",
   "id": "21b80b18-0bb9-4aa2-b98e-6bcead54316b",
   "metadata": {},
   "source": [
    "### Recomendando os mais populares"
   ]
  },
  {
   "cell_type": "code",
   "execution_count": 48,
   "id": "4d098686-f83e-404a-94d1-70dfca37bbd6",
   "metadata": {},
   "outputs": [],
   "source": [
    "import numpy as np\n",
    "\n",
    "disciplinas = []\n",
    "with open('input/dependencias.txt') as f:\n",
    "    for line in f:\n",
    "        curr = line.split(';')\n",
    "        if 'P8' in curr:\n",
    "            curr = curr[1].split('\\n')[0]\n",
    "            disciplinas.append(curr)\n",
    "\n",
    "disciplinas_obrigatorias = ['GE70D', 'EEC31', 'CSS30','EEX23']\n",
    "disciplinas = np.array(disciplinas)\n",
    "disciplinas = disciplinas[[disc not in disciplinas_obrigatorias for disc in disciplinas]]\n",
    "\n",
    "dados_formados_path = 'input/dados_formados.csv'\n",
    "dados_formados = pd.read_csv(dados_formados_path, delimiter=';')\n",
    "\n",
    "dados_formados_optativas = dados_formados[[int(x[3].split('/')[2].split(' ')[0]) >= 14 for x in dados_formados.values]]\n",
    "dados_formados_optativas = dados_formados_optativas[[float(str(x[7]).replace(',','.')) >= 6 for x in dados_formados_optativas.values]]\n",
    "dados_formados_optativas = dados_formados_optativas[[x[4] != 'ES70N' or x[5] > 2017 for x in dados_formados_optativas.values]]\n",
    "dados_formados_optativas = dados_formados_optativas[[x[4] != 'FI70D' or x[5] > 2017 for x in dados_formados_optativas.values]]\n",
    "dados_formados_optativas = dados_formados_optativas[[x[4] != 'FI70A' or x[5] > 2017 for x in dados_formados_optativas.values]]\n",
    "dados_formados_optativas = dados_formados_optativas[[x[4] != 'GE70F' or x[5] > 2017 for x in dados_formados_optativas.values]]\n",
    "dados_formados_optativas = dados_formados_optativas[dados_formados_optativas.CODIGO.isin(disciplinas)]"
   ]
  },
  {
   "cell_type": "code",
   "execution_count": 49,
   "id": "f7830e13-96b6-4aa3-91a4-82c5afdd9eff",
   "metadata": {},
   "outputs": [
    {
     "name": "stdout",
     "output_type": "stream",
     "text": [
      "Counter({'CSH30': 61, 'CSV30': 35, 'CSH42': 33, 'CSI53': 18, 'CSV40': 15, 'CSR41': 14, 'CSR44': 14, 'CSR42': 13, 'MA70C': 12, 'ED70T': 11, 'CSB51': 11, 'CSV45': 10, 'CSI41': 10, 'CSB41': 10, 'DI84D': 10, 'CSM41': 9, 'CSM43': 9, 'CSR43': 9, 'CSM44': 9, 'ES70J': 8, 'ES70B': 8, 'CSM40': 7, 'CSB53': 7, 'CSA44': 6, 'ES70N': 6, 'GE70F': 6, 'CSH44': 5, 'CSB54': 5, 'CSH43': 4, 'CSM30': 4, 'CSE40': 4, 'EEY41': 4, 'CSI56': 4, 'ED70U': 4, 'CSA45': 3, 'CSA42': 3, 'FI70D': 3, 'FI70B': 3, 'EL64B': 2, 'CSI58': 2, 'CSR53': 2, 'CSD41': 2, 'CSD40': 2, 'CSG42': 2, 'CSV52': 2, 'CSB52': 2, 'FI70A': 2, 'EL6AE': 1, 'CSI54': 1, 'CSW47': 1, 'CSD52': 1, 'CSR45': 1, 'EEY42': 1, 'CSH41': 1, 'EEY51': 1, 'EEL51': 1, 'CSR48': 1, 'CSI31': 1, 'IF6BV': 1, 'EL6CB': 1, 'CSG44': 1, 'FI70E': 1, 'CSA43': 1, 'EEY43': 1, 'CSG48': 1, 'EEC41': 1, 'CSH45': 1, 'CSI55': 1, 'CSE43': 1, 'CSW45': 1, 'CSI51': 1, 'CSV41': 1, 'CSI57': 1, 'FCH7HB': 1, 'CSR47': 1, 'EEY44': 1, 'CSA41': 1, 'EL75H': 1})\n"
     ]
    }
   ],
   "source": [
    "from collections import Counter\n",
    "\n",
    "popular_courses = Counter([materia for materia in dados_formados_optativas[\"CODIGO\"]])\n",
    "\n",
    "print(popular_courses)"
   ]
  },
  {
   "cell_type": "code",
   "execution_count": 119,
   "id": "a7130218-ece3-4c5c-a312-aac91bc41046",
   "metadata": {},
   "outputs": [],
   "source": [
    "from typing import List\n",
    "\n",
    "# Recebe um estudante e sugere as disciplinas mais populares que ele não fez ainda\n",
    "def sugestoes_populares(student_id : int, max_sugestoes : int, data : pd.DataFrame) -> List:\n",
    "    suggestions = [interest for interest, _ in popular_courses.most_common() if interest not in get_all_data_from_student(student_id, data)[\"CODIGO\"].unique()]\n",
    "    return suggestions[:max_sugestoes]"
   ]
  },
  {
   "cell_type": "code",
   "execution_count": 124,
   "id": "3958aa39-efcd-4344-aef2-90cd07d68ed3",
   "metadata": {},
   "outputs": [
    {
     "name": "stdout",
     "output_type": "stream",
     "text": [
      "123688\n"
     ]
    }
   ],
   "source": [
    "aluno = (select_random_student(dados_formados, 100, 14))\n",
    "print(aluno)"
   ]
  },
  {
   "cell_type": "code",
   "execution_count": 125,
   "id": "6cd0b68a-0a6d-46c5-8858-7ed3f8d65817",
   "metadata": {},
   "outputs": [
    {
     "name": "stdout",
     "output_type": "stream",
     "text": [
      "['CSH42', 'CSI53', 'CSR44', 'MA70C', 'ED70T']\n"
     ]
    }
   ],
   "source": [
    "print(sugestoes_populares(aluno, 5, dados_formados))"
   ]
  },
  {
   "cell_type": "code",
   "execution_count": 127,
   "id": "b73d3e31-00fc-4a2e-963d-df125f7b439d",
   "metadata": {},
   "outputs": [
    {
     "data": {
      "text/plain": [
       "['CSA44',\n",
       " 'CSA45',\n",
       " 'CSH30',\n",
       " 'CSB41',\n",
       " 'CSI56',\n",
       " 'CSR42',\n",
       " 'CSA42',\n",
       " 'CSI41',\n",
       " 'CSR53',\n",
       " 'CSR41',\n",
       " 'CSV40',\n",
       " 'CSV30']"
      ]
     },
     "execution_count": 127,
     "metadata": {},
     "output_type": "execute_result"
    }
   ],
   "source": [
    "[x for x in get_all_data_from_student(aluno, dados_formados)[\"CODIGO\"] if x in dados_formados_optativas[\"CODIGO\"].unique()]"
   ]
  },
  {
   "cell_type": "code",
   "execution_count": 128,
   "id": "ffccbfde-30a6-408d-8ec6-bb5bcfead6c9",
   "metadata": {},
   "outputs": [
    {
     "data": {
      "text/plain": [
       "array(['CSM41', 'CSH43', 'EL64B', 'MA70C', 'CSM43', 'CSH30', 'EL6AE',\n",
       "       'CSI58', 'CSR53', 'CSR41', 'CSI54', 'CSW47', 'CSV30', 'CSH42',\n",
       "       'CSM40', 'CSD41', 'CSV45', 'CSM30', 'CSE40', 'EEY41', 'CSR43',\n",
       "       'CSV40', 'CSR44', 'CSI53', 'CSI41', 'CSA44', 'CSA45', 'CSB41',\n",
       "       'CSI56', 'CSD52', 'CSR45', 'CSD40', 'ES70J', 'ES70B', 'EEY42',\n",
       "       'DI84D', 'CSM44', 'CSH41', 'ED70T', 'CSR42', 'CSG42', 'ED70U',\n",
       "       'CSA42', 'CSB51', 'EEY51', 'EEL51', 'CSB53', 'CSR48', 'ES70N',\n",
       "       'CSH44', 'CSB54', 'CSI31', 'IF6BV', 'GE70F', 'FI70D', 'EL6CB',\n",
       "       'CSG44', 'FI70E', 'FI70B', 'CSA43', 'EEY43', 'CSG48', 'EEC41',\n",
       "       'CSH45', 'CSV52', 'CSB52', 'CSI55', 'CSE43', 'CSW45', 'CSI51',\n",
       "       'CSV41', 'CSI57', 'FI70A', 'FCH7HB', 'CSR47', 'EEY44', 'CSA41',\n",
       "       'EL75H'], dtype=object)"
      ]
     },
     "execution_count": 128,
     "metadata": {},
     "output_type": "execute_result"
    }
   ],
   "source": [
    "dados_formados_optativas[\"CODIGO\"].unique()"
   ]
  },
  {
   "cell_type": "code",
   "execution_count": null,
   "id": "8143a25f-bf08-4a16-8916-16a1ca5630a6",
   "metadata": {},
   "outputs": [],
   "source": []
  }
 ],
 "metadata": {
  "kernelspec": {
   "display_name": "Python 3 (ipykernel)",
   "language": "python",
   "name": "python3"
  },
  "language_info": {
   "codemirror_mode": {
    "name": "ipython",
    "version": 3
   },
   "file_extension": ".py",
   "mimetype": "text/x-python",
   "name": "python",
   "nbconvert_exporter": "python",
   "pygments_lexer": "ipython3",
   "version": "3.11.7"
  }
 },
 "nbformat": 4,
 "nbformat_minor": 5
}
