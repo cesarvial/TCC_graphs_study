{
 "cells": [
  {
   "cell_type": "markdown",
   "id": "ec49068b-00f9-465a-bd92-642c50af4e09",
   "metadata": {},
   "source": [
    "# Recomendação por filtragem colaborativa de Usuário"
   ]
  },
  {
   "cell_type": "markdown",
   "id": "834415bb-b749-465e-a005-c4211be46fb3",
   "metadata": {},
   "source": [
    "## Setup"
   ]
  },
  {
   "cell_type": "code",
   "execution_count": 2,
   "id": "0a355d5a-e62f-4323-bff1-71d2b5cd2a2b",
   "metadata": {},
   "outputs": [],
   "source": [
    "import pandas as pd\n",
    "\n",
    "dados_formados_path = 'input/dados_formados.csv'\n",
    "dados_regulares_path = 'input/dados_regulares.csv'\n",
    "dados_trancados_path = 'input/dados_trancados.csv'\n",
    "dados_desistentes_path = 'input/dados_desistentes.csv'\n",
    "\n",
    "dados = {\n",
    "    \"formados\": pd.read_csv(dados_formados_path, delimiter=';'),\n",
    "    \"regulares\": pd.read_csv(dados_regulares_path, delimiter=';'),\n",
    "    \"desistentes\": pd.read_csv(dados_desistentes_path, delimiter=';'),\n",
    "    \"trancados\": pd.read_csv(dados_trancados_path, delimiter=';')\n",
    "}\n",
    "\n",
    "dados.update(todos = pd.concat([dados[\"desistentes\"], dados[\"regulares\"], dados[\"formados\"], dados[\"trancados\"]]))\n"
   ]
  },
  {
   "cell_type": "markdown",
   "id": "615d85f8-851c-4c9c-b7c4-71baba237c49",
   "metadata": {},
   "source": [
    "## Funções auxiliares\n",
    "### select_random_student(data : pd.DataFrame, max_tries : int, minimum_entry_year : int) -> int\n",
    "Seleciona um ID de estudante aleatório.\n",
    "\n",
    "### get_all_data_from_student(student_id : int, data : pd.DataFrame) -> pd.DataFrame\n",
    "Retorna apenas os dados do estudante presentes no dataframe data.\n",
    "\n",
    "### get_user_array(student_id : int, data : pd.DataFrame) -> defaultdict\n",
    "Retorna um defaultdict com as disciplinas e menor nota obtida que o aluno cursou.\n",
    "\n",
    "### sugestoes_populares(student_id : int, max_sugestoes : int, data : pd.DataFrame) -> List\n",
    "Sugere disciplinas para o estudante com base nas disciplinas entre os alunos formados até 2023\n",
    "\n",
    "### todas_disciplinas: np.array\n",
    "Array com o codigo de todas as disciplinas dentro dos dados"
   ]
  },
  {
   "cell_type": "code",
   "execution_count": 19,
   "id": "8916d696-a698-4c45-9b3b-076c118ddb8c",
   "metadata": {},
   "outputs": [],
   "source": [
    "def select_random_student(data : pd.DataFrame, max_tries : int, minimum_entry_year : int) -> int:\n",
    "    id = 0\n",
    "    tries = 0\n",
    "\n",
    "    minimum_entry_year -= 2000\n",
    "    \n",
    "    while id == 0 and tries < max_tries:\n",
    "        try:\n",
    "            id = data[[int(x[3].split('/')[2].split(' ')[0]) >= minimum_entry_year for x in data.values]].sample()\n",
    "            return int(id.ID_ANONIMO.iloc[0])\n",
    "        except:\n",
    "            id = 0\n",
    "            tries += 1\n",
    "    return 0"
   ]
  },
  {
   "cell_type": "code",
   "execution_count": 4,
   "id": "f69e3585-de6d-4244-a1cb-d8e40ab15c19",
   "metadata": {},
   "outputs": [],
   "source": [
    "def get_all_data_from_student(student_id : int, data : pd.DataFrame):\n",
    "    return data[[x == student_id for x in data.ID_ANONIMO]]\n",
    "    pass"
   ]
  },
  {
   "cell_type": "code",
   "execution_count": 5,
   "id": "42235dd6-f731-42b3-aae0-4e107e481953",
   "metadata": {},
   "outputs": [],
   "source": [
    "from typing import List\n",
    "from collections import defaultdict\n",
    "\n",
    "def centralized_cosine(user_array):\n",
    "    vec_med = sum(user_array.values())/len(user_array.values())\n",
    "    for key in user_array:\n",
    "        user_array[key] -= vec_med\n",
    "    return user_array\n",
    "\n",
    "def get_user_array(student_id : int, data : pd.DataFrame, centralize_cosine = True):\n",
    "    student_data = get_all_data_from_student(student_id, data)\n",
    "\n",
    "    student_array : Dict[str, float] = defaultdict(lambda : 0)\n",
    "    \n",
    "    for course in student_data.values:\n",
    "        if student_array[course[4]] == 0:\n",
    "            #print([course[4], float(str(course[7]).replace(',','.')),(course[5] - 2000)*2 + course[6]])\n",
    "            student_array[course[4]] = float(str(course[7]).replace(',','.'))\n",
    "            if student_array[course[4]] != student_array[course[4]]:\n",
    "                student_array[course[4]] = 0\n",
    "        else:\n",
    "            nota = float(str(course[7]).replace(',','.'))\n",
    "            student_array[course[4]] = nota if nota < student_array[course[4]] else student_array[course[4]]\n",
    "    \n",
    "    if centralize_cosine and len(student_array) != 0:\n",
    "        student_array = centralized_cosine(student_array)\n",
    "    \n",
    "    return student_array"
   ]
  },
  {
   "cell_type": "code",
   "execution_count": 6,
   "id": "f2ffef73-6873-4d95-9e9a-cdd93ee76286",
   "metadata": {},
   "outputs": [],
   "source": [
    "import numpy as np\n",
    "\n",
    "disciplinas = []\n",
    "with open('input/dependencias.txt') as f:\n",
    "    for line in f:\n",
    "        curr = line.split(';')\n",
    "        if 'P8' in curr:\n",
    "            curr = curr[1].split('\\n')[0]\n",
    "            disciplinas.append(curr)\n",
    "\n",
    "disciplinas_obrigatorias = ['GE70D', 'EEC31', 'CSS30','EEX23']\n",
    "optativas = np.array(disciplinas)\n",
    "optativas = optativas[[disc not in disciplinas_obrigatorias for disc in optativas]]"
   ]
  },
  {
   "cell_type": "code",
   "execution_count": 7,
   "id": "5389b7a8-0a31-4fc6-a669-6ec4b3c9c431",
   "metadata": {},
   "outputs": [],
   "source": [
    "# Dados dos formados contendo apenas optativas, do melhor jeito que conseguimos (sem certeza de completude ou corretude)\n",
    "\n",
    "dados_formados_optativas = dados[\"formados\"][[int(x[3].split('/')[2].split(' ')[0]) >= 14 for x in dados[\"formados\"].values]]\n",
    "dados_formados_optativas = dados_formados_optativas[[float(str(x[7]).replace(',','.')) >= 6 for x in dados_formados_optativas.values]]\n",
    "dados_formados_optativas = dados_formados_optativas[[x[4] != 'ES70N' or x[5] > 2017 for x in dados_formados_optativas.values]]\n",
    "dados_formados_optativas = dados_formados_optativas[[x[4] != 'FI70D' or x[5] > 2017 for x in dados_formados_optativas.values]]\n",
    "dados_formados_optativas = dados_formados_optativas[[x[4] != 'FI70A' or x[5] > 2017 for x in dados_formados_optativas.values]]\n",
    "dados_formados_optativas = dados_formados_optativas[[x[4] != 'GE70F' or x[5] > 2017 for x in dados_formados_optativas.values]]\n",
    "dados_formados_optativas = dados_formados_optativas[dados_formados_optativas.CODIGO.isin(disciplinas)]"
   ]
  },
  {
   "cell_type": "code",
   "execution_count": 8,
   "id": "fa0d5a38-3b8d-4cdc-96b9-974dedad512b",
   "metadata": {},
   "outputs": [],
   "source": [
    "from collections import Counter\n",
    "\n",
    "popular_courses = Counter([materia for materia in dados_formados_optativas[\"CODIGO\"]])"
   ]
  },
  {
   "cell_type": "code",
   "execution_count": 9,
   "id": "cbf86d5f-f0f0-48ee-a09d-a01ade121824",
   "metadata": {},
   "outputs": [],
   "source": [
    "# Recomendação de disciplinas populares\n",
    "from typing import List\n",
    "\n",
    "# Recebe um estudante e sugere as disciplinas mais populares que ele não fez ainda\n",
    "def sugestoes_populares(student_id : int, max_sugestoes : int, data : pd.DataFrame) -> List:\n",
    "    suggestions = [interest for interest, _ in popular_courses.most_common() if interest not in get_all_data_from_student(student_id, data)[\"CODIGO\"].unique()]\n",
    "    return suggestions[:max_sugestoes]"
   ]
  },
  {
   "cell_type": "code",
   "execution_count": 10,
   "id": "ddc3a27e-504b-4bec-8383-019cec78d740",
   "metadata": {},
   "outputs": [],
   "source": [
    "todas_disciplinas = []\n",
    "\n",
    "for frame in dados:\n",
    "    todas_disciplinas.extend(dados[frame][\"CODIGO\"].unique())\n",
    "\n",
    "todas_disciplinas = np.unique(np.array(todas_disciplinas))"
   ]
  },
  {
   "cell_type": "markdown",
   "id": "c466f061-6a57-4d14-ba0d-1c3aad2c2cb7",
   "metadata": {},
   "source": [
    "## Recomendação por Filtragem Colaborativa de Usuários"
   ]
  },
  {
   "cell_type": "code",
   "execution_count": 11,
   "id": "efb69a45-3053-49a9-9e38-abce25aa4a13",
   "metadata": {},
   "outputs": [],
   "source": [
    "from numpy import dot\n",
    "from numpy.linalg import norm\n",
    "import math\n",
    "\n",
    "def cos_sim(a : List[int], b : List[int]) -> int:\n",
    "    return dot(a, np.transpose(b))/(norm(a)*norm(b))\n",
    "\n",
    "# O cache deve ser criado com os mesmos dados utilizados nas funções\n",
    "def create_cache_user_arrays(data, centralize_cosine = True):\n",
    "    return {int(identifier): get_user_array(identifier, data, centralize_cosine = centralize_cosine) for identifier in data[\"ID_ANONIMO\"].unique() if identifier == identifier}\n",
    "        \n",
    "def most_similar_students_to(user_id : int, student_ids : List[int], centralize_cosine = True, include_self = False,\n",
    "                            cache = None):\n",
    "    pairs = []\n",
    "\n",
    "    user_array = get_user_array(user_id, dados[\"todos\"], centralize_cosine = centralize_cosine)\n",
    "    user_list = []\n",
    "    for course in user_array:\n",
    "        user_list.append(user_array[course] if user_array[course] > 0 else 0)\n",
    "\n",
    "    for id in student_ids:\n",
    "        if include_self or id != user_id:\n",
    "            if cache != None:\n",
    "                student_array = cache[id]\n",
    "            else:\n",
    "                student_array = get_user_array(id, dados[\"todos\"], centralize_cosine = centralize_cosine)\n",
    "            \n",
    "            student_list = []\n",
    "\n",
    "            for course in user_array:\n",
    "                #print(student_array[course] if student_array[course] > 0 else 1)\n",
    "                student_list.append(student_array[course] if student_array[course] > 0 else 0)\n",
    "\n",
    "\n",
    "            if norm(user_list)*norm(student_list) != 0 and cos_sim(user_list, student_list) == cos_sim(user_list, student_list):\n",
    "                pairs.append((int(id), cos_sim(user_list, student_list)))\n",
    "    \n",
    "    return sorted(pairs, key = lambda pair: pair[-1], reverse = True)"
   ]
  },
  {
   "cell_type": "code",
   "execution_count": 12,
   "id": "6ae370b4-d243-4de3-b79a-32a69a2ccded",
   "metadata": {},
   "outputs": [],
   "source": [
    "def user_based_suggestions(user_id: int, include_user_interests: bool = False, \n",
    "                           only_optionals = True, data_rec = dados[\"formados\"], data_user = dados[\"todos\"],\n",
    "                           disciplinas_optativas = optativas, centralize_cosine = True, reduce_popularity_weight = True, cache = None):\n",
    "    # Some as semelhanças\n",
    "    suggestions : Dict[str, float] = defaultdict(float)\n",
    "    times_coursed : Dict[str, float] = defaultdict(int)\n",
    "        \n",
    "    if cache != None:\n",
    "        for other_user_id, similarity in most_similar_students_to(user_id, data_rec[\"ID_ANONIMO\"].unique(), centralize_cosine = centralize_cosine, cache = cache):\n",
    "            for interest in get_all_data_from_student(other_user_id, data_rec)[\"CODIGO\"].values:\n",
    "                suggestions[interest] += similarity\n",
    "                times_coursed[interest] += 1\n",
    "    else:\n",
    "        for other_user_id, similarity in most_similar_students_to(user_id, data_rec[\"ID_ANONIMO\"].unique(), centralize_cosine = centralize_cosine):\n",
    "            for interest in get_all_data_from_student(other_user_id, data_rec)[\"CODIGO\"].values:\n",
    "                suggestions[interest] += similarity\n",
    "                times_coursed[interest] += 1\n",
    "    \n",
    "    if reduce_popularity_weight:\n",
    "        for codigo in suggestions:\n",
    "            suggestions[codigo] = suggestions[codigo]/times_coursed[codigo]\n",
    "    \n",
    "    # Converta em uma lista classificada \n",
    "    suggestions = sorted(suggestions.items(),\n",
    "                        key = lambda pair: pair[-1],\n",
    "                        reverse = True)\n",
    "\n",
    "    # Exclua nao optativas\n",
    "    if only_optionals:\n",
    "        suggestions = [(suggestion, weight)\n",
    "                for suggestion, weight in suggestions\n",
    "                if suggestion in disciplinas_optativas]\n",
    "    \n",
    "    # Exclua interesses existentes\n",
    "    if include_user_interests:\n",
    "        return suggestions\n",
    "    else:\n",
    "        return [(suggestion, weight)\n",
    "                for suggestion, weight in suggestions\n",
    "                if suggestion not in get_all_data_from_student(user_id, data_user)[\"CODIGO\"].values]"
   ]
  },
  {
   "cell_type": "code",
   "execution_count": 13,
   "id": "ca5914b7",
   "metadata": {},
   "outputs": [],
   "source": [
    "cache = create_cache_user_arrays(dados[\"todos\"], centralize_cosine = True)"
   ]
  },
  {
   "cell_type": "code",
   "execution_count": 46,
   "id": "be485bea",
   "metadata": {},
   "outputs": [],
   "source": [
    "def trim_user_data(user_data, num_materias):\n",
    "    trimmed_data = user_data.copy()\n",
    "\n",
    "    trimmed_data = trimmed_data.sort_values(by=['ANO','PERIODO.1'])\n",
    "    # Dropping last n rows using drop\n",
    "    trimmed_data.drop(trimmed_data.tail(num_materias).index,\n",
    "            inplace = True)\n",
    "\n",
    "    return trimmed_data\n"
   ]
  },
  {
   "cell_type": "code",
   "execution_count": 47,
   "id": "25a7df65",
   "metadata": {},
   "outputs": [
    {
     "name": "stdout",
     "output_type": "stream",
     "text": [
      "190493\n"
     ]
    }
   ],
   "source": [
    "user_id = select_random_student(dados['formados'], 20, 2016)\n",
    "print(user_id)"
   ]
  },
  {
   "cell_type": "code",
   "execution_count": 48,
   "id": "8c7e7657",
   "metadata": {},
   "outputs": [],
   "source": [
    "user_data = get_all_data_from_student(user_id, dados['formados'])\n",
    "trimmed_data = trim_user_data(user_data, 12)"
   ]
  },
  {
   "cell_type": "code",
   "execution_count": 49,
   "id": "b95dc860",
   "metadata": {},
   "outputs": [],
   "source": [
    "user_data = user_data.sort_values(by=['ANO','PERIODO.1'])\n",
    "user_data.to_csv(f'output/dados_{user_id}.csv', sep=',')"
   ]
  },
  {
   "cell_type": "code",
   "execution_count": 50,
   "id": "bd1d7308",
   "metadata": {},
   "outputs": [],
   "source": [
    "trimmed_data = trimmed_data.sort_values(by=['ANO','PERIODO.1'])\n",
    "trimmed_data.to_csv(f'output/dados_trimmed_{user_id}.csv', sep=',')\n"
   ]
  },
  {
   "cell_type": "code",
   "execution_count": 1,
   "id": "688b9d81",
   "metadata": {
    "scrolled": true
   },
   "outputs": [
    {
     "ename": "NameError",
     "evalue": "name 'get_all_data_from_student' is not defined",
     "output_type": "error",
     "traceback": [
      "\u001b[1;31m---------------------------------------------------------------------------\u001b[0m",
      "\u001b[1;31mNameError\u001b[0m                                 Traceback (most recent call last)",
      "Cell \u001b[1;32mIn[1], line 3\u001b[0m\n\u001b[0;32m      1\u001b[0m user_id \u001b[38;5;241m=\u001b[39m \u001b[38;5;241m202266\u001b[39m\n\u001b[1;32m----> 3\u001b[0m dados_user \u001b[38;5;241m=\u001b[39m \u001b[43mget_all_data_from_student\u001b[49m(user_id, dados[\u001b[38;5;124m\"\u001b[39m\u001b[38;5;124mtodos\u001b[39m\u001b[38;5;124m\"\u001b[39m])\n\u001b[0;32m      5\u001b[0m \u001b[38;5;28;01mwith\u001b[39;00m \u001b[38;5;28mopen\u001b[39m(\u001b[38;5;124m'\u001b[39m\u001b[38;5;124msugestoes.txt\u001b[39m\u001b[38;5;124m'\u001b[39m, \u001b[38;5;124m'\u001b[39m\u001b[38;5;124mw\u001b[39m\u001b[38;5;124m'\u001b[39m) \u001b[38;5;28;01mas\u001b[39;00m file:\n\u001b[0;32m      6\u001b[0m     i \u001b[38;5;241m=\u001b[39m \u001b[38;5;241m1\u001b[39m\n",
      "\u001b[1;31mNameError\u001b[0m: name 'get_all_data_from_student' is not defined"
     ]
    }
   ],
   "source": [
    "user_id = 202266\n",
    "\n",
    "dados_user = get_all_data_from_student(user_id, dados[\"todos\"])\n",
    "\n",
    "with open('sugestoes.txt', 'w') as file:\n",
    "    i = 1\n",
    "    file.write(f'{user_id}\\n')\n",
    "    for item in user_based_suggestions(user_id, data_user = dados[\"regulares\"], data_rec = dados[\"formados\"], include_user_interests = True, cache= cache):\n",
    "        #print('Sugestao ' + str(i) + ': ' + item[0] + ', peso: ' + format(item[1], '.2f'))\n",
    "        i += 1\n",
    "        file.write(f'{item[0]}\\n')\n",
    "        "
   ]
  },
  {
   "cell_type": "code",
   "execution_count": 14,
   "id": "cb2878d2",
   "metadata": {},
   "outputs": [
    {
     "data": {
      "text/html": [
       "<div>\n",
       "<style scoped>\n",
       "    .dataframe tbody tr th:only-of-type {\n",
       "        vertical-align: middle;\n",
       "    }\n",
       "\n",
       "    .dataframe tbody tr th {\n",
       "        vertical-align: top;\n",
       "    }\n",
       "\n",
       "    .dataframe thead th {\n",
       "        text-align: right;\n",
       "    }\n",
       "</style>\n",
       "<table border=\"1\" class=\"dataframe\">\n",
       "  <thead>\n",
       "    <tr style=\"text-align: right;\">\n",
       "      <th></th>\n",
       "      <th>ID_ANONIMO</th>\n",
       "      <th>CR</th>\n",
       "      <th>PERIODO</th>\n",
       "      <th>INGRESSO</th>\n",
       "      <th>CODIGO</th>\n",
       "      <th>ANO</th>\n",
       "      <th>PERIODO.1</th>\n",
       "      <th>NOTA</th>\n",
       "      <th>CH</th>\n",
       "      <th>SITUACAOALUNO</th>\n",
       "    </tr>\n",
       "  </thead>\n",
       "  <tbody>\n",
       "    <tr>\n",
       "      <th>0</th>\n",
       "      <td>11357</td>\n",
       "      <td>0,6967</td>\n",
       "      <td>5</td>\n",
       "      <td>23/01/23</td>\n",
       "      <td>CSD21</td>\n",
       "      <td>2023</td>\n",
       "      <td>1</td>\n",
       "      <td>4,7</td>\n",
       "      <td>45</td>\n",
       "      <td>Regular</td>\n",
       "    </tr>\n",
       "    <tr>\n",
       "      <th>1</th>\n",
       "      <td>11357</td>\n",
       "      <td>0,6967</td>\n",
       "      <td>5</td>\n",
       "      <td>23/01/23</td>\n",
       "      <td>ES70P</td>\n",
       "      <td>2023</td>\n",
       "      <td>1</td>\n",
       "      <td>7,6</td>\n",
       "      <td>45</td>\n",
       "      <td>Regular</td>\n",
       "    </tr>\n",
       "    <tr>\n",
       "      <th>2</th>\n",
       "      <td>11357</td>\n",
       "      <td>0,6967</td>\n",
       "      <td>5</td>\n",
       "      <td>23/01/23</td>\n",
       "      <td>CSE20</td>\n",
       "      <td>2023</td>\n",
       "      <td>1</td>\n",
       "      <td>6</td>\n",
       "      <td>60</td>\n",
       "      <td>Regular</td>\n",
       "    </tr>\n",
       "    <tr>\n",
       "      <th>3</th>\n",
       "      <td>11357</td>\n",
       "      <td>0,6967</td>\n",
       "      <td>5</td>\n",
       "      <td>23/01/23</td>\n",
       "      <td>ES70G</td>\n",
       "      <td>2023</td>\n",
       "      <td>1</td>\n",
       "      <td>7,3</td>\n",
       "      <td>45</td>\n",
       "      <td>Regular</td>\n",
       "    </tr>\n",
       "    <tr>\n",
       "      <th>4</th>\n",
       "      <td>11357</td>\n",
       "      <td>0,6967</td>\n",
       "      <td>5</td>\n",
       "      <td>23/01/23</td>\n",
       "      <td>CSF20</td>\n",
       "      <td>2023</td>\n",
       "      <td>1</td>\n",
       "      <td>6,3</td>\n",
       "      <td>45</td>\n",
       "      <td>Regular</td>\n",
       "    </tr>\n",
       "    <tr>\n",
       "      <th>...</th>\n",
       "      <td>...</td>\n",
       "      <td>...</td>\n",
       "      <td>...</td>\n",
       "      <td>...</td>\n",
       "      <td>...</td>\n",
       "      <td>...</td>\n",
       "      <td>...</td>\n",
       "      <td>...</td>\n",
       "      <td>...</td>\n",
       "      <td>...</td>\n",
       "    </tr>\n",
       "    <tr>\n",
       "      <th>19877</th>\n",
       "      <td>261036</td>\n",
       "      <td>0,695</td>\n",
       "      <td>2</td>\n",
       "      <td>09/08/23</td>\n",
       "      <td>ICSF13</td>\n",
       "      <td>2023</td>\n",
       "      <td>2</td>\n",
       "      <td>6,6</td>\n",
       "      <td>90</td>\n",
       "      <td>Regular</td>\n",
       "    </tr>\n",
       "    <tr>\n",
       "      <th>19878</th>\n",
       "      <td>261911</td>\n",
       "      <td>0,7143</td>\n",
       "      <td>1</td>\n",
       "      <td>17/08/23</td>\n",
       "      <td>ICSD21</td>\n",
       "      <td>2023</td>\n",
       "      <td>2</td>\n",
       "      <td>8</td>\n",
       "      <td>45</td>\n",
       "      <td>Regular</td>\n",
       "    </tr>\n",
       "    <tr>\n",
       "      <th>19879</th>\n",
       "      <td>261911</td>\n",
       "      <td>0,7143</td>\n",
       "      <td>1</td>\n",
       "      <td>17/08/23</td>\n",
       "      <td>ELEX10</td>\n",
       "      <td>2023</td>\n",
       "      <td>2</td>\n",
       "      <td>8</td>\n",
       "      <td>45</td>\n",
       "      <td>Regular</td>\n",
       "    </tr>\n",
       "    <tr>\n",
       "      <th>19880</th>\n",
       "      <td>261911</td>\n",
       "      <td>0,7143</td>\n",
       "      <td>1</td>\n",
       "      <td>17/08/23</td>\n",
       "      <td>ICSF13</td>\n",
       "      <td>2023</td>\n",
       "      <td>2</td>\n",
       "      <td>6</td>\n",
       "      <td>90</td>\n",
       "      <td>Regular</td>\n",
       "    </tr>\n",
       "    <tr>\n",
       "      <th>19881</th>\n",
       "      <td>261911</td>\n",
       "      <td>0,7143</td>\n",
       "      <td>1</td>\n",
       "      <td>17/08/23</td>\n",
       "      <td>COE70A</td>\n",
       "      <td>2023</td>\n",
       "      <td>2</td>\n",
       "      <td>8</td>\n",
       "      <td>30</td>\n",
       "      <td>Regular</td>\n",
       "    </tr>\n",
       "  </tbody>\n",
       "</table>\n",
       "<p>19882 rows × 10 columns</p>\n",
       "</div>"
      ],
      "text/plain": [
       "       ID_ANONIMO      CR PERIODO  INGRESSO  CODIGO   ANO  PERIODO.1 NOTA  CH  \\\n",
       "0           11357  0,6967       5  23/01/23   CSD21  2023          1  4,7  45   \n",
       "1           11357  0,6967       5  23/01/23   ES70P  2023          1  7,6  45   \n",
       "2           11357  0,6967       5  23/01/23   CSE20  2023          1    6  60   \n",
       "3           11357  0,6967       5  23/01/23   ES70G  2023          1  7,3  45   \n",
       "4           11357  0,6967       5  23/01/23   CSF20  2023          1  6,3  45   \n",
       "...           ...     ...     ...       ...     ...   ...        ...  ...  ..   \n",
       "19877      261036   0,695       2  09/08/23  ICSF13  2023          2  6,6  90   \n",
       "19878      261911  0,7143       1  17/08/23  ICSD21  2023          2    8  45   \n",
       "19879      261911  0,7143       1  17/08/23  ELEX10  2023          2    8  45   \n",
       "19880      261911  0,7143       1  17/08/23  ICSF13  2023          2    6  90   \n",
       "19881      261911  0,7143       1  17/08/23  COE70A  2023          2    8  30   \n",
       "\n",
       "      SITUACAOALUNO  \n",
       "0           Regular  \n",
       "1           Regular  \n",
       "2           Regular  \n",
       "3           Regular  \n",
       "4           Regular  \n",
       "...             ...  \n",
       "19877       Regular  \n",
       "19878       Regular  \n",
       "19879       Regular  \n",
       "19880       Regular  \n",
       "19881       Regular  \n",
       "\n",
       "[19882 rows x 10 columns]"
      ]
     },
     "execution_count": 14,
     "metadata": {},
     "output_type": "execute_result"
    }
   ],
   "source": [
    "dados[\"regulares\"]"
   ]
  },
  {
   "cell_type": "markdown",
   "id": "f09a4eec",
   "metadata": {},
   "source": [
    "# Testes\n",
    "\n",
    "### Recall@K\n",
    "\n",
    "Recall@K = number of relevant items in the top K / total number of relevant items\n",
    "\n",
    "### Precision@K\n",
    "\n",
    "Precision@K = number of relevant items in the top K / K"
   ]
  },
  {
   "cell_type": "code",
   "execution_count": null,
   "id": "a75daeda",
   "metadata": {},
   "outputs": [],
   "source": [
    "from sklearn.model_selection import train_test_split\n",
    "\n",
    "train, test = train_test_split(dados[\"formados\"][\"ID_ANONIMO\"].unique(), test_size=0.3)\n",
    "\n",
    "dados.update(train = dados[\"todos\"].loc[dados[\"todos\"]['ID_ANONIMO'].isin(train)], \n",
    "             test = dados[\"todos\"].loc[dados[\"todos\"]['ID_ANONIMO'].isin(test)])"
   ]
  },
  {
   "cell_type": "code",
   "execution_count": null,
   "id": "e118572e",
   "metadata": {},
   "outputs": [],
   "source": [
    "from tqdm import tqdm\n",
    "\n",
    "# Para cada usuario em test, vemos quantas disciplinas que ele cursou estão entre as 10 mais sugeridas. \n",
    "# No fim, tiramos a média por usuário.\n",
    "\n",
    "def teste_sugestao(dados_train = dados[\"train\"], dados_test = dados[\"test\"], cache = None, K = 10, centralize_cosine = True, reduce_popularity_weight = True):\n",
    "    cache = create_cache_user_arrays(pd.concat([dados[\"train\"], dados[\"test\"]]), centralize_cosine = True)\n",
    "    \n",
    "    media_p = 0\n",
    "    maximo_p = 0\n",
    "    minimo_p = 9999\n",
    "    res_p = 0\n",
    "\n",
    "    media_r = 0\n",
    "    maximo_r = 0\n",
    "    minimo_r = 9999\n",
    "    res_r = 0\n",
    "    \n",
    "    n_users = 0\n",
    "\n",
    "    data = dados_test[\"ID_ANONIMO\"].unique()\n",
    "\n",
    "    for i in tqdm(range(len(data))):\n",
    "        user = data[i]\n",
    "\n",
    "        user_data = get_all_data_from_student(user, dados_test)\n",
    "\n",
    "        user_data_filtered = user_data[[x[2] < 8 for x in user_data.values]]\n",
    "\n",
    "        sugestoes = user_based_suggestions(202266, data_rec = dados_train, data_user=user_data_filtered, include_user_interests = True, cache=cache, \n",
    "                                           centralize_cosine = centralize_cosine, reduce_popularity_weight=reduce_popularity_weight)\n",
    "        if(len(user_data[user_data.CODIGO.isin(optativas)]) > 4):\n",
    "            #print(len(user_data[user_data.CODIGO.isin(optativas)]), \" optativas\")\n",
    "            n_users += 1\n",
    "            # Precision @ K\n",
    "            res_p = sum([x[0] in user_data[\"CODIGO\"].unique() for x in sugestoes[:K]])/K\n",
    "            media_p += res_p\n",
    "            if maximo_p < res_p:\n",
    "                maximo_p = res_p\n",
    "            if minimo_p > res_p:\n",
    "                minimo_p = res_p\n",
    "            # Recall @ K\n",
    "            res_r = sum([x[0] in user_data[\"CODIGO\"].unique() for x in sugestoes[:K]])/len(user_data[user_data.CODIGO.isin(optativas)])\n",
    "            media_r += res_r\n",
    "            if maximo_r < res_r:\n",
    "                maximo_r = res_r\n",
    "            if minimo_r > res_r:\n",
    "                minimo_r = res_r\n",
    "        #else:\n",
    "            #print(\"Usuario \", user, \" sem dados de optativas\")\n",
    "            \n",
    "    print(n_users, \" dados para teste\")\n",
    "\n",
    "    print(\"Media Precisão @\", K ,\"= \", media_p/len(dados_test[\"ID_ANONIMO\"].unique()))\n",
    "    print(\"Maximo Precisão @\", K , \"= \", maximo_p)\n",
    "    print(\"Minimo Precisão @\", K , \"= \", minimo_p)\n",
    "\n",
    "    print(\"Media Recall @\", K ,\"= \", media_r/len(dados_test[\"ID_ANONIMO\"].unique()))\n",
    "    print(\"Maximo Recall @\", K , \"= \", maximo_r)\n",
    "    print(\"Minimo Recall @\", K , \"= \", minimo_r)\n",
    "    pass"
   ]
  },
  {
   "cell_type": "code",
   "execution_count": null,
   "id": "6b41b783",
   "metadata": {},
   "outputs": [],
   "source": [
    "#cache_test = create_cache_user_arrays(pd.concat([dados[\"train\"], dados[\"test\"]]), centralize_cosine = True)"
   ]
  },
  {
   "cell_type": "code",
   "execution_count": null,
   "id": "4f8f7968",
   "metadata": {},
   "outputs": [
    {
     "name": "stderr",
     "output_type": "stream",
     "text": [
      "100%|██████████| 89/89 [00:41<00:00,  2.14it/s]"
     ]
    },
    {
     "name": "stdout",
     "output_type": "stream",
     "text": [
      "50  dados para teste\n",
      "Media Precisão @ 20 =  0.058426966292134834\n",
      "Maximo Precisão @ 20 =  0.25\n",
      "Minimo Precisão @ 20 =  0.0\n",
      "Media Recall @ 20 =  0.15878631356159442\n",
      "Maximo Recall @ 20 =  0.8\n",
      "Minimo Recall @ 20 =  0.0\n"
     ]
    },
    {
     "name": "stderr",
     "output_type": "stream",
     "text": [
      "\n"
     ]
    }
   ],
   "source": [
    "train, test = train_test_split(dados[\"formados\"][\"ID_ANONIMO\"].unique(), test_size=0.3)\n",
    "\n",
    "dados.update(train = dados[\"todos\"].loc[dados[\"todos\"]['ID_ANONIMO'].isin(train)], \n",
    "             test = dados[\"todos\"].loc[dados[\"todos\"]['ID_ANONIMO'].isin(test)])\n",
    "\n",
    "teste_sugestao( K = 20, centralize_cosine=True, reduce_popularity_weight = True)"
   ]
  },
  {
   "cell_type": "code",
   "execution_count": null,
   "id": "5dd6823e",
   "metadata": {},
   "outputs": [
    {
     "name": "stderr",
     "output_type": "stream",
     "text": [
      "100%|██████████| 89/89 [00:42<00:00,  2.09it/s]"
     ]
    },
    {
     "name": "stdout",
     "output_type": "stream",
     "text": [
      "50  dados para teste\n",
      "Media Precisão @ 20 =  0.01685393258426967\n",
      "Maximo Precisão @ 20 =  0.1\n",
      "Minimo Precisão @ 20 =  0.0\n",
      "Media Recall @ 20 =  0.05002647165568514\n",
      "Maximo Recall @ 20 =  0.4\n",
      "Minimo Recall @ 20 =  0.0\n"
     ]
    },
    {
     "name": "stderr",
     "output_type": "stream",
     "text": [
      "\n"
     ]
    }
   ],
   "source": [
    "\n",
    "teste_sugestao( K = 20, centralize_cosine=False, reduce_popularity_weight = True)"
   ]
  },
  {
   "cell_type": "code",
   "execution_count": null,
   "id": "791319fb",
   "metadata": {},
   "outputs": [
    {
     "name": "stderr",
     "output_type": "stream",
     "text": [
      "100%|██████████| 89/89 [00:47<00:00,  1.89it/s]"
     ]
    },
    {
     "name": "stdout",
     "output_type": "stream",
     "text": [
      "50  dados para teste\n",
      "Media Precisão @ 20 =  0.13820224719101126\n",
      "Maximo Precisão @ 20 =  0.45\n",
      "Minimo Precisão @ 20 =  0.05\n",
      "Media Recall @ 20 =  0.36589306448857023\n",
      "Maximo Recall @ 20 =  1.0\n",
      "Minimo Recall @ 20 =  0.16666666666666666\n"
     ]
    },
    {
     "name": "stderr",
     "output_type": "stream",
     "text": [
      "\n"
     ]
    }
   ],
   "source": [
    "\n",
    "teste_sugestao( K = 20, centralize_cosine=True, reduce_popularity_weight = False)"
   ]
  },
  {
   "cell_type": "code",
   "execution_count": null,
   "id": "77498e36",
   "metadata": {},
   "outputs": [
    {
     "name": "stderr",
     "output_type": "stream",
     "text": [
      "100%|██████████| 89/89 [00:48<00:00,  1.84it/s]"
     ]
    },
    {
     "name": "stdout",
     "output_type": "stream",
     "text": [
      "50  dados para teste\n",
      "Media Precisão @ 20 =  0.13820224719101126\n",
      "Maximo Precisão @ 20 =  0.45\n",
      "Minimo Precisão @ 20 =  0.05\n",
      "Media Recall @ 20 =  0.36589306448857023\n",
      "Maximo Recall @ 20 =  1.0\n",
      "Minimo Recall @ 20 =  0.16666666666666666\n"
     ]
    },
    {
     "name": "stderr",
     "output_type": "stream",
     "text": [
      "\n"
     ]
    }
   ],
   "source": [
    "\n",
    "teste_sugestao( K = 20, centralize_cosine=False, reduce_popularity_weight = False)"
   ]
  },
  {
   "cell_type": "code",
   "execution_count": null,
   "id": "e44a6a77",
   "metadata": {},
   "outputs": [
    {
     "name": "stderr",
     "output_type": "stream",
     "text": [
      "100%|██████████| 89/89 [00:41<00:00,  2.14it/s]"
     ]
    },
    {
     "name": "stdout",
     "output_type": "stream",
     "text": [
      "50  dados para teste\n",
      "Media Precisão @ 20 =  0.058426966292134834\n",
      "Maximo Precisão @ 20 =  0.25\n",
      "Minimo Precisão @ 20 =  0.0\n",
      "Media Recall @ 20 =  0.15878631356159442\n",
      "Maximo Recall @ 20 =  0.8\n",
      "Minimo Recall @ 20 =  0.0\n"
     ]
    },
    {
     "name": "stderr",
     "output_type": "stream",
     "text": [
      "\n"
     ]
    }
   ],
   "source": [
    "train, test = train_test_split(dados[\"formados\"][\"ID_ANONIMO\"].unique(), test_size=0.3)\n",
    "\n",
    "dados.update(train = dados[\"todos\"].loc[dados[\"todos\"]['ID_ANONIMO'].isin(train)], \n",
    "             test = dados[\"todos\"].loc[dados[\"todos\"]['ID_ANONIMO'].isin(test)])\n",
    "\n",
    "teste_sugestao( K = 15, centralize_cosine=True, reduce_popularity_weight = True)"
   ]
  },
  {
   "cell_type": "code",
   "execution_count": null,
   "id": "d425066f",
   "metadata": {},
   "outputs": [
    {
     "name": "stderr",
     "output_type": "stream",
     "text": [
      "100%|██████████| 89/89 [00:42<00:00,  2.09it/s]"
     ]
    },
    {
     "name": "stdout",
     "output_type": "stream",
     "text": [
      "50  dados para teste\n",
      "Media Precisão @ 20 =  0.01685393258426967\n",
      "Maximo Precisão @ 20 =  0.1\n",
      "Minimo Precisão @ 20 =  0.0\n",
      "Media Recall @ 20 =  0.05002647165568514\n",
      "Maximo Recall @ 20 =  0.4\n",
      "Minimo Recall @ 20 =  0.0\n"
     ]
    },
    {
     "name": "stderr",
     "output_type": "stream",
     "text": [
      "\n"
     ]
    }
   ],
   "source": [
    "\n",
    "teste_sugestao( K = 15, centralize_cosine=False, reduce_popularity_weight = True)"
   ]
  },
  {
   "cell_type": "code",
   "execution_count": null,
   "id": "f2f0819b",
   "metadata": {},
   "outputs": [
    {
     "name": "stderr",
     "output_type": "stream",
     "text": [
      "100%|██████████| 89/89 [00:47<00:00,  1.89it/s]"
     ]
    },
    {
     "name": "stdout",
     "output_type": "stream",
     "text": [
      "50  dados para teste\n",
      "Media Precisão @ 20 =  0.13820224719101126\n",
      "Maximo Precisão @ 20 =  0.45\n",
      "Minimo Precisão @ 20 =  0.05\n",
      "Media Recall @ 20 =  0.36589306448857023\n",
      "Maximo Recall @ 20 =  1.0\n",
      "Minimo Recall @ 20 =  0.16666666666666666\n"
     ]
    },
    {
     "name": "stderr",
     "output_type": "stream",
     "text": [
      "\n"
     ]
    }
   ],
   "source": [
    "\n",
    "teste_sugestao( K = 15, centralize_cosine=True, reduce_popularity_weight = False)"
   ]
  },
  {
   "cell_type": "code",
   "execution_count": null,
   "id": "430e2b91",
   "metadata": {},
   "outputs": [
    {
     "name": "stderr",
     "output_type": "stream",
     "text": [
      "100%|██████████| 89/89 [00:48<00:00,  1.84it/s]"
     ]
    },
    {
     "name": "stdout",
     "output_type": "stream",
     "text": [
      "50  dados para teste\n",
      "Media Precisão @ 20 =  0.13820224719101126\n",
      "Maximo Precisão @ 20 =  0.45\n",
      "Minimo Precisão @ 20 =  0.05\n",
      "Media Recall @ 20 =  0.36589306448857023\n",
      "Maximo Recall @ 20 =  1.0\n",
      "Minimo Recall @ 20 =  0.16666666666666666\n"
     ]
    },
    {
     "name": "stderr",
     "output_type": "stream",
     "text": [
      "\n"
     ]
    }
   ],
   "source": [
    "\n",
    "teste_sugestao( K = 15, centralize_cosine=False, reduce_popularity_weight = False)"
   ]
  },
  {
   "cell_type": "code",
   "execution_count": null,
   "id": "a7f8ff0a",
   "metadata": {},
   "outputs": [
    {
     "name": "stderr",
     "output_type": "stream",
     "text": [
      "100%|██████████| 89/89 [00:41<00:00,  2.14it/s]"
     ]
    },
    {
     "name": "stdout",
     "output_type": "stream",
     "text": [
      "50  dados para teste\n",
      "Media Precisão @ 20 =  0.058426966292134834\n",
      "Maximo Precisão @ 20 =  0.25\n",
      "Minimo Precisão @ 20 =  0.0\n",
      "Media Recall @ 20 =  0.15878631356159442\n",
      "Maximo Recall @ 20 =  0.8\n",
      "Minimo Recall @ 20 =  0.0\n"
     ]
    },
    {
     "name": "stderr",
     "output_type": "stream",
     "text": [
      "\n"
     ]
    }
   ],
   "source": [
    "train, test = train_test_split(dados[\"formados\"][\"ID_ANONIMO\"].unique(), test_size=0.3)\n",
    "\n",
    "dados.update(train = dados[\"todos\"].loc[dados[\"todos\"]['ID_ANONIMO'].isin(train)], \n",
    "             test = dados[\"todos\"].loc[dados[\"todos\"]['ID_ANONIMO'].isin(test)])\n",
    "\n",
    "teste_sugestao( K = 10, centralize_cosine=True, reduce_popularity_weight = True)"
   ]
  },
  {
   "cell_type": "code",
   "execution_count": null,
   "id": "36d9f3aa",
   "metadata": {},
   "outputs": [
    {
     "name": "stderr",
     "output_type": "stream",
     "text": [
      "100%|██████████| 89/89 [00:42<00:00,  2.09it/s]"
     ]
    },
    {
     "name": "stdout",
     "output_type": "stream",
     "text": [
      "50  dados para teste\n",
      "Media Precisão @ 20 =  0.01685393258426967\n",
      "Maximo Precisão @ 20 =  0.1\n",
      "Minimo Precisão @ 20 =  0.0\n",
      "Media Recall @ 20 =  0.05002647165568514\n",
      "Maximo Recall @ 20 =  0.4\n",
      "Minimo Recall @ 20 =  0.0\n"
     ]
    },
    {
     "name": "stderr",
     "output_type": "stream",
     "text": [
      "\n"
     ]
    }
   ],
   "source": [
    "\n",
    "teste_sugestao( K = 10, centralize_cosine=False, reduce_popularity_weight = True)"
   ]
  },
  {
   "cell_type": "code",
   "execution_count": null,
   "id": "65a82ef2",
   "metadata": {},
   "outputs": [
    {
     "name": "stderr",
     "output_type": "stream",
     "text": [
      "100%|██████████| 89/89 [00:47<00:00,  1.89it/s]"
     ]
    },
    {
     "name": "stdout",
     "output_type": "stream",
     "text": [
      "50  dados para teste\n",
      "Media Precisão @ 20 =  0.13820224719101126\n",
      "Maximo Precisão @ 20 =  0.45\n",
      "Minimo Precisão @ 20 =  0.05\n",
      "Media Recall @ 20 =  0.36589306448857023\n",
      "Maximo Recall @ 20 =  1.0\n",
      "Minimo Recall @ 20 =  0.16666666666666666\n"
     ]
    },
    {
     "name": "stderr",
     "output_type": "stream",
     "text": [
      "\n"
     ]
    }
   ],
   "source": [
    "\n",
    "teste_sugestao( K = 10, centralize_cosine=True, reduce_popularity_weight = False)"
   ]
  },
  {
   "cell_type": "code",
   "execution_count": null,
   "id": "2bb7d6ca",
   "metadata": {},
   "outputs": [
    {
     "name": "stderr",
     "output_type": "stream",
     "text": [
      "100%|██████████| 89/89 [00:48<00:00,  1.84it/s]"
     ]
    },
    {
     "name": "stdout",
     "output_type": "stream",
     "text": [
      "50  dados para teste\n",
      "Media Precisão @ 20 =  0.13820224719101126\n",
      "Maximo Precisão @ 20 =  0.45\n",
      "Minimo Precisão @ 20 =  0.05\n",
      "Media Recall @ 20 =  0.36589306448857023\n",
      "Maximo Recall @ 20 =  1.0\n",
      "Minimo Recall @ 20 =  0.16666666666666666\n"
     ]
    },
    {
     "name": "stderr",
     "output_type": "stream",
     "text": [
      "\n"
     ]
    }
   ],
   "source": [
    "\n",
    "teste_sugestao( K = 10, centralize_cosine=False, reduce_popularity_weight = False)"
   ]
  }
 ],
 "metadata": {
  "kernelspec": {
   "display_name": "Python 3 (ipykernel)",
   "language": "python",
   "name": "python3"
  },
  "language_info": {
   "codemirror_mode": {
    "name": "ipython",
    "version": 3
   },
   "file_extension": ".py",
   "mimetype": "text/x-python",
   "name": "python",
   "nbconvert_exporter": "python",
   "pygments_lexer": "ipython3",
   "version": "3.11.0"
  }
 },
 "nbformat": 4,
 "nbformat_minor": 5
}
