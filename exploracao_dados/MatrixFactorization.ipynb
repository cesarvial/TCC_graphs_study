{
 "cells": [
  {
   "cell_type": "markdown",
   "metadata": {},
   "source": [
    "# Fatorização de Matriz"
   ]
  },
  {
   "cell_type": "code",
   "execution_count": 39,
   "metadata": {},
   "outputs": [],
   "source": [
    "import data_processing\n",
    "import pandas as pd\n",
    "import numpy as np\n",
    "import tensorflow as tf\n",
    "\n",
    "data = data_processing.load_student_data()"
   ]
  },
  {
   "cell_type": "code",
   "execution_count": 51,
   "metadata": {},
   "outputs": [],
   "source": [
    "def build_notas_sparse_tensor(df : pd.DataFrame):\n",
    "  \"\"\"\n",
    "  Args:\n",
    "    ratings_df: a pd.DataFrame with `user_id`, `movie_id` and `rating` columns.\n",
    "  Returns:\n",
    "    A tf.SparseTensor representing the ratings matrix.\n",
    "  \"\"\"\n",
    "  # ========================= Complete this section ============================\n",
    "  indices = df[['ID_ANONIMO', 'CODIGO']].values\n",
    "  values = df['NOTA'].values\n",
    "  # ============================================================================\n",
    "\n",
    "  return tf.SparseTensor(\n",
    "      indices=indices,\n",
    "      values=values,\n",
    "      dense_shape=[df['ID_ANONIMO'].shape[0], df['CODIGO'].shape[0]])\n",
    "\n",
    "def id_to_index(df : pd.DataFrame):\n",
    "    df2 = df.copy(deep = True)\n",
    "    lista_ids = df['ID_ANONIMO'].unique()\n",
    "    lista_codigos = df['CODIGO'].unique()\n",
    "    df2['ID_ANONIMO'] = df['ID_ANONIMO'].astype('category').cat.codes\n",
    "    df2['CODIGO'] = df['CODIGO'].astype('category').cat.codes\n",
    "\n",
    "    return df2, lista_ids, lista_codigos"
   ]
  },
  {
   "cell_type": "code",
   "execution_count": 52,
   "metadata": {},
   "outputs": [],
   "source": [
    "df_form, lista_ids, lista_codigos = id_to_index(data['formados'])"
   ]
  },
  {
   "cell_type": "code",
   "execution_count": 57,
   "metadata": {},
   "outputs": [
    {
     "data": {
      "text/plain": [
       "SparseTensor(indices=tf.Tensor(\n",
       "[[  0 389]\n",
       " [  0 359]\n",
       " [  0 423]\n",
       " ...\n",
       " [295  78]\n",
       " [295 163]\n",
       " [295  97]], shape=(28889, 2), dtype=int64), values=tf.Tensor([ 8.2  7.   0.  ... -1.   9.4  9.8], shape=(28889,), dtype=float64), dense_shape=tf.Tensor([28889 28889], shape=(2,), dtype=int64))"
      ]
     },
     "execution_count": 57,
     "metadata": {},
     "output_type": "execute_result"
    }
   ],
   "source": [
    "build_notas_sparse_tensor(df_form)"
   ]
  },
  {
   "cell_type": "code",
   "execution_count": null,
   "metadata": {},
   "outputs": [],
   "source": []
  }
 ],
 "metadata": {
  "kernelspec": {
   "display_name": "tcc_venv",
   "language": "python",
   "name": "python3"
  },
  "language_info": {
   "codemirror_mode": {
    "name": "ipython",
    "version": 3
   },
   "file_extension": ".py",
   "mimetype": "text/x-python",
   "name": "python",
   "nbconvert_exporter": "python",
   "pygments_lexer": "ipython3",
   "version": "3.11.0"
  }
 },
 "nbformat": 4,
 "nbformat_minor": 2
}
