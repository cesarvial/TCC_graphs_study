{
 "cells": [
  {
   "cell_type": "markdown",
   "metadata": {},
   "source": [
    "# Representação de Trajetória\n",
    "O objetivo deste notebook é apresentar os resultados obtidos de maneira visual."
   ]
  },
  {
   "cell_type": "code",
   "execution_count": 15,
   "metadata": {},
   "outputs": [],
   "source": [
    "import data_processing\n",
    "import re\n",
    "\n",
    "data = data_processing.load_student_data()\n",
    "disciplinas = data_processing.load_disciplinas()"
   ]
  },
  {
   "cell_type": "code",
   "execution_count": null,
   "metadata": {},
   "outputs": [],
   "source": [
    "for item in disciplinas:\n",
    "    if re.search('P[1-9]', item):\n",
    "        print(item)"
   ]
  },
  {
   "cell_type": "code",
   "execution_count": null,
   "metadata": {},
   "outputs": [
    {
     "name": "stdout",
     "output_type": "stream",
     "text": [
      "QB7AH não está em nenhuma trilha?\n",
      "ED70U não está em nenhuma trilha?\n",
      "FCH7HB não está em nenhuma trilha?\n",
      "EL64B não está em nenhuma trilha?\n",
      "ED70T não está em nenhuma trilha?\n",
      "EL66B não está em nenhuma trilha?\n",
      "MA7AV não está em nenhuma trilha?\n",
      "CSG48 não está em nenhuma trilha?\n",
      "CSG42 não está em nenhuma trilha?\n",
      "CSG44 não está em nenhuma trilha?\n",
      "ES70N não está em nenhuma trilha?\n",
      "ES70J não está em nenhuma trilha?\n",
      "IF6CK não está em nenhuma trilha?\n",
      "GE70F não está em nenhuma trilha?\n",
      "EL65B não está em nenhuma trilha?\n",
      "EL6AE não está em nenhuma trilha?\n",
      "IF6BV não está em nenhuma trilha?\n",
      "ES70B não está em nenhuma trilha?\n",
      "EL6CB não está em nenhuma trilha?\n",
      "EL6EE não está em nenhuma trilha?\n",
      "EL6CC não está em nenhuma trilha?\n",
      "EL65F não está em nenhuma trilha?\n",
      "EL6BC não está em nenhuma trilha?\n",
      "EL6CA não está em nenhuma trilha?\n",
      "IF6CJ não está em nenhuma trilha?\n",
      "EL6BB não está em nenhuma trilha?\n",
      "EL6BA não está em nenhuma trilha?\n"
     ]
    }
   ],
   "source": [
    "sugestoes = []\n",
    "with open('sugestoes.txt') as file:\n",
    "    for line in file:\n",
    "        nome = line.strip().split('\\n')[0]\n",
    "        if nome in disciplinas:\n",
    "            disc = disciplinas[nome]\n",
    "            sugestoes.append(disc)\n",
    "            if disc.trilha == 'Optativas Isoladas' or disc.trilha == 'obrigatoria':\n",
    "                print(f'{disc.nome} não está em nenhuma trilha?')\n",
    "        else:\n",
    "            print(f'{nome} não está em disciplinas')"
   ]
  },
  {
   "cell_type": "code",
   "execution_count": null,
   "metadata": {},
   "outputs": [
    {
     "name": "stdout",
     "output_type": "stream",
     "text": [
      "['ELTA4', 'EL6DC']\n",
      "['QB56F', 'QB60C', 'QB70L']\n",
      "[]\n",
      "[]\n",
      "[]\n",
      "[]\n",
      "['ICSHX1', 'IF66H']\n",
      "[]\n",
      "['ELTA3', 'EL6DB']\n",
      "[]\n",
      "['ICSM46', 'IF6AG']\n",
      "['ELTE2', 'EL6AA', 'EL68G', 'ICSD41', 'IF6BO']\n",
      "['ED60G', 'ED70H']\n",
      "[]\n",
      "[]\n",
      "[]\n",
      "[]\n",
      "['ICSR41', 'IF67B']\n",
      "['ELEW40', 'ELN7AB', 'ELTE1']\n",
      "['ICSI52', 'IF68D']\n",
      "[]\n",
      "[]\n",
      "[]\n",
      "['ICSR44', 'IF68E']\n",
      "['ICSH31', 'IF63F', 'IF63O']\n",
      "[]\n",
      "['ICSE43', 'IF6BT']\n",
      "['ICSH43', 'IF68B']\n",
      "[]\n",
      "[]\n",
      "['FI65C', 'FI67A', 'ME66F']\n",
      "['ELTA1', 'EL68D']\n",
      "['CC73A', 'COC73F', 'FI62B']\n",
      "['ICSI55', 'IF6BQ']\n",
      "['ICSI51', 'IF6AC']\n",
      "['ICSV41', 'IF6BJ']\n",
      "[]\n",
      "['ICSB51', 'IF6AH']\n",
      "['ICSV30', 'IF6BM', 'IF69D']\n",
      "['ICSB41', 'IF66E']\n",
      "['ICSV40', 'IF6AF']\n",
      "['ELB52', 'ET64C', 'ET74E']\n",
      "['ICSA48', 'IF6AV']\n",
      "[]\n",
      "[]\n",
      "[]\n",
      "[]\n",
      "[]\n",
      "[]\n",
      "['ICSR43', 'IF6BP']\n",
      "[]\n",
      "['ELTA2', 'EL6DA']\n",
      "['ICSR42', 'IF6AP']\n",
      "[]\n",
      "['EDU70J', 'ED60F', 'ED70G', 'ED70V']\n",
      "['ICSE40', 'IF66G']\n",
      "[]\n",
      "[]\n",
      "['ICSI56', 'IF6AK']\n",
      "[]\n",
      "[]\n",
      "[]\n",
      "['ICSD42', 'IF6AQ']\n",
      "['ICSI41', 'IF6AJ']\n",
      "[]\n",
      "[]\n",
      "[]\n",
      "[]\n",
      "['ICSM31', 'IF66F']\n",
      "['ICSD45', 'IF67F']\n",
      "['MAT7N1', 'MA63C']\n",
      "['ICSA47', 'IF6BB']\n",
      "[]\n",
      "[]\n",
      "['GE60J', 'ICSG42']\n",
      "['ICSG44', 'IF6BF']\n",
      "['FI65C', 'FI66A', 'ME65G']\n",
      "['ES60F', 'ES70S', 'ES81A', 'FCH7HA']\n",
      "['ICSR40', 'IF6AI']\n",
      "['ES60E', 'ES72E', 'FCH7XC']\n",
      "['ICSE47', 'IF67G']\n",
      "[]\n",
      "[]\n",
      "['GEE7G1', 'GE60B']\n",
      "[]\n",
      "['ICSA49', 'IF6CL']\n",
      "[]\n",
      "[]\n",
      "[]\n",
      "['ES65A', 'ES72C', 'FCH7PA']\n",
      "[]\n",
      "[]\n",
      "[]\n",
      "[]\n",
      "[]\n",
      "[]\n",
      "['ICSE42', 'IF6BL']\n",
      "[]\n",
      "[]\n",
      "[]\n",
      "[]\n",
      "[]\n"
     ]
    }
   ],
   "source": [
    "for item in sugestoes:\n",
    "    print(item.equivalentes)"
   ]
  },
  {
   "cell_type": "code",
   "execution_count": null,
   "metadata": {},
   "outputs": [],
   "source": [
    "from typing import List\n",
    "\n",
    "def dar_sugestoes(CHS_desejada : int, sugestoes : List, id_aluno : int, dados = None):\n",
    "    # Carga horária desejada\n",
    "    CH_desejada = CHS_desejada * 15\n",
    "    if len(dados) == 0:\n",
    "        dados_aluno = (data['todos'][data['todos']['ID_ANONIMO'] == id_aluno])\n",
    "    else:\n",
    "        dados_aluno = (dados[dados['ID_ANONIMO'] == id_aluno])\n",
    "\n",
    "    dados_aluno = dados_aluno[dados_aluno['NOTA'] >= 6]\n",
    "    disciplinas_cursadas = dados_aluno['CODIGO'].unique()\n",
    "    it = 0\n",
    "\n",
    "    for disc in disciplinas:\n",
    "        i = 0\n",
    "        for item in disciplinas_cursadas:\n",
    "            if item in disciplinas[disc].equivalentes:\n",
    "                disciplinas_cursadas[i] = disc\n",
    "                break\n",
    "            i += 1\n",
    "\n",
    "    sugest_aluno = sugestoes.copy()\n",
    "\n",
    "    trilha_1 = None\n",
    "    trilha_2 = None\n",
    "\n",
    "    obrigatorias_por_periodo = []\n",
    "    ch_trilha1 = 0\n",
    "    ch_trilha2 = 0\n",
    "    ch_isoladas = 0\n",
    "\n",
    "    for i in range(0,12):\n",
    "        obrigatorias_por_periodo.append([])\n",
    "\n",
    "    for disc in disciplinas:\n",
    "        try:\n",
    "            if disciplinas[disc].trilha == 'obrigatoria' and disc not in disciplinas_cursadas and disc not in [\"CSX53\"]:\n",
    "                #print(disc)\n",
    "                obrigatorias_por_periodo[disciplinas[disc].periodo - 1].append(disc)\n",
    "                #print(disciplinas[disc].codigo)\n",
    "            elif disc in disciplinas_cursadas and disciplinas[disc].trilha != 'obrigatoria':\n",
    "                if ((trilha_1 == None and disciplinas[disc].trilha != 'Optativas Isoladas') or disciplinas[disc].trilha == trilha_1):\n",
    "                    trilha_1 = disciplinas[disc].trilha\n",
    "                    ch_trilha1 += disciplinas[disc].ch\n",
    "                    #print(f'trilha 1 : {trilha_1}')\n",
    "                elif ((trilha_2 == None and disciplinas[disc].trilha != trilha_1 and disciplinas[disc].trilha != 'Optativas Isoladas') or disciplinas[disc].trilha == trilha_2): \n",
    "                    trilha_2 = disciplinas[disc].trilha\n",
    "                    #print(f'trilha 2 : {trilha_2}')\n",
    "                    ch_trilha2 += disciplinas[disc].ch\n",
    "                else:\n",
    "                    #print(f'{disciplinas[disc].codigo}, {disciplinas[disc].trilha}')\n",
    "                    ch_isoladas += disciplinas[disc].ch\n",
    "        except KeyError:\n",
    "            print(disc)\n",
    "    # Inicio algoritmo guloso\n",
    "    formado = False\n",
    "    periodo_atual = 0\n",
    "    semestre_atual = 0\n",
    "    ch_atual = 0\n",
    "    disciplinas_semestre = []\n",
    "\n",
    "    while not formado:\n",
    "        # Processamento por período\n",
    "        disciplinas_semestre.append([])\n",
    "        ch_atual = 0\n",
    "\n",
    "        while ch_atual < CH_desejada and not formado and it < 10:\n",
    "            # Priorizamos sempre colocar as obrigatórias antes\n",
    "            while periodo_atual < 11:\n",
    "                #print(f'periodo atual {periodo_atual}')\n",
    "                if len(obrigatorias_por_periodo[periodo_atual]) > 0:\n",
    "                    for disc in obrigatorias_por_periodo[periodo_atual]:\n",
    "                        disc = disciplinas[disc]\n",
    "                        #print(disc.codigo)\n",
    "                        #print(disc.nome)\n",
    "                        ch_atual += disc.ch\n",
    "                        disciplinas_semestre[semestre_atual].append(disc.codigo)\n",
    "                        obrigatorias_por_periodo[periodo_atual].remove(disc.codigo)\n",
    "                        if len(obrigatorias_por_periodo[periodo_atual]) == 0:\n",
    "                            periodo_atual += 1\n",
    "                        if ch_atual > CH_desejada:\n",
    "                            break\n",
    "                    break\n",
    "                else:\n",
    "                    periodo_atual += 1\n",
    "            \n",
    "            if ch_atual > CH_desejada:\n",
    "                break\n",
    "\n",
    "            # Depois tentamos encaixar as optativas, priorizando as trilhas escolhidas\n",
    "            try:\n",
    "                for disc in sugest_aluno:\n",
    "                    if (trilha_1 == None or disciplinas[disc].trilha == trilha_1)  and ch_trilha1 < 90 and disciplinas[disc].trilha != 'Optativas Isoladas':\n",
    "                        #print(f'trilha 1 : {trilha_1}')\n",
    "                        trilha_1 = disciplinas[disc].trilha\n",
    "                        disciplinas_semestre[semestre_atual].append(disc)\n",
    "                        sugest_aluno.remove(disc)\n",
    "                        ch_trilha1 += disciplinas[disc].ch\n",
    "                        ch_atual += disciplinas[disc].ch\n",
    "                    elif (trilha_2 == None or disciplinas[disc].trilha == trilha_2) and ch_trilha2 < 90 and disciplinas[disc].trilha != 'Optativas Isoladas':\n",
    "                        #print(f'trilha 2 : {trilha_2}')\n",
    "                        trilha_2 = disciplinas[disc].trilha\n",
    "                        disciplinas_semestre[semestre_atual].append(disc)\n",
    "                        sugest_aluno.remove(disc)\n",
    "                        ch_trilha2 += disciplinas[disc].ch\n",
    "                        ch_atual += disciplinas[disc].ch\n",
    "                    elif ch_isoladas < 90 and disciplinas[disc].trilha != trilha_1 and disciplinas[disc].trilha != trilha_2:\n",
    "                        disciplinas_semestre[semestre_atual].append(disc)\n",
    "                        sugest_aluno.remove(disc)\n",
    "                        ch_isoladas += disciplinas[disc].ch\n",
    "                        ch_atual += disciplinas[disc].ch\n",
    "\n",
    "                    if ch_atual > CH_desejada:\n",
    "                        break\n",
    "            except KeyError:\n",
    "                print(disc)\n",
    "            formado = True\n",
    "            for periodo in obrigatorias_por_periodo:\n",
    "                if len(periodo) > 0:\n",
    "                    #print(f'Obrigatoria faltando: {len(periodo)} {periodo}')\n",
    "                    formado = False\n",
    "            if ch_trilha1 < 90 or ch_trilha2 < 90 or ch_isoladas < 90:\n",
    "                #print(f'CH T1 - {ch_trilha1} T2 {ch_trilha2} T Isolada {ch_isoladas}')\n",
    "                formado = False\n",
    "                \n",
    "            #print(formado)\n",
    "        \n",
    "        #print(formado)\n",
    "\n",
    "        semestre_atual += 1\n",
    "\n",
    "        if formado == False:\n",
    "            it += 1\n",
    "        \n",
    "\n",
    "        if formado == True or it > 15:\n",
    "            #print(f'Obrigatoria faltando: {len(periodo)} {periodo}')\n",
    "            #print(f'CH T1 - {ch_trilha1} T2 {ch_trilha2} T Isolada {ch_isoladas}')\n",
    "            return disciplinas_semestre\n",
    "\n"
   ]
  },
  {
   "cell_type": "code",
   "execution_count": null,
   "metadata": {},
   "outputs": [
    {
     "data": {
      "text/plain": [
       "8"
      ]
     },
     "execution_count": 6,
     "metadata": {},
     "output_type": "execute_result"
    }
   ],
   "source": [
    "disciplinas['EEC31'].periodo"
   ]
  },
  {
   "cell_type": "code",
   "execution_count": null,
   "metadata": {},
   "outputs": [],
   "source": [
    "#sugests_alg = dar_sugestoes(10, sugestoes, 202266)\n",
    "sugests_alg = []"
   ]
  },
  {
   "cell_type": "code",
   "execution_count": null,
   "metadata": {},
   "outputs": [],
   "source": [
    "i = 0\n",
    "for item in sugests_alg:\n",
    "    i += 1\n",
    "    print(f'Periodo {i}\\n')\n",
    "    ch_periodo = 0\n",
    "    for disc in item:\n",
    "        ch_periodo += disciplinas[disc].ch\n",
    "    print(f'Disciplinas: {item}, CHS: {ch_periodo/15}')\n"
   ]
  },
  {
   "cell_type": "code",
   "execution_count": null,
   "metadata": {},
   "outputs": [
    {
     "data": {
      "text/plain": [
       "[]"
      ]
     },
     "execution_count": 9,
     "metadata": {},
     "output_type": "execute_result"
    }
   ],
   "source": [
    "sugests_alg"
   ]
  },
  {
   "cell_type": "code",
   "execution_count": null,
   "metadata": {},
   "outputs": [],
   "source": [
    "matriz = data_processing.get_matriz()"
   ]
  },
  {
   "cell_type": "code",
   "execution_count": null,
   "metadata": {},
   "outputs": [],
   "source": [
    "with open('legenda.csv', 'w', encoding='UTF-8') as f:\n",
    "    for item in matriz.itertuples():\n",
    "        f.write(f'{item[3]},{item[4]}\\n\\n')"
   ]
  },
  {
   "cell_type": "markdown",
   "metadata": {},
   "source": [
    "## Testes"
   ]
  },
  {
   "cell_type": "code",
   "execution_count": null,
   "metadata": {},
   "outputs": [],
   "source": [
    "from data_processing import get_all_data_from_student, trim_user_data, get_course_list, user_based_suggestions, select_random_student, create_cache_user_arrays"
   ]
  },
  {
   "cell_type": "code",
   "execution_count": null,
   "metadata": {},
   "outputs": [],
   "source": [
    "user_id = select_random_student(data['formados'], 20, 2015)\n",
    "user_data = get_all_data_from_student(user_id, data['formados'])"
   ]
  },
  {
   "cell_type": "code",
   "execution_count": null,
   "metadata": {},
   "outputs": [
    {
     "ename": "KeyboardInterrupt",
     "evalue": "",
     "output_type": "error",
     "traceback": [
      "\u001b[1;31m---------------------------------------------------------------------------\u001b[0m",
      "\u001b[1;31mKeyboardInterrupt\u001b[0m                         Traceback (most recent call last)",
      "\u001b[1;32m~\\AppData\\Local\\Temp\\ipykernel_724\\56805459.py\u001b[0m in \u001b[0;36m?\u001b[1;34m()\u001b[0m\n\u001b[1;32m----> 1\u001b[1;33m \u001b[0mcache\u001b[0m \u001b[1;33m=\u001b[0m \u001b[0mcreate_cache_user_arrays\u001b[0m\u001b[1;33m(\u001b[0m\u001b[0mdata\u001b[0m\u001b[1;33m[\u001b[0m\u001b[1;34m\"todos\"\u001b[0m\u001b[1;33m]\u001b[0m\u001b[1;33m,\u001b[0m \u001b[0mcentralize_cosine\u001b[0m \u001b[1;33m=\u001b[0m \u001b[1;32mTrue\u001b[0m\u001b[1;33m)\u001b[0m\u001b[1;33m\u001b[0m\u001b[1;33m\u001b[0m\u001b[0m\n\u001b[0m",
      "\u001b[1;32mc:\\Users\\Paulo\\Documents\\Junior\\Programacao\\TCC\\TCC_graphs_study\\exploracao_dados\\data_processing.py\u001b[0m in \u001b[0;36m?\u001b[1;34m(data, centralize_cosine)\u001b[0m\n\u001b[0;32m    171\u001b[0m \u001b[1;32mdef\u001b[0m \u001b[0mcreate_cache_user_arrays\u001b[0m\u001b[1;33m(\u001b[0m\u001b[0mdata\u001b[0m\u001b[1;33m,\u001b[0m  \u001b[0mcentralize_cosine\u001b[0m \u001b[1;33m=\u001b[0m \u001b[1;32mTrue\u001b[0m\u001b[1;33m)\u001b[0m\u001b[1;33m:\u001b[0m\u001b[1;33m\u001b[0m\u001b[1;33m\u001b[0m\u001b[0m\n\u001b[1;32m--> 172\u001b[1;33m     \u001b[1;32mreturn\u001b[0m \u001b[1;33m{\u001b[0m\u001b[0mint\u001b[0m\u001b[1;33m(\u001b[0m\u001b[0midentifier\u001b[0m\u001b[1;33m)\u001b[0m\u001b[1;33m:\u001b[0m \u001b[0mget_user_array\u001b[0m\u001b[1;33m(\u001b[0m\u001b[0midentifier\u001b[0m\u001b[1;33m,\u001b[0m \u001b[0mdata\u001b[0m\u001b[1;33m,\u001b[0m \u001b[0mcentralize_cosine\u001b[0m \u001b[1;33m=\u001b[0m \u001b[0mcentralize_cosine\u001b[0m\u001b[1;33m)\u001b[0m \u001b[1;32mfor\u001b[0m \u001b[0midentifier\u001b[0m \u001b[1;32min\u001b[0m \u001b[0mdata\u001b[0m\u001b[1;33m[\u001b[0m\u001b[1;34m\"ID_ANONIMO\"\u001b[0m\u001b[1;33m]\u001b[0m\u001b[1;33m.\u001b[0m\u001b[0munique\u001b[0m\u001b[1;33m(\u001b[0m\u001b[1;33m)\u001b[0m \u001b[1;32mif\u001b[0m \u001b[0midentifier\u001b[0m \u001b[1;33m==\u001b[0m \u001b[0midentifier\u001b[0m\u001b[1;33m}\u001b[0m\u001b[1;33m\u001b[0m\u001b[1;33m\u001b[0m\u001b[0m\n\u001b[0m",
      "\u001b[1;32mc:\\Users\\Paulo\\Documents\\Junior\\Programacao\\TCC\\TCC_graphs_study\\exploracao_dados\\data_processing.py\u001b[0m in \u001b[0;36m?\u001b[1;34m(.0)\u001b[0m\n\u001b[1;32m--> 172\u001b[1;33m \u001b[1;32mdef\u001b[0m \u001b[0mcreate_cache_user_arrays\u001b[0m\u001b[1;33m(\u001b[0m\u001b[0mdata\u001b[0m\u001b[1;33m,\u001b[0m  \u001b[0mcentralize_cosine\u001b[0m \u001b[1;33m=\u001b[0m \u001b[1;32mTrue\u001b[0m\u001b[1;33m)\u001b[0m\u001b[1;33m:\u001b[0m\u001b[1;33m\u001b[0m\u001b[1;33m\u001b[0m\u001b[0m\n\u001b[0m\u001b[0;32m    173\u001b[0m     \u001b[1;32mreturn\u001b[0m \u001b[1;33m{\u001b[0m\u001b[0mint\u001b[0m\u001b[1;33m(\u001b[0m\u001b[0midentifier\u001b[0m\u001b[1;33m)\u001b[0m\u001b[1;33m:\u001b[0m \u001b[0mget_user_array\u001b[0m\u001b[1;33m(\u001b[0m\u001b[0midentifier\u001b[0m\u001b[1;33m,\u001b[0m \u001b[0mdata\u001b[0m\u001b[1;33m,\u001b[0m \u001b[0mcentralize_cosine\u001b[0m \u001b[1;33m=\u001b[0m \u001b[0mcentralize_cosine\u001b[0m\u001b[1;33m)\u001b[0m \u001b[1;32mfor\u001b[0m \u001b[0midentifier\u001b[0m \u001b[1;32min\u001b[0m \u001b[0mdata\u001b[0m\u001b[1;33m[\u001b[0m\u001b[1;34m\"ID_ANONIMO\"\u001b[0m\u001b[1;33m]\u001b[0m\u001b[1;33m.\u001b[0m\u001b[0munique\u001b[0m\u001b[1;33m(\u001b[0m\u001b[1;33m)\u001b[0m \u001b[1;32mif\u001b[0m \u001b[0midentifier\u001b[0m \u001b[1;33m==\u001b[0m \u001b[0midentifier\u001b[0m\u001b[1;33m}\u001b[0m\u001b[1;33m\u001b[0m\u001b[1;33m\u001b[0m\u001b[0m\n",
      "\u001b[1;32mc:\\Users\\Paulo\\Documents\\Junior\\Programacao\\TCC\\TCC_graphs_study\\exploracao_dados\\data_processing.py\u001b[0m in \u001b[0;36m?\u001b[1;34m(student_id, data, centralize_cosine)\u001b[0m\n\u001b[0;32m    143\u001b[0m \u001b[1;32mdef\u001b[0m \u001b[0mget_user_array\u001b[0m\u001b[1;33m(\u001b[0m\u001b[0mstudent_id\u001b[0m \u001b[1;33m:\u001b[0m \u001b[0mint\u001b[0m\u001b[1;33m,\u001b[0m \u001b[0mdata\u001b[0m \u001b[1;33m:\u001b[0m \u001b[0mpd\u001b[0m\u001b[1;33m.\u001b[0m\u001b[0mDataFrame\u001b[0m\u001b[1;33m,\u001b[0m \u001b[0mcentralize_cosine\u001b[0m \u001b[1;33m=\u001b[0m \u001b[1;32mTrue\u001b[0m\u001b[1;33m)\u001b[0m\u001b[1;33m:\u001b[0m\u001b[1;33m\u001b[0m\u001b[1;33m\u001b[0m\u001b[0m\n\u001b[1;32m--> 144\u001b[1;33m     \u001b[0mstudent_data\u001b[0m \u001b[1;33m=\u001b[0m \u001b[0mget_all_data_from_student\u001b[0m\u001b[1;33m(\u001b[0m\u001b[0mstudent_id\u001b[0m\u001b[1;33m,\u001b[0m \u001b[0mdata\u001b[0m\u001b[1;33m)\u001b[0m\u001b[1;33m\u001b[0m\u001b[1;33m\u001b[0m\u001b[0m\n\u001b[0m\u001b[0;32m    145\u001b[0m \u001b[1;33m\u001b[0m\u001b[0m\n\u001b[0;32m    146\u001b[0m     \u001b[0mstudent_array\u001b[0m \u001b[1;33m:\u001b[0m \u001b[0mDict\u001b[0m\u001b[1;33m[\u001b[0m\u001b[0mstr\u001b[0m\u001b[1;33m,\u001b[0m \u001b[0mfloat\u001b[0m\u001b[1;33m]\u001b[0m \u001b[1;33m=\u001b[0m \u001b[0mdefaultdict\u001b[0m\u001b[1;33m(\u001b[0m\u001b[1;32mlambda\u001b[0m \u001b[1;33m:\u001b[0m \u001b[1;36m0\u001b[0m\u001b[1;33m)\u001b[0m\u001b[1;33m\u001b[0m\u001b[1;33m\u001b[0m\u001b[0m\n\u001b[0;32m    147\u001b[0m \u001b[1;33m\u001b[0m\u001b[0m\n",
      "\u001b[1;32mc:\\Users\\Paulo\\Documents\\Junior\\Programacao\\TCC\\TCC_graphs_study\\exploracao_dados\\data_processing.py\u001b[0m in \u001b[0;36m?\u001b[1;34m(student_id, data)\u001b[0m\n\u001b[0;32m    128\u001b[0m \u001b[1;32mdef\u001b[0m \u001b[0mget_all_data_from_student\u001b[0m\u001b[1;33m(\u001b[0m\u001b[0mstudent_id\u001b[0m \u001b[1;33m:\u001b[0m \u001b[0mint\u001b[0m\u001b[1;33m,\u001b[0m \u001b[0mdata\u001b[0m \u001b[1;33m:\u001b[0m \u001b[0mpd\u001b[0m\u001b[1;33m.\u001b[0m\u001b[0mDataFrame\u001b[0m\u001b[1;33m)\u001b[0m\u001b[1;33m:\u001b[0m\u001b[1;33m\u001b[0m\u001b[1;33m\u001b[0m\u001b[0m\n\u001b[1;32m--> 129\u001b[1;33m     \u001b[1;32mreturn\u001b[0m \u001b[0mdata\u001b[0m\u001b[1;33m[\u001b[0m\u001b[1;33m[\u001b[0m\u001b[0mx\u001b[0m \u001b[1;33m==\u001b[0m \u001b[0mstudent_id\u001b[0m \u001b[1;32mfor\u001b[0m \u001b[0mx\u001b[0m \u001b[1;32min\u001b[0m \u001b[0mdata\u001b[0m\u001b[1;33m[\u001b[0m\u001b[1;34m'ID_ANONIMO'\u001b[0m\u001b[1;33m]\u001b[0m\u001b[1;33m]\u001b[0m\u001b[1;33m]\u001b[0m\u001b[1;33m\u001b[0m\u001b[1;33m\u001b[0m\u001b[0m\n\u001b[0m\u001b[0;32m    130\u001b[0m     \u001b[1;32mpass\u001b[0m\u001b[1;33m\u001b[0m\u001b[1;33m\u001b[0m\u001b[0m\n",
      "\u001b[1;32mc:\\Users\\Paulo\\Documents\\Junior\\Programacao\\TCC\\tcc_venv\\Lib\\site-packages\\pandas\\core\\frame.py\u001b[0m in \u001b[0;36m?\u001b[1;34m(self, key)\u001b[0m\n\u001b[0;32m   4077\u001b[0m             \u001b[1;32mreturn\u001b[0m \u001b[0mself\u001b[0m\u001b[1;33m.\u001b[0m\u001b[0mwhere\u001b[0m\u001b[1;33m(\u001b[0m\u001b[0mkey\u001b[0m\u001b[1;33m)\u001b[0m\u001b[1;33m\u001b[0m\u001b[1;33m\u001b[0m\u001b[0m\n\u001b[0;32m   4078\u001b[0m \u001b[1;33m\u001b[0m\u001b[0m\n\u001b[0;32m   4079\u001b[0m         \u001b[1;31m# Do we have a (boolean) 1d indexer?\u001b[0m\u001b[1;33m\u001b[0m\u001b[1;33m\u001b[0m\u001b[0m\n\u001b[0;32m   4080\u001b[0m         \u001b[1;32mif\u001b[0m \u001b[0mcom\u001b[0m\u001b[1;33m.\u001b[0m\u001b[0mis_bool_indexer\u001b[0m\u001b[1;33m(\u001b[0m\u001b[0mkey\u001b[0m\u001b[1;33m)\u001b[0m\u001b[1;33m:\u001b[0m\u001b[1;33m\u001b[0m\u001b[1;33m\u001b[0m\u001b[0m\n\u001b[1;32m-> 4081\u001b[1;33m             \u001b[1;32mreturn\u001b[0m \u001b[0mself\u001b[0m\u001b[1;33m.\u001b[0m\u001b[0m_getitem_bool_array\u001b[0m\u001b[1;33m(\u001b[0m\u001b[0mkey\u001b[0m\u001b[1;33m)\u001b[0m\u001b[1;33m\u001b[0m\u001b[1;33m\u001b[0m\u001b[0m\n\u001b[0m\u001b[0;32m   4082\u001b[0m \u001b[1;33m\u001b[0m\u001b[0m\n\u001b[0;32m   4083\u001b[0m         \u001b[1;31m# We are left with two options: a single key, and a collection of keys,\u001b[0m\u001b[1;33m\u001b[0m\u001b[1;33m\u001b[0m\u001b[0m\n\u001b[0;32m   4084\u001b[0m         \u001b[1;31m# We interpret tuples as collections only for non-MultiIndex\u001b[0m\u001b[1;33m\u001b[0m\u001b[1;33m\u001b[0m\u001b[0m\n",
      "\u001b[1;32mc:\\Users\\Paulo\\Documents\\Junior\\Programacao\\TCC\\tcc_venv\\Lib\\site-packages\\pandas\\core\\frame.py\u001b[0m in \u001b[0;36m?\u001b[1;34m(self, key)\u001b[0m\n\u001b[0;32m   4138\u001b[0m \u001b[1;33m\u001b[0m\u001b[0m\n\u001b[0;32m   4139\u001b[0m         \u001b[1;32mif\u001b[0m \u001b[0mkey\u001b[0m\u001b[1;33m.\u001b[0m\u001b[0mall\u001b[0m\u001b[1;33m(\u001b[0m\u001b[1;33m)\u001b[0m\u001b[1;33m:\u001b[0m\u001b[1;33m\u001b[0m\u001b[1;33m\u001b[0m\u001b[0m\n\u001b[0;32m   4140\u001b[0m             \u001b[1;32mreturn\u001b[0m \u001b[0mself\u001b[0m\u001b[1;33m.\u001b[0m\u001b[0mcopy\u001b[0m\u001b[1;33m(\u001b[0m\u001b[0mdeep\u001b[0m\u001b[1;33m=\u001b[0m\u001b[1;32mNone\u001b[0m\u001b[1;33m)\u001b[0m\u001b[1;33m\u001b[0m\u001b[1;33m\u001b[0m\u001b[0m\n\u001b[0;32m   4141\u001b[0m \u001b[1;33m\u001b[0m\u001b[0m\n\u001b[1;32m-> 4142\u001b[1;33m         \u001b[0mindexer\u001b[0m \u001b[1;33m=\u001b[0m \u001b[0mkey\u001b[0m\u001b[1;33m.\u001b[0m\u001b[0mnonzero\u001b[0m\u001b[1;33m(\u001b[0m\u001b[1;33m)\u001b[0m\u001b[1;33m[\u001b[0m\u001b[1;36m0\u001b[0m\u001b[1;33m]\u001b[0m\u001b[1;33m\u001b[0m\u001b[1;33m\u001b[0m\u001b[0m\n\u001b[0m\u001b[0;32m   4143\u001b[0m         \u001b[1;32mreturn\u001b[0m \u001b[0mself\u001b[0m\u001b[1;33m.\u001b[0m\u001b[0m_take_with_is_copy\u001b[0m\u001b[1;33m(\u001b[0m\u001b[0mindexer\u001b[0m\u001b[1;33m,\u001b[0m \u001b[0maxis\u001b[0m\u001b[1;33m=\u001b[0m\u001b[1;36m0\u001b[0m\u001b[1;33m)\u001b[0m\u001b[1;33m\u001b[0m\u001b[1;33m\u001b[0m\u001b[0m\n",
      "\u001b[1;31mKeyboardInterrupt\u001b[0m: "
     ]
    }
   ],
   "source": [
    "cache = create_cache_user_arrays(data[\"todos\"], centralize_cosine = True)"
   ]
  },
  {
   "cell_type": "markdown",
   "metadata": {},
   "source": [
    "### Calculamos precision e recall para os estudantes formados, removendo as últimas 12 disciplinas realizadas (aprox. 3 semestres)"
   ]
  },
  {
   "cell_type": "code",
   "execution_count": null,
   "metadata": {},
   "outputs": [],
   "source": [
    "from tqdm import tqdm\n",
    "import concurrent.futures\n",
    "from threading import Lock\n",
    "\n",
    "class Log:\n",
    "    path = ''\n",
    "    mutex_lock = Lock()\n",
    "\n",
    "    def clear(self):\n",
    "        self.mutex_lock.acquire()\n",
    "        with open(self.path, 'w') as f:\n",
    "            f.write('')\n",
    "        self.mutex_lock.release()\n",
    "\n",
    "\n",
    "    def write(self, log):\n",
    "        self.mutex_lock.acquire()\n",
    "        with open(self.path, 'a') as f:\n",
    "            f.write(log)\n",
    "            f.write('\\n')\n",
    "        self.mutex_lock.release()\n",
    "\n",
    "        \n",
    "\n",
    "    def __init__(self, path):\n",
    "        self.path = path\n",
    "\n",
    "def teste_recomendacao(num_disciplinas_trim : int, cache):\n",
    "    class Metrica:\n",
    "        total = 0\n",
    "        media = 0\n",
    "        minimo = 0\n",
    "        maximo = 0\n",
    "        num_itens = 0\n",
    "\n",
    "        def add_item(self, item : int):\n",
    "            self.num_itens += 1\n",
    "            if self.minimo > item:\n",
    "                self.minimo = item\n",
    "            if self.maximo < item:\n",
    "                self.maximo = item\n",
    "            self.total += item\n",
    "            self.media = self.total / self.num_itens\n",
    "        \n",
    "        def print(self):\n",
    "            print(f'Media: {self.media}\\nMinimo: {self.minimo}\\nMaximo: {self.maximo}\\n')\n",
    "        \n",
    "    class Results:\n",
    "        sugestoes = []\n",
    "        sugestoes_alg = []\n",
    "        estudante = 0\n",
    "        precision = 0\n",
    "        recall = 0\n",
    "        true_positives = 0\n",
    "        disciplinas_com_erro = []\n",
    "\n",
    "        def __init__(self, sugestoes,sugestoes_alg,estudante,precision,recall,true_positives,disciplinas_com_erro):\n",
    "            self.sugestoes = sugestoes\n",
    "            self.sugestoes_alg = sugestoes_alg\n",
    "            self.estudante = estudante\n",
    "            self.precision = precision\n",
    "            self.recall = recall\n",
    "            self.true_positives = true_positives\n",
    "            self.disciplinas_com_erro = disciplinas_com_erro\n",
    "    \n",
    "    precision = Metrica()\n",
    "    recall = Metrica()\n",
    "\n",
    "    log = Log('output/teste_rec.txt')\n",
    "    log.clear()\n",
    "\n",
    "    def turn_to_date(x : str):\n",
    "        try:\n",
    "            x = int(x.split('/')[2][:2])\n",
    "        except:\n",
    "            #print(x)\n",
    "            x = 0\n",
    "        return x\n",
    "            \n",
    "\n",
    "    #data['formados']['INGRESSO'].map(turn_to_date)\n",
    "    dados = data['formados'][data['formados']['INGRESSO'].map(turn_to_date) > 14]\n",
    "    lista_estudantes = dados['ID_ANONIMO'].unique()\n",
    "    #print(lista_estudantes)\n",
    "\n",
    "    def thread_estudante(num_disciplinas_trim, estudante):\n",
    "        #log.write(f'{i} started')\n",
    "        #pbar.update(1)\n",
    "        dados_estudante = get_all_data_from_student(int(estudante), data['formados'])\n",
    "        if len(dados_estudante) == 0:\n",
    "            print(dados_estudante)\n",
    "            return 0\n",
    "        dados_trimmed = trim_user_data(dados_estudante, num_disciplinas_trim)\n",
    "        if len(dados_trimmed.index) == 0:\n",
    "            print(dados_trimmed)\n",
    "            return 0\n",
    "        # Sugerimos disciplinas com base nos dados tirando as ultimas num_disciplinas_trim disciplinas\n",
    "        sugestoes = [key for key in dict(sorted(user_based_suggestions(estudante, data_rec=data['formados'], data_user=dados_trimmed,cache=cache, centralize_cosine=True, reduce_popularity_weight=False),key=lambda x:x[1], reverse=True))]\n",
    "        #print(estudante)\n",
    "        #print(sugestoes)\n",
    "        if len(sugestoes) == 0:\n",
    "            print(sugestoes)\n",
    "            return 0\n",
    "        \n",
    "        discs_trimmed = list(trim_user_data(dados_estudante, num_disciplinas_trim)['CODIGO'].unique())\n",
    "        sugestoes_alg = dar_sugestoes(20, sugestoes, estudante, dados_trimmed)\n",
    "        disciplinas_alg = []\n",
    "        for periodo in sugestoes_alg:\n",
    "            for disc in periodo:\n",
    "                disciplinas_alg.append(disc)\n",
    "        if len(disciplinas_alg) == 0:\n",
    "            print (estudante)\n",
    "            return 0\n",
    "        # Calcular precisao e recall\n",
    "        true_positives = 0\n",
    "\n",
    "        # Montar lista de equivalentes\n",
    "        equivalentes_estudante = []\n",
    "        disciplinas_com_erro = []\n",
    "        lista_disc = [disc for disc in list(dados_estudante['CODIGO'].unique()) if disc not in discs_trimmed]\n",
    "        for disc in lista_disc:\n",
    "            try:\n",
    "                for eq in disciplinas[disc].equivalentes:\n",
    "                    equivalentes_estudante.append(eq)\n",
    "            except KeyError:\n",
    "                disciplinas_com_erro.append(disc)\n",
    "\n",
    "        for disc in disciplinas_alg:\n",
    "            if disc in lista_disc or disc in equivalentes_estudante:\n",
    "                true_positives += 1\n",
    "        result_precision=(true_positives/len(disciplinas_alg))\n",
    "        result_recall=(true_positives/len(lista_disc))\n",
    "        return Results(sugestoes,sugestoes_alg,estudante,result_recall,result_precision,true_positives, disciplinas_com_erro)\n",
    "        \n",
    "    \n",
    "    pool = concurrent.futures.ThreadPoolExecutor(max_workers = 22)\n",
    "    print(lista_estudantes)\n",
    "    futures = [pool.submit(thread_estudante, num_disciplinas_trim,estudante) for estudante in lista_estudantes]\n",
    "\n",
    "    print(f'waiting for {len(lista_estudantes)} threads')\n",
    "\n",
    "    disciplinas_com_erro = []\n",
    "    for i in tqdm(range(0,len(lista_estudantes))):\n",
    "            item = futures[i]\n",
    "            #item = lista_estudantes[i]\n",
    "            result : Results = item.result() #thread_estudante(num_disciplinas_trim, item)\n",
    "            if result != 0:\n",
    "                precision.add_item(result.precision)\n",
    "                recall.add_item(result.recall)\n",
    "                log.write(f'\\n{result.estudante} done\\nTrue Positives: {result.true_positives}\\nSugestoes: {result.sugestoes}\\nSugestoes com pos proc: {result.sugestoes_alg}\\nRecall: {result.recall}\\nPrecision: {result.precision}\\n')\n",
    "                for disc in result.disciplinas_com_erro:\n",
    "                    if disc not in disciplinas_com_erro:\n",
    "                        disciplinas_com_erro.append(disc)\n",
    "    #pool.shutdown(wait=True)\n",
    "    print('Recall: \\n')\n",
    "    recall.print()\n",
    "    print('Precision: \\n')\n",
    "    precision.print()\n",
    "\n",
    "\n"
   ]
  },
  {
   "cell_type": "code",
   "execution_count": null,
   "metadata": {},
   "outputs": [
    {
     "name": "stdout",
     "output_type": "stream",
     "text": [
      "[ 90729. 118844. 123664. 123676. 123677. 123686. 123688. 129034. 131006.\n",
      " 131014. 136730. 136731. 136736. 145077. 150873. 150878. 150887. 150892.\n",
      " 151217. 156158. 158257. 169043. 171740. 171745. 171746. 171749. 171750.\n",
      " 171751. 171754. 171755. 172044. 172045. 172046. 172207. 172208. 172248.\n",
      " 172307. 172974. 175962. 179385. 179393. 179397. 179408. 179624. 179652.\n",
      " 179819. 179822. 179823. 179944. 180984. 182856. 182913. 183413. 183414.\n",
      " 186021. 186024. 186036. 189048. 190493. 190494. 190495. 190499. 190508.\n",
      " 190615. 191284. 198372. 198543. 202261.]\n",
      "waiting for 68 threads\n"
     ]
    },
    {
     "name": "stderr",
     "output_type": "stream",
     "text": [
      "100%|██████████| 68/68 [01:15<00:00,  1.11s/it]"
     ]
    },
    {
     "name": "stdout",
     "output_type": "stream",
     "text": [
      "Recall: \n",
      "\n",
      "Media: 0.6175941501309148\n",
      "Minimo: 0\n",
      "Maximo: 0.9090909090909091\n",
      "\n",
      "Precision: \n",
      "\n",
      "Media: 0.4164203011521349\n",
      "Minimo: 0\n",
      "Maximo: 0.5714285714285714\n",
      "\n"
     ]
    },
    {
     "name": "stderr",
     "output_type": "stream",
     "text": [
      "\n"
     ]
    }
   ],
   "source": [
    "teste_recomendacao(10,cache)"
   ]
  },
  {
   "cell_type": "code",
   "execution_count": null,
   "metadata": {},
   "outputs": [
    {
     "name": "stdout",
     "output_type": "stream",
     "text": [
      "['CSR48', 'CSV52', 'FI70E', 'FCH7HB', 'CSR47', 'CSM40', 'CSH45', 'ED70U', 'EEY44', 'CSH44', 'CSW45', 'CSM43', 'CSD52', 'CSH41', 'CSI52', 'CSR41', 'EL66B', 'CSI31', 'EL64B', 'CSB41', 'CSB52', 'EL75H', 'CSB54', 'CSR44', 'CSH43', 'CSB53', 'CSH30', 'CSE43', 'EEL51', 'CSH42', 'FI70A', 'CSR43', 'CSD41', 'CSB51', 'CSV30', 'CSI55', 'CSI51', 'CSV41', 'CSM41', 'EEY41', 'CSA41', 'CSA42', 'CSR40', 'CSW48', 'CSI56', 'ED70T', 'CSR42', 'CSE40', 'CSR53', 'QB7AH', 'CSI53', 'CSH51', 'CSV40', 'CSD45', 'CSA45', 'EEY43', 'EEY42', 'CSV45', 'CSI58', 'EEY51', 'CSD42', 'CSI57', 'CSM30', 'ES70J', 'CSI41', 'FI70D', 'CSE41', 'MA70C', 'CSE47', 'FI70B', 'EL65B', 'CSA43', 'CSG48', 'ES70N', 'CSG44', 'IF6BV', 'CSI54', 'CSW47', 'GE70F', 'MA7AV', 'CSA44', 'ES70B', 'CSR45', 'EL6CB', 'EEC41', 'CSW55', 'CSG42', 'EL6EE', 'CSD40', 'CSV42', 'IF6CK', 'EL6AE', 'EL6CC', 'EL6BC', 'EL6CA', 'CSE42', 'IF6CJ', 'EL6BB', 'EL65F', 'EL6BA']\n"
     ]
    }
   ],
   "source": [
    "user = 190494\n",
    "sugest = [key for key in dict(sorted(user_based_suggestions(user, data_rec=data['formados'], data_user=trim_user_data(get_all_data_from_student(user,data['formados']),12),cache=cache),key=lambda x:x[1], reverse=True))]\n",
    "print(sugest)"
   ]
  },
  {
   "cell_type": "code",
   "execution_count": null,
   "metadata": {},
   "outputs": [
    {
     "data": {
      "text/plain": [
       "[['CSW41', 'CSR48', 'FI70E', 'CSR47', 'CSH45', 'CSW42'], ['EEX23', 'CSX42']]"
      ]
     },
     "execution_count": 86,
     "metadata": {},
     "output_type": "execute_result"
    }
   ],
   "source": [
    "\n",
    "dar_sugestoes(20, sugest, user, trim_user_data(get_all_data_from_student(user,data['formados']),12) )"
   ]
  },
  {
   "cell_type": "code",
   "execution_count": null,
   "metadata": {},
   "outputs": [],
   "source": []
  }
 ],
 "metadata": {
  "kernelspec": {
   "display_name": "tcc_venv",
   "language": "python",
   "name": "python3"
  },
  "language_info": {
   "codemirror_mode": {
    "name": "ipython",
    "version": 3
   },
   "file_extension": ".py",
   "mimetype": "text/x-python",
   "name": "python",
   "nbconvert_exporter": "python",
   "pygments_lexer": "ipython3",
   "version": "3.11.0"
  }
 },
 "nbformat": 4,
 "nbformat_minor": 2
}
