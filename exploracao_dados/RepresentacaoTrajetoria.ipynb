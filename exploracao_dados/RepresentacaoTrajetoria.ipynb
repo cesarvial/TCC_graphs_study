{
 "cells": [
  {
   "cell_type": "markdown",
   "metadata": {},
   "source": [
    "# Representação de Trajetória\n",
    "O objetivo deste notebook é apresentar os resultados obtidos de maneira visual."
   ]
  },
  {
   "cell_type": "code",
   "execution_count": 1,
   "metadata": {},
   "outputs": [
    {
     "name": "stdout",
     "output_type": "stream",
     "text": [
      "aqui\n"
     ]
    }
   ],
   "source": [
    "import data_processing\n",
    "\n",
    "data = data_processing.load_student_data()\n",
    "disciplinas = data_processing.load_disciplinas()"
   ]
  },
  {
   "cell_type": "code",
   "execution_count": 2,
   "metadata": {},
   "outputs": [],
   "source": [
    "sugestoes = []\n",
    "with open('sugestoes.txt') as file:\n",
    "    for line in file:\n",
    "        nome = line.strip().split('\\n')[0]\n",
    "        if nome in disciplinas:\n",
    "            disc = disciplinas[nome]\n",
    "            sugestoes.append(disc)\n",
    "            if disc.trilha == 'optativa' or disc.trilha == 'obrigatoria':\n",
    "                print(f'{disc.nome} não está em nenhuma trilha?')\n",
    "        else:\n",
    "            print(f'{nome} não está em disciplinas')"
   ]
  },
  {
   "cell_type": "code",
   "execution_count": 3,
   "metadata": {},
   "outputs": [
    {
     "name": "stdout",
     "output_type": "stream",
     "text": [
      "Engenharia Biomedica\n",
      "Optativas Isoladas\n",
      "Desenvolvimento Baseado em Plataformas Programacao\n",
      "Desenvolvimento Baseado em Plataformas Programacao\n",
      "Sistemas Embarcados\n",
      "Controle\n",
      "IHC\n",
      "IHC\n",
      "Engenharia Biomedica\n",
      "Desenvolvimento Baseado em Plataformas Programacao\n",
      "Desenvolvimento Baseado em Plataformas Programacao\n",
      "Otimizacao, Modelos Analiticos e de Simulacao\n",
      "Optativas Isoladas\n",
      "Banco De Dados\n",
      "Sistemas Inteligentes\n",
      "IHC\n",
      "Banco De Dados\n",
      "Redes De Computadores\n",
      "Engenharia De Software\n",
      "Sistemas Inteligentes\n",
      "Otimizacao, Modelos Analiticos e de Simulacao\n",
      "Optativas Isoladas\n",
      "Redes De Computadores\n",
      "Redes De Computadores\n",
      "IHC\n",
      "Sistemas Inteligentes\n",
      "Engenharia De Software\n",
      "IHC\n",
      "Redes De Computadores\n",
      "IHC\n",
      "Fisica\n",
      "Engenharia Biomedica\n",
      "Fisica\n",
      "Sistemas Inteligentes\n",
      "Sistemas Inteligentes\n",
      "Processamento Grafico\n",
      "Algoritmos E Complexidade\n",
      "Banco De Dados\n",
      "Processamento Grafico\n",
      "Banco De Dados\n",
      "Processamento Grafico\n",
      "Optativas Isoladas\n",
      "Algoritmos E Complexidade\n",
      "Processamento Grafico\n",
      "Controle\n",
      "Sistemas Inteligentes\n",
      "Fisica\n",
      "Fisica\n",
      "Banco De Dados\n",
      "Redes De Computadores\n",
      "Sistemas Inteligentes\n",
      "Engenharia Biomedica\n",
      "Redes De Computadores\n",
      "Algoritmos E Complexidade\n",
      "Optativas Isoladas\n",
      "Engenharia De Software\n",
      "Sistemas Inteligentes\n",
      "Sistemas Embarcados\n",
      "Sistemas Inteligentes\n",
      "Processamento Grafico\n",
      "Engenharia De Software\n",
      "Engenharia Biomedica\n",
      "Otimizacao, Modelos Analiticos e de Simulacao\n",
      "Sistemas Inteligentes\n",
      "Desenvolvimento Baseado em Plataformas Programacao\n",
      "Optativas Isoladas\n",
      "Redes De Computadores\n",
      "IHC\n",
      "Engenharia De Software\n",
      "Otimizacao, Modelos Analiticos e de Simulacao\n",
      "Otimizacao, Modelos Analiticos e de Simulacao\n",
      "Algoritmos E Complexidade\n",
      "Optativas Isoladas\n",
      "Optativas Isoladas\n",
      "Optativas Isoladas\n",
      "Optativas Isoladas\n",
      "Fisica\n",
      "Optativas Isoladas\n",
      "Redes De Computadores\n",
      "Optativas Isoladas\n",
      "Engenharia De Software\n",
      "Optativas Isoladas\n",
      "Processamento Grafico\n",
      "Optativas Isoladas\n",
      "Optativas Isoladas\n",
      "Algoritmos E Complexidade\n",
      "Redes De Computadores\n",
      "Optativas Isoladas\n",
      "Optativas Isoladas\n",
      "Optativas Isoladas\n",
      "Otimizacao, Modelos Analiticos e de Simulacao\n",
      "Sistemas Embarcados\n",
      "Optativas Isoladas\n",
      "Optativas Isoladas\n",
      "Optativas Isoladas\n",
      "Optativas Isoladas\n",
      "Engenharia De Software\n",
      "Optativas Isoladas\n",
      "Optativas Isoladas\n",
      "Optativas Isoladas\n",
      "Optativas Isoladas\n",
      "Optativas Isoladas\n"
     ]
    }
   ],
   "source": [
    "for item in sugestoes:\n",
    "    print(item.trilha)"
   ]
  },
  {
   "cell_type": "code",
   "execution_count": 5,
   "metadata": {},
   "outputs": [],
   "source": [
    "from typing import List\n",
    "\n",
    "def dar_sugestoes(CHS_desejada : int, sugestoes : List, ra_aluno : int):\n",
    "    # Carga horária desejada\n",
    "    CH_desejada = CHS_desejada * 15\n"
   ]
  },
  {
   "cell_type": "code",
   "execution_count": null,
   "metadata": {},
   "outputs": [],
   "source": []
  }
 ],
 "metadata": {
  "kernelspec": {
   "display_name": "tcc_venv",
   "language": "python",
   "name": "python3"
  },
  "language_info": {
   "codemirror_mode": {
    "name": "ipython",
    "version": 3
   },
   "file_extension": ".py",
   "mimetype": "text/x-python",
   "name": "python",
   "nbconvert_exporter": "python",
   "pygments_lexer": "ipython3",
   "version": "3.11.0"
  }
 },
 "nbformat": 4,
 "nbformat_minor": 2
}
