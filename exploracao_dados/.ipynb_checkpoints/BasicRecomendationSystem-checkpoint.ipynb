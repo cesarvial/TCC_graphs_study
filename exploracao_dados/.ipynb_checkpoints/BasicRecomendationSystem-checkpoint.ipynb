{
 "cells": [
  {
   "cell_type": "markdown",
   "id": "2cd094d6-d2e0-4fb9-ae3b-307d2cf3c833",
   "metadata": {},
   "source": [
    "Esse notebook almeja desenvolver um sistema de recomendação simples para disciplinas optativas."
   ]
  },
  {
   "cell_type": "code",
   "execution_count": 1,
   "id": "812b64a8-3c57-4e1b-8870-af7fca443637",
   "metadata": {},
   "outputs": [
    {
     "data": {
      "text/plain": [
       "Index(['ID_ANONIMO', 'CR', 'PERIODO', 'INGRESSO', 'CODIGO', 'ANO', 'PERIODO.1',\n",
       "       'NOTA', 'CH', 'SITUACAOALUNO'],\n",
       "      dtype='object')"
      ]
     },
     "execution_count": 1,
     "metadata": {},
     "output_type": "execute_result"
    }
   ],
   "source": [
    "import pandas as pd\n",
    "\n",
    "dados_formados_path = 'input/dados_formados.csv'\n",
    "dados_formados = pd.read_csv(dados_formados_path, delimiter=';')\n",
    "dados_formados.columns"
   ]
  },
  {
   "cell_type": "code",
   "execution_count": 2,
   "id": "3c15b03b-0266-4de2-ba05-7040a17e8f51",
   "metadata": {},
   "outputs": [
    {
     "data": {
      "text/plain": [
       "Index(['ID_ANONIMO', 'CR', 'PERIODO', 'INGRESSO', 'CODIGO', 'ANO', 'PERIODO.1',\n",
       "       'NOTA', 'CH', 'SITUACAOALUNO'],\n",
       "      dtype='object')"
      ]
     },
     "execution_count": 2,
     "metadata": {},
     "output_type": "execute_result"
    }
   ],
   "source": [
    "dados_regulares_path = 'input/dados_regulares.csv'\n",
    "dados_regulares = pd.read_csv(dados_regulares_path, delimiter=';')\n",
    "dados_regulares.columns"
   ]
  },
  {
   "cell_type": "code",
   "execution_count": 12,
   "id": "424d2c81-64e7-43fa-a464-6ba9242ec248",
   "metadata": {},
   "outputs": [],
   "source": [
    "def select_random_student(data : pd.DataFrame):\n",
    "    return data.sample().ID_ANONIMO.values[0]"
   ]
  },
  {
   "cell_type": "code",
   "execution_count": 13,
   "id": "741dde16-d942-4357-848d-692e19aa999b",
   "metadata": {},
   "outputs": [
    {
     "data": {
      "text/plain": [
       "114720"
      ]
     },
     "execution_count": 13,
     "metadata": {},
     "output_type": "execute_result"
    }
   ],
   "source": [
    "select_random_student(dados_formados)"
   ]
  },
  {
   "cell_type": "code",
   "execution_count": 14,
   "id": "210e0928-5b07-4304-b6b1-b50da9e49d23",
   "metadata": {},
   "outputs": [
    {
     "data": {
      "text/plain": [
       "104768"
      ]
     },
     "execution_count": 14,
     "metadata": {},
     "output_type": "execute_result"
    }
   ],
   "source": [
    "select_random_student(dados_regulares)"
   ]
  },
  {
   "cell_type": "code",
   "execution_count": 16,
   "id": "cd93d3ab-19f1-4506-8a32-92f824892f4b",
   "metadata": {},
   "outputs": [],
   "source": [
    "def get_all_data_from_student(student_id : int, data : pd.DataFrame):\n",
    "    return data[[x == student_id for x in data.ID_ANONIMO]]\n",
    "    pass"
   ]
  },
  {
   "cell_type": "code",
   "execution_count": 17,
   "id": "ce793154-7809-40e6-9da1-7a010a257152",
   "metadata": {},
   "outputs": [
    {
     "data": {
      "text/html": [
       "<div>\n",
       "<style scoped>\n",
       "    .dataframe tbody tr th:only-of-type {\n",
       "        vertical-align: middle;\n",
       "    }\n",
       "\n",
       "    .dataframe tbody tr th {\n",
       "        vertical-align: top;\n",
       "    }\n",
       "\n",
       "    .dataframe thead th {\n",
       "        text-align: right;\n",
       "    }\n",
       "</style>\n",
       "<table border=\"1\" class=\"dataframe\">\n",
       "  <thead>\n",
       "    <tr style=\"text-align: right;\">\n",
       "      <th></th>\n",
       "      <th>ID_ANONIMO</th>\n",
       "      <th>CR</th>\n",
       "      <th>PERIODO</th>\n",
       "      <th>INGRESSO</th>\n",
       "      <th>CODIGO</th>\n",
       "      <th>ANO</th>\n",
       "      <th>PERIODO.1</th>\n",
       "      <th>NOTA</th>\n",
       "      <th>CH</th>\n",
       "      <th>SITUACAOALUNO</th>\n",
       "    </tr>\n",
       "  </thead>\n",
       "  <tbody>\n",
       "    <tr>\n",
       "      <th>3993</th>\n",
       "      <td>93846</td>\n",
       "      <td>0,77649</td>\n",
       "      <td>10</td>\n",
       "      <td>19/07/07</td>\n",
       "      <td>EL66C</td>\n",
       "      <td>2009</td>\n",
       "      <td>2</td>\n",
       "      <td>7,3</td>\n",
       "      <td>60</td>\n",
       "      <td>Formado</td>\n",
       "    </tr>\n",
       "    <tr>\n",
       "      <th>3994</th>\n",
       "      <td>93846</td>\n",
       "      <td>0,77649</td>\n",
       "      <td>10</td>\n",
       "      <td>19/07/07</td>\n",
       "      <td>IF6AE</td>\n",
       "      <td>2012</td>\n",
       "      <td>1</td>\n",
       "      <td>10</td>\n",
       "      <td>60</td>\n",
       "      <td>Formado</td>\n",
       "    </tr>\n",
       "    <tr>\n",
       "      <th>3995</th>\n",
       "      <td>93846</td>\n",
       "      <td>0,77649</td>\n",
       "      <td>10</td>\n",
       "      <td>19/07/07</td>\n",
       "      <td>IF6AG</td>\n",
       "      <td>2011</td>\n",
       "      <td>2</td>\n",
       "      <td>9,2</td>\n",
       "      <td>60</td>\n",
       "      <td>Formado</td>\n",
       "    </tr>\n",
       "    <tr>\n",
       "      <th>3996</th>\n",
       "      <td>93846</td>\n",
       "      <td>0,77649</td>\n",
       "      <td>10</td>\n",
       "      <td>19/07/07</td>\n",
       "      <td>IF6AL</td>\n",
       "      <td>2012</td>\n",
       "      <td>1</td>\n",
       "      <td>9</td>\n",
       "      <td>60</td>\n",
       "      <td>Formado</td>\n",
       "    </tr>\n",
       "    <tr>\n",
       "      <th>3997</th>\n",
       "      <td>93846</td>\n",
       "      <td>0,77649</td>\n",
       "      <td>10</td>\n",
       "      <td>19/07/07</td>\n",
       "      <td>IF6AB</td>\n",
       "      <td>2012</td>\n",
       "      <td>1</td>\n",
       "      <td>8,9</td>\n",
       "      <td>60</td>\n",
       "      <td>Formado</td>\n",
       "    </tr>\n",
       "    <tr>\n",
       "      <th>...</th>\n",
       "      <td>...</td>\n",
       "      <td>...</td>\n",
       "      <td>...</td>\n",
       "      <td>...</td>\n",
       "      <td>...</td>\n",
       "      <td>...</td>\n",
       "      <td>...</td>\n",
       "      <td>...</td>\n",
       "      <td>...</td>\n",
       "      <td>...</td>\n",
       "    </tr>\n",
       "    <tr>\n",
       "      <th>4063</th>\n",
       "      <td>93846</td>\n",
       "      <td>0,77649</td>\n",
       "      <td>10</td>\n",
       "      <td>19/07/07</td>\n",
       "      <td>EL68A</td>\n",
       "      <td>2010</td>\n",
       "      <td>2</td>\n",
       "      <td>9</td>\n",
       "      <td>60</td>\n",
       "      <td>Formado</td>\n",
       "    </tr>\n",
       "    <tr>\n",
       "      <th>4064</th>\n",
       "      <td>93846</td>\n",
       "      <td>0,77649</td>\n",
       "      <td>10</td>\n",
       "      <td>19/07/07</td>\n",
       "      <td>GE60C</td>\n",
       "      <td>2011</td>\n",
       "      <td>1</td>\n",
       "      <td>6,8</td>\n",
       "      <td>30</td>\n",
       "      <td>Formado</td>\n",
       "    </tr>\n",
       "    <tr>\n",
       "      <th>4065</th>\n",
       "      <td>93846</td>\n",
       "      <td>0,77649</td>\n",
       "      <td>10</td>\n",
       "      <td>19/07/07</td>\n",
       "      <td>IF62C</td>\n",
       "      <td>2008</td>\n",
       "      <td>1</td>\n",
       "      <td>8,9</td>\n",
       "      <td>60</td>\n",
       "      <td>Formado</td>\n",
       "    </tr>\n",
       "    <tr>\n",
       "      <th>4066</th>\n",
       "      <td>93846</td>\n",
       "      <td>0,77649</td>\n",
       "      <td>10</td>\n",
       "      <td>19/07/07</td>\n",
       "      <td>GE60A</td>\n",
       "      <td>2011</td>\n",
       "      <td>2</td>\n",
       "      <td>7,2</td>\n",
       "      <td>30</td>\n",
       "      <td>Formado</td>\n",
       "    </tr>\n",
       "    <tr>\n",
       "      <th>4067</th>\n",
       "      <td>93846</td>\n",
       "      <td>0,77649</td>\n",
       "      <td>10</td>\n",
       "      <td>19/07/07</td>\n",
       "      <td>QB60A</td>\n",
       "      <td>2011</td>\n",
       "      <td>1</td>\n",
       "      <td>8</td>\n",
       "      <td>30</td>\n",
       "      <td>Formado</td>\n",
       "    </tr>\n",
       "  </tbody>\n",
       "</table>\n",
       "<p>75 rows × 10 columns</p>\n",
       "</div>"
      ],
      "text/plain": [
       "      ID_ANONIMO       CR  PERIODO  INGRESSO CODIGO   ANO  PERIODO.1 NOTA  CH  \\\n",
       "3993       93846  0,77649       10  19/07/07  EL66C  2009          2  7,3  60   \n",
       "3994       93846  0,77649       10  19/07/07  IF6AE  2012          1   10  60   \n",
       "3995       93846  0,77649       10  19/07/07  IF6AG  2011          2  9,2  60   \n",
       "3996       93846  0,77649       10  19/07/07  IF6AL  2012          1    9  60   \n",
       "3997       93846  0,77649       10  19/07/07  IF6AB  2012          1  8,9  60   \n",
       "...          ...      ...      ...       ...    ...   ...        ...  ...  ..   \n",
       "4063       93846  0,77649       10  19/07/07  EL68A  2010          2    9  60   \n",
       "4064       93846  0,77649       10  19/07/07  GE60C  2011          1  6,8  30   \n",
       "4065       93846  0,77649       10  19/07/07  IF62C  2008          1  8,9  60   \n",
       "4066       93846  0,77649       10  19/07/07  GE60A  2011          2  7,2  30   \n",
       "4067       93846  0,77649       10  19/07/07  QB60A  2011          1    8  30   \n",
       "\n",
       "     SITUACAOALUNO  \n",
       "3993       Formado  \n",
       "3994       Formado  \n",
       "3995       Formado  \n",
       "3996       Formado  \n",
       "3997       Formado  \n",
       "...            ...  \n",
       "4063       Formado  \n",
       "4064       Formado  \n",
       "4065       Formado  \n",
       "4066       Formado  \n",
       "4067       Formado  \n",
       "\n",
       "[75 rows x 10 columns]"
      ]
     },
     "execution_count": 17,
     "metadata": {},
     "output_type": "execute_result"
    }
   ],
   "source": [
    "get_all_data_from_student(select_random_student(dados_formados), dados_formados)"
   ]
  },
  {
   "cell_type": "markdown",
   "id": "5ef0a682-714e-49af-9086-207d443830b9",
   "metadata": {},
   "source": [
    "Queremos recomendar disciplinas para estudantes com base em sua performance nas disciplinas prévias. Para tal, precisamos converter os dados do DataFrame para um vetor de _features_. Escolhemos para esse teste simples utilizar a nota do estudante como valor a ser analisado. Ajustamos a nota do estudante subtraindo dois pontos da nota final sempre que ele reprovar em uma mesma disciplina.\n",
    "\n",
    "| Curso | Nota | Ultima data ((Ano - 2000)*2 + periodo)|\n",
    "| -- | -- | -- |\n",
    "| FI73A | 6 |  20 (2009 - 2o periodo) |\n",
    "| EL68A | -1 ( nao fez ) |  -1 ( nao fez ) |\n",
    "| GE60C | 4 (passou com 6, reprovou uma vez) |  20 (2009 - 2o periodo) |"
   ]
  },
  {
   "cell_type": "code",
   "execution_count": null,
   "id": "2d48e31d-9aff-456a-8bba-48fe3f22922b",
   "metadata": {},
   "outputs": [],
   "source": [
    "def get_user_array(student_id : int, data : pd.DataFrame):\n",
    "    student_data = get_all_data_from_student(student_id, data)\n",
    "    student_array : Array = []\n",
    "    for course in student_data:\n",
    "        \n",
    "    \n",
    "    pass"
   ]
  },
  {
   "cell_type": "code",
   "execution_count": null,
   "id": "b199678c-a033-4f12-a6d6-7c744c7e9a93",
   "metadata": {},
   "outputs": [],
   "source": []
  }
 ],
 "metadata": {
  "kernelspec": {
   "display_name": "Python 3 (ipykernel)",
   "language": "python",
   "name": "python3"
  },
  "language_info": {
   "codemirror_mode": {
    "name": "ipython",
    "version": 3
   },
   "file_extension": ".py",
   "mimetype": "text/x-python",
   "name": "python",
   "nbconvert_exporter": "python",
   "pygments_lexer": "ipython3",
   "version": "3.11.7"
  }
 },
 "nbformat": 4,
 "nbformat_minor": 5
}
