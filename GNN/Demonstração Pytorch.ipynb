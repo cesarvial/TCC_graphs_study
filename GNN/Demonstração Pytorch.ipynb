{
 "cells": [
  {
   "cell_type": "markdown",
   "metadata": {},
   "source": [
    "## Demonstração - Pytorch"
   ]
  },
  {
   "cell_type": "markdown",
   "metadata": {},
   "source": [
    "### Tensors"
   ]
  },
  {
   "cell_type": "code",
   "execution_count": 1,
   "metadata": {},
   "outputs": [
    {
     "name": "stdout",
     "output_type": "stream",
     "text": [
      "tensor([[1, 2],\n",
      "        [3, 4]])\n",
      "tensor([[1, 2],\n",
      "        [3, 4]])\n"
     ]
    }
   ],
   "source": [
    "import torch\n",
    "import numpy as np\n",
    "\n",
    "#Inicialização diretamente com dados - tipo inferido automaticamente\n",
    "data = [[1, 2],[3, 4]]\n",
    "\n",
    "x_data = torch.tensor(data)\n",
    "print(x_data)\n",
    "\n",
    "#Inicialização de um NumPy array\n",
    "np_array = np.array(data)\n",
    "x_np = torch.from_numpy(np_array)\n",
    "\n",
    "print(x_np)"
   ]
  },
  {
   "cell_type": "code",
   "execution_count": 2,
   "metadata": {},
   "outputs": [
    {
     "data": {
      "text/plain": [
       "tensor([[1., 1., 1.],\n",
       "        [1., 1., 1.]])"
      ]
     },
     "execution_count": 2,
     "metadata": {},
     "output_type": "execute_result"
    }
   ],
   "source": [
    "#Cria tensor com shape específico e com valores 1.\n",
    "#Shape (2, 3)\n",
    "ones_tensor = torch.ones(2,3)\n",
    "ones_tensor"
   ]
  },
  {
   "cell_type": "code",
   "execution_count": 3,
   "metadata": {},
   "outputs": [
    {
     "data": {
      "text/plain": [
       "tensor([[0., 0., 0., 0., 0.],\n",
       "        [0., 0., 0., 0., 0.],\n",
       "        [0., 0., 0., 0., 0.]])"
      ]
     },
     "execution_count": 3,
     "metadata": {},
     "output_type": "execute_result"
    }
   ],
   "source": [
    "#Cria tensor com shape específico e com valores 0.\n",
    "#Shape (3, 5)\n",
    "zeros_tensor = torch.zeros(3,5)\n",
    "zeros_tensor"
   ]
  },
  {
   "cell_type": "code",
   "execution_count": 4,
   "metadata": {},
   "outputs": [
    {
     "data": {
      "text/plain": [
       "tensor([[1., 1., 1., 1., 1., 1.],\n",
       "        [1., 1., 1., 1., 1., 1.]])"
      ]
     },
     "execution_count": 4,
     "metadata": {},
     "output_type": "execute_result"
    }
   ],
   "source": [
    "#concatenação de tensors\n",
    "torch.cat([ones_tensor, ones_tensor], dim=1)\n"
   ]
  },
  {
   "cell_type": "code",
   "execution_count": 5,
   "metadata": {},
   "outputs": [
    {
     "data": {
      "text/plain": [
       "tensor([[2., 2., 2.],\n",
       "        [2., 2., 2.]])"
      ]
     },
     "execution_count": 5,
     "metadata": {},
     "output_type": "execute_result"
    }
   ],
   "source": [
    "#multiplicação de tensors\n",
    "\n",
    "ones_tensor * 2"
   ]
  },
  {
   "cell_type": "code",
   "execution_count": 6,
   "metadata": {},
   "outputs": [
    {
     "name": "stdout",
     "output_type": "stream",
     "text": [
      "tensor([[ 1.7376, -0.4068, -1.1454],\n",
      "        [ 0.5361, -0.5176, -0.2921],\n",
      "        [-0.8778, -0.8851, -1.8359],\n",
      "        [-1.8658,  1.3471,  0.6483],\n",
      "        [-0.4447,  0.1962,  1.3213],\n",
      "        [-0.7680, -0.5010, -0.0920],\n",
      "        [ 1.7461,  1.6073,  0.9853],\n",
      "        [-0.5830, -1.5411, -1.1189],\n",
      "        [-1.0410, -0.3967,  0.8480],\n",
      "        [-1.3790, -1.6335, -0.4019]])\n",
      "tensor([[ 2.9016, -0.7788],\n",
      "        [ 1.9697,  0.1696],\n",
      "        [ 0.8471,  1.0909],\n",
      "        [-1.5662, -0.9512],\n",
      "        [ 1.9371,  1.7973],\n",
      "        [ 0.1038, -1.8724],\n",
      "        [ 0.6162, -0.1926],\n",
      "        [ 1.5061,  0.7002],\n",
      "        [-1.2307, -1.4096],\n",
      "        [ 0.6461,  0.1299]])\n"
     ]
    }
   ],
   "source": [
    "# Cria tensor com shape específico e com valores aleaórios.\n",
    "\n",
    "#Shape (10, 3)\n",
    "x = torch.randn(10, 3)\n",
    "print(x)\n",
    "\n",
    "#Shape(10, 2)\n",
    "y = torch.randn(10, 2)\n",
    "print(y)\n"
   ]
  },
  {
   "cell_type": "code",
   "execution_count": 7,
   "metadata": {},
   "outputs": [
    {
     "name": "stdout",
     "output_type": "stream",
     "text": [
      "Shape do tensor: torch.Size([10, 3])\n",
      "Datatype do tensor: torch.float32\n",
      "Dispositivo onde o tensor está armazenado: cpu\n"
     ]
    }
   ],
   "source": [
    "#Atributos de um tensor\n",
    "\n",
    "print(f\"Shape do tensor: {x.shape}\")\n",
    "print(f\"Datatype do tensor: {x.dtype}\")\n",
    "print(f\"Dispositivo onde o tensor está armazenado: {x.device}\")"
   ]
  },
  {
   "cell_type": "code",
   "execution_count": 8,
   "metadata": {},
   "outputs": [
    {
     "name": "stdout",
     "output_type": "stream",
     "text": [
      "Dispositivo onde o tensor está armazenado: cuda:0\n"
     ]
    }
   ],
   "source": [
    "# Movendo o tensor para a GPU se disponível \n",
    "if torch.cuda.is_available():\n",
    "    x = x.to('cuda')\n",
    "    \n",
    "print(f\"Dispositivo onde o tensor está armazenado: {x.device}\")"
   ]
  },
  {
   "cell_type": "markdown",
   "metadata": {},
   "source": [
    "### Manipulação de tensor \n",
    "\n",
    "As operações são similares a um Np-array\n"
   ]
  },
  {
   "cell_type": "code",
   "execution_count": 9,
   "metadata": {},
   "outputs": [
    {
     "name": "stdout",
     "output_type": "stream",
     "text": [
      "tensor([[ 1.7376, -0.4068, -1.1454],\n",
      "        [ 0.5361, -0.5176, -0.2921],\n",
      "        [-0.8778, -0.8851, -1.8359],\n",
      "        [-1.8658,  1.3471,  0.6483],\n",
      "        [-0.4447,  0.1962,  1.3213],\n",
      "        [-0.7680, -0.5010, -0.0920],\n",
      "        [ 1.7461,  1.6073,  0.9853],\n",
      "        [-0.5830, -1.5411, -1.1189],\n",
      "        [-1.0410, -0.3967,  0.8480],\n",
      "        [-1.3790, -1.6335, -0.4019]], device='cuda:0')\n",
      "\n",
      "Primeira linha:  tensor([ 1.7376, -0.4068, -1.1454], device='cuda:0')\n",
      "Primeira coluna:  tensor([ 1.7376,  0.5361, -0.8778, -1.8658, -0.4447, -0.7680,  1.7461, -0.5830,\n",
      "        -1.0410, -1.3790], device='cuda:0')\n",
      "Ultima coluna: tensor([-1.1454, -0.2921, -1.8359,  0.6483,  1.3213, -0.0920,  0.9853, -1.1189,\n",
      "         0.8480, -0.4019], device='cuda:0')\n"
     ]
    }
   ],
   "source": [
    "print(x)\n",
    "print()\n",
    "print('Primeira linha: ', x[0,:])\n",
    "print('Primeira coluna: ', x[:, 0])\n",
    "print('Ultima coluna:', x[:, -1])\n"
   ]
  },
  {
   "cell_type": "markdown",
   "metadata": {},
   "source": [
    "# Criando modelos"
   ]
  },
  {
   "cell_type": "markdown",
   "metadata": {},
   "source": [
    "## Primeiro modelo"
   ]
  },
  {
   "cell_type": "markdown",
   "metadata": {},
   "source": [
    "Aqui é apresentado um exemplo simples que utiliza uma camada completamente conectada.\n",
    "\n",
    "Para acelerar as operações na rede neural, nós a movemos para a GPU, se disponível."
   ]
  },
  {
   "cell_type": "code",
   "execution_count": 10,
   "metadata": {},
   "outputs": [
    {
     "name": "stdout",
     "output_type": "stream",
     "text": [
      "w:  Parameter containing:\n",
      "tensor([[-0.1422, -0.4640, -0.4078],\n",
      "        [ 0.1858, -0.5386, -0.3026]], requires_grad=True)\n",
      "b:  Parameter containing:\n",
      "tensor([ 0.0337, -0.5164], requires_grad=True)\n"
     ]
    }
   ],
   "source": [
    "from torch import nn\n",
    "import torch.nn.functional as F\n",
    "\n",
    "# Construi uma camada fully connected\n",
    "#torch.nn.Linear(in_features, out_features, bias=True, device=None, dtype=None)\n",
    "linear = nn.Linear(3, 2)\n",
    "\n",
    "print ('w: ', linear.weight)\n",
    "print ('b: ', linear.bias)"
   ]
  },
  {
   "cell_type": "code",
   "execution_count": 11,
   "metadata": {},
   "outputs": [
    {
     "name": "stdout",
     "output_type": "stream",
     "text": [
      "Usando cuda\n"
     ]
    }
   ],
   "source": [
    "# Pega a GPU ou CPU para treinamento.\n",
    "device = \"cuda\" if torch.cuda.is_available() else \"cpu\"\n",
    "\n",
    "print(\"Usando {}\".format(device))"
   ]
  },
  {
   "cell_type": "code",
   "execution_count": 12,
   "metadata": {},
   "outputs": [
    {
     "data": {
      "text/plain": [
       "tensor([[ 0.4426,  0.3723],\n",
       "        [ 0.3168, -0.0496],\n",
       "        [ 1.3179,  0.3528],\n",
       "        [-0.5906, -1.7848],\n",
       "        [-0.5330, -1.1045],\n",
       "        [ 0.4128, -0.3614],\n",
       "        [-1.3622, -1.3557],\n",
       "        [ 1.2880,  0.5439],\n",
       "        [ 0.0199, -0.7528],\n",
       "        [ 1.1516,  0.2287]], device='cuda:0', grad_fn=<AddmmBackward0>)"
      ]
     },
     "execution_count": 12,
     "metadata": {},
     "output_type": "execute_result"
    }
   ],
   "source": [
    "linear = linear.to(device)\n",
    "\n",
    "x = x.to(device)\n",
    "\n",
    "#Operação - Forward.\n",
    "pred = linear(x)\n",
    "pred\n",
    "\n",
    "#x, tensor criado acima, representa as features de entrada\n",
    "#y, tensor criado acima, representa os valores alvo"
   ]
  },
  {
   "cell_type": "code",
   "execution_count": 13,
   "metadata": {},
   "outputs": [],
   "source": [
    "# Constroi a função de perda e otimização \n",
    "criterion = nn.MSELoss()\n",
    "\n",
    "# Otimizador\n",
    "optimizer = torch.optim.Adam(linear.parameters(), lr=0.001)\n"
   ]
  },
  {
   "cell_type": "code",
   "execution_count": 14,
   "metadata": {},
   "outputs": [
    {
     "name": "stdout",
     "output_type": "stream",
     "text": [
      "Perda:  1.8532971143722534\n",
      "Perda depois de 1 passo de otimização :  1.8499653339385986\n",
      "Perda depois de 2 passos de otimização :  1.8467590808868408\n"
     ]
    }
   ],
   "source": [
    "#Manda o y para a gpu\n",
    "y = y.to(device)\n",
    "\n",
    "# Computa a perda.\n",
    "loss = criterion(pred, y)\n",
    "print('Perda: ', loss.item())\n",
    "\n",
    "# Propaga os erros (backpropagation) e atualiza os pesos\n",
    "loss.backward()\n",
    "optimizer.step() # 1-passo do 'gradient descent'\n",
    "\n",
    "# Imprime a perda depois de 1 passo do gradient descent.\n",
    "pred = linear(x)\n",
    "loss = criterion(pred, y)\n",
    "print('Perda depois de 1 passo de otimização : ', loss.item())\n",
    "\n",
    "#Mais um passo - backpropagation e atualização de pesos\n",
    "loss.backward()\n",
    "optimizer.step()\n",
    "\n",
    "# Imprime a perda depois de 2 passos do gradient descent.\n",
    "pred = linear(x)\n",
    "loss = criterion(pred, y)\n",
    "print('Perda depois de 2 passos de otimização : ', loss.item())"
   ]
  }
 ],
 "metadata": {
  "kernelspec": {
   "display_name": ".venv",
   "language": "python",
   "name": "python3"
  },
  "language_info": {
   "codemirror_mode": {
    "name": "ipython",
    "version": 3
   },
   "file_extension": ".py",
   "mimetype": "text/x-python",
   "name": "python",
   "nbconvert_exporter": "python",
   "pygments_lexer": "ipython3",
   "version": "3.11.2"
  }
 },
 "nbformat": 4,
 "nbformat_minor": 4
}
