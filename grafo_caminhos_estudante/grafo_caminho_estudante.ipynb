{
 "cells": [
  {
   "cell_type": "markdown",
   "id": "985670d7",
   "metadata": {},
   "source": [
    "### NetworkX e Gephi\n",
    "Use o código abaixo em conjunto com o Gephi:\n",
    "1. carregue o exemplo Les Miserables.gexf no Gephi\n",
    "2. exporte no formato GML (miserables.gml) para carregar no notebook\n",
    "\n",
    "Esta rede representa as interações dos personagens do romance de Victor Hugo.\\\n",
    "Compare alguns valores fornecidos pelo NetworkX com os disponíveis no Gephi"
   ]
  },
  {
   "cell_type": "code",
   "execution_count": 1,
   "id": "617dafe4",
   "metadata": {},
   "outputs": [],
   "source": [
    "import matplotlib.pyplot as plt\n",
    "import networkx as nx\n",
    "import csv\n",
    "\n",
    "hist = []\n",
    "file = '../excel/dados_historicos_alunos_de_EngComputacaoCuritiba formados.csv'\n",
    "\n",
    "with open(file, 'r') as csvfile:   \n",
    "    reader = csv.DictReader(csvfile, delimiter=';')\n",
    "    for row in reader:\n",
    "        if row[\"ID_ANONIMO\"] == \"198543\":\n",
    "            hist.append(row)"
   ]
  },
  {
   "cell_type": "code",
   "execution_count": 2,
   "id": "5799bb25",
   "metadata": {},
   "outputs": [
    {
     "data": {
      "text/plain": [
       "NodeView(('QB70E', 'ES70P', 'GE70H', 'GE73D', 'FI74M', 'MA70G', 'MA70H', 'MA73A', 'MA71A', 'FI72M', 'QB70C', 'ES70G', 'ENADE C', 'ENADE I', 'DI65H', 'EL66E', 'MA71B', 'MA72A', 'GE70D', 'ELF51', 'ELB23', 'CSM45', 'ELTE3', 'ELF62', 'FI74N', 'CSM41', 'EEX22', 'EEE31', 'CSW30', 'FI74S', 'CSW41', 'EEX11', 'CSX43', 'EEF11', 'EEX21', 'EEC21', 'EEQ32', 'CSM44', 'FI71S', 'EEE32', 'CSR31', 'EEQ31', 'CSW40', 'CSX42', 'CSI30', 'EEX23', 'CSH42', 'CSX54', 'FI72S', 'FI73S', 'EEF21', 'CSX53', 'EEF31', 'EEB31', 'CSE30', 'CSG20', 'CSH30', 'CSA31', 'CSW42', 'EEB21', 'EEC31', 'EEB22', 'EL77A', 'CSR30', 'CSS30', 'CSE20', 'CSF20', 'CSD20', 'DI84D', 'CSF13', 'FI73M', 'CSD21', 'CSF30', 'CSB30', 'CSA30', 'CSO30', 'FI71M', 'FI72N'))"
      ]
     },
     "execution_count": 2,
     "metadata": {},
     "output_type": "execute_result"
    }
   ],
   "source": [
    "G = nx.DiGraph()\n",
    "\n",
    "# disciplinas \n",
    "for line in hist:\n",
    "    if not G.has_node(line[\"CODIGO\"]):\n",
    "        G.add_node(line[\"CODIGO\"])\n",
    "G.nodes()"
   ]
  },
  {
   "cell_type": "code",
   "execution_count": 3,
   "id": "740875b3",
   "metadata": {},
   "outputs": [
    {
     "name": "stdout",
     "output_type": "stream",
     "text": [
      "78\n"
     ]
    }
   ],
   "source": [
    "print(G.number_of_nodes())"
   ]
  },
  {
   "cell_type": "code",
   "execution_count": 4,
   "id": "f6ae9a0a",
   "metadata": {},
   "outputs": [],
   "source": [
    "j_init = 0\n",
    "student = \"\"\n",
    "for i in range(len(hist)):\n",
    "    course = hist[i][\"CODIGO\"]\n",
    "    year = int(hist[i][\"ANO\"])\n",
    "    semester = int(hist[i][\"PERIODO.1\"])\n",
    "    # começou a análise de outro estudante\n",
    "    if (student != hist[i][\"ID_ANONIMO\"]):\n",
    "        student = hist[i][\"ID_ANONIMO\"]\n",
    "        j_init = i\n",
    "    for j in range(j_init, len(hist)):\n",
    "        # verificar se é o próximo período ainda do mesmo aluno\n",
    "        if (student != hist[j][\"ID_ANONIMO\"]):\n",
    "            break\n",
    "        # cria a aresta/adiciona peso nela\n",
    "        edge1 = course\n",
    "        edge2 = hist[j][\"CODIGO\"]\n",
    "        if (semester == 1):\n",
    "            # deve ser no mesmo ano e no 2o periodo\n",
    "            if int(hist[j][\"ANO\"]) == year and int(hist[j][\"PERIODO.1\"]) == 2:\n",
    "                if G.has_edge(edge1, edge2):\n",
    "                    G[edge1][edge2]['weight'] += 1\n",
    "                else:\n",
    "                    G.add_edge(edge1, edge2, weight = 1) \n",
    "        else:\n",
    "            # deve ser no próx ano e no 1o período\n",
    "            if int(hist[j][\"ANO\"]) == year+1 and int(hist[j][\"PERIODO.1\"]) == 1:\n",
    "                if G.has_edge(edge1, edge2):\n",
    "                    G[edge1][edge2]['weight'] += 1\n",
    "                else:\n",
    "                    G.add_edge(edge1, edge2, weight = 1) "
   ]
  },
  {
   "cell_type": "code",
   "execution_count": 5,
   "id": "8e9710c4",
   "metadata": {},
   "outputs": [
    {
     "name": "stdout",
     "output_type": "stream",
     "text": [
      "597\n"
     ]
    }
   ],
   "source": [
    "print(G.number_of_edges())"
   ]
  },
  {
   "cell_type": "code",
   "execution_count": 6,
   "id": "ada9959c",
   "metadata": {},
   "outputs": [],
   "source": [
    "degrees = sorted(G.degree, key=lambda x: x[1], reverse=True)\n",
    "with open('node_degree.txt', 'w') as f:\n",
    "    for degree in degrees:\n",
    "        f.write(str(degree) + \"\\n\")"
   ]
  },
  {
   "cell_type": "code",
   "execution_count": 7,
   "id": "0f1c127f",
   "metadata": {},
   "outputs": [],
   "source": [
    "nx.write_gexf(G, \"grafo_caminho_estudante.gexf\")"
   ]
  },
  {
   "cell_type": "code",
   "execution_count": 8,
   "id": "27a2e236",
   "metadata": {},
   "outputs": [],
   "source": [
    "# ordena as arestas por peso, buscando assim quais as matérias mais relacionadas\n",
    "edges = sorted(G.edges(data=True), key=lambda edge: edge[2].get('weight', 1))\n",
    "with open('edge_weights.txt', 'w') as f1:\n",
    "    with open('edge_same_weights.txt', 'w') as f2:\n",
    "        for edge in edges:\n",
    "            f1.write(str(edge) + \"\\n\")\n",
    "            if (edge[0] == edge[1]):\n",
    "                f2.write(str(edge) + \"\\n\")\n",
    "\n"
   ]
  },
  {
   "cell_type": "code",
   "execution_count": null,
   "id": "052e2c6d-c6f3-494f-bb3f-4567b39f9054",
   "metadata": {},
   "outputs": [],
   "source": []
  },
  {
   "cell_type": "code",
   "execution_count": null,
   "id": "d2dc6c32-fca5-4225-82a1-7ab9d7fa97a2",
   "metadata": {},
   "outputs": [],
   "source": []
  }
 ],
 "metadata": {
  "kernelspec": {
   "display_name": "Python 3 (ipykernel)",
   "language": "python",
   "name": "python3"
  },
  "language_info": {
   "codemirror_mode": {
    "name": "ipython",
    "version": 3
   },
   "file_extension": ".py",
   "mimetype": "text/x-python",
   "name": "python",
   "nbconvert_exporter": "python",
   "pygments_lexer": "ipython3",
   "version": "3.10.0"
  }
 },
 "nbformat": 4,
 "nbformat_minor": 5
}
