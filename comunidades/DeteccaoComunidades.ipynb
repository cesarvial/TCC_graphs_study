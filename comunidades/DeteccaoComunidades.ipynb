{
 "cells": [
  {
   "cell_type": "markdown",
   "metadata": {},
   "source": [
    "# Detecção de comunidades"
   ]
  },
  {
   "cell_type": "code",
   "execution_count": 1,
   "metadata": {
    "scrolled": true
   },
   "outputs": [],
   "source": [
    "# #Bibliotecas necessárias\n",
    "# !pip install python-louvain\n",
    "# !pip install leidenalg\n",
    "# !pip install cairocffi\n",
    "# !pip install --upgrade scipy\n",
    "# !pip install --upgrade networkx[default]\n",
    "\n",
    "# #No linux precisei instalar antes do pycairo: sudo apt install libcairo2-dev pkg-config python3-dev\n",
    "# !pip install pycairo"
   ]
  },
  {
   "cell_type": "code",
   "execution_count": 15,
   "metadata": {},
   "outputs": [],
   "source": [
    "%reload_ext autoreload\n",
    "%autoreload 2\n",
    "\n",
    "import community as community_louvain\n",
    "import matplotlib.pyplot as plt\n",
    "import networkx as nx\n",
    "from matplotlib import colormaps\n",
    "import sys\n",
    "from itertools import combinations\n",
    "from datetime import datetime\n",
    "sys.path.append('../utils')\n",
    "from mapa_estudantes import carregar_estudantes"
   ]
  },
  {
   "cell_type": "markdown",
   "metadata": {},
   "source": [
    "### Obter o grafo de disciplinas\n",
    "- Cada nó representa uma disciplina\n",
    "- Uma aresta da disciplina d1 para disciplina d2 significa que um aluno cursou a disciplina d1 e no periodo seguinte cursou a disciplina d2\n",
    "- O peso da aresta indica o número de vezes que um aluno cursou a disciplina d1 e no semestre seguinte cursou a disciplina d2"
   ]
  },
  {
   "cell_type": "code",
   "execution_count": 35,
   "metadata": {},
   "outputs": [
    {
     "name": "stdout",
     "output_type": "stream",
     "text": [
      "Carregando 76844 dados de estuadantes\n",
      "233 disciplinas encontradas na grade 844\n",
      "64258 dados de estudantes na grade 844\n",
      "Número de Disciplinas:  184\n",
      "Número de Estudantes:  1486\n",
      "Número de Estudantes:  1004\n",
      "True\n"
     ]
    }
   ],
   "source": [
    "# Obter os dados dos estudantes\n",
    "estudantes, disciplinas, disciplinas_desconhecidas = carregar_estudantes()\n",
    "\n",
    "print(\"Número de Disciplinas: \", len(disciplinas))\n",
    "print(\"Número de Estudantes: \", len(estudantes))\n",
    "\n",
    "estudantes_844 = list(filter(lambda x: x.ingresso > datetime.strptime(\"01/01/13\", \"%d/%m/%y\"), estudantes.values()))\n",
    "print(\"Número de Estudantes: \", len(estudantes_844))\n",
    "print(\"FI64C\" in disciplinas_desconhecidas)\n"
   ]
  },
  {
   "cell_type": "code",
   "execution_count": 31,
   "metadata": {},
   "outputs": [
    {
     "name": "stdout",
     "output_type": "stream",
     "text": [
      "{'FI74A', 'ELH01', 'ET7FA', 'EL6AB', 'EL64E', 'EL65J', 'IF61F', 'ED70E', 'DI61D', 'EL53G', 'CC62P', 'ES32U', 'DI61B', 'CE66C', 'CE51N', 'CC61B', 'ELEY40', 'AU62M', 'MA74C', 'QB61F', 'EL72E', 'GE72D', 'GE74K', 'CC61L', 'CL73B', 'GE77J', 'CL7DH', 'GE60E', 'CC79B', 'ET61A', 'ELTB3', 'GE73A', 'ME69C', 'EL63B', 'ELP73', 'CL21I', 'DI6BH', 'EL86B', 'GE62A', 'GE73G', 'CC71A', 'ED60D', 'DI66G', 'CC71B', 'CE6AI', 'ME64F', 'MA78K', 'ELN8DG', 'DI64G', 'ET66E', 'DI86C', 'GE70A', 'EF62D', 'ED60B', 'DI82F', 'IF6AD', 'FI64C', 'IF6CN', 'CL21F', 'DI63D', 'DI63L', 'EL66G', 'EA37J', 'EF61C', 'K5D330', 'ES70R', 'GE77I', 'EL66I', 'ET7CL', 'FI56C', 'GE77H', 'GE73F', 'EL84H', 'CC72B', 'CSX30', 'DI62G', 'FI54O', 'ME63H', 'DI6DB', 'EL71E', 'CL72A', 'ET38N', 'GE76J', 'QB62A', 'EL52O', 'ET73F', 'ET77C', 'CE73B', 'GE60G', 'MA74G', 'FI64B', 'GE70E', 'EL65H', 'GE77C', 'MA77J', 'FI52Z', 'CE75Q', 'EL67D', 'ET63D', 'MA73N', 'ES30X', 'CE73D', 'ET53V', 'DI82B', 'DI56B', 'CL70C', 'ET75H', 'ES7AD', 'GE74H', 'CL70B', 'MA71G', 'EF64E', 'GE70L', 'FI55G', 'GE70S', 'DI64B', 'DI62D', 'FI51A', 'GE71A', 'GE64D', 'DI6DC', 'EL66H', 'DI68G', 'ELN8BB', 'FI7BO', 'DI63E', 'IF33R', 'ME37K', 'EL76G', 'D0D590', 'EF32S', 'FI71F', 'EL71D', 'CSX20', 'IF6AR', 'GE72B', 'AU61P', 'DI61H', 'ELM01', 'ES7AB', 'CC72E', 'CL74C', 'E2D060', 'GE77B', 'DI81C', 'EL85A', 'EL69C', 'ME63J', 'IF60B', 'AU62O', 'DI63G', 'DI63C', 'DI61C', 'DI82A', 'CC62O', 'ET79F', 'IF71A', 'IF64J', 'GE73H', 'CE63F', 'ET75E', 'GE73E', 'CL23I', 'CC73B', 'IF6BG', 'ET30N', 'CE75D', 'PPGSESAI11', 'DI81A', 'IF62J', 'GE63D', 'ES7AK', 'FI52B', 'CE70H', 'ES60B', 'ES60C', 'FIS81C', 'GE60F', 'AU61L', 'FI56F', 'DI85B', 'MA78E', 'DI54C', 'ET71B', 'CL7AB', 'E1D000', 'ES61A', 'EL66L', 'DI61L', 'DI61K', 'CE63B', 'FI53E', 'ET76G', 'DI61I', 'FI71G', 'GE76N', 'EL85C', 'IF6AA', 'ES70H', 'EL54A', 'GE79B', 'ED70C', 'ELN83A', 'EF64D', 'ELTE6', 'DI61E', 'MA33K', 'CL73D', 'GE60K', 'EL65G', 'FI55F', 'IF62D', 'PPGA37', 'MA70K', 'ET7DJ', 'ELH02', 'EL86F', 'GE53B', 'ME79C', 'MA72D', 'ME7BR', 'ED70B', 'ED70Q', 'GE72C', 'ES60J', 'GE70O', 'CL7BI', 'ME78I', 'IF66J', 'FI51C', 'EL64O', 'ET7AC', 'CC74B', 'ET76E', 'ES70I', 'ET77B', 'ET64J', 'GE76B', 'CSX10', 'ME6BQ', 'DI6AH', 'DI65H', 'CL7CG', 'CSG30', 'FI54A', 'QB53F', 'MA72F', 'D7D420', 'EF63F', 'FI34M', 'ED60I', 'ED70D', 'FI73A', 'ES60H', 'ME63I', 'CL74B', 'IF6AB', 'CE65D', 'CC75F', 'MA73H', 'GE62D', 'FI53H', 'GE70T', 'QB7BC', 'GE60L', 'CL72B', 'ET56F', 'DI84B', 'GE70X', 'FI75F', 'FI6BD', 'CSG10', 'ET77F', 'MA72E', 'DI63H', 'CE78E', 'ES60G', 'DI81B', 'QB71H', 'EL62O', 'EF65B', 'EL64H', 'DI83F', 'FI55A', 'DI55F', 'ELN8AB', 'FI70C', 'AU64P', 'ME66J', 'MA74A', 'GE70C', 'EL6ED', 'ET7AB', 'CL7BM', 'GE64C', 'GE74G', 'IF6BE', 'GE74C', 'DI61F', 'IF72A', 'EL84G', 'CE70B', 'CC62B', 'IF60J', 'MA75K', 'IF55Z', 'MA31K', 'CE64H', 'FI53B', 'GE60A', 'ED70A', 'ET74F', 'ES70Q', 'CL65D', 'ELN8BA', 'DI82G', 'ET75F', 'MA71F', 'F2D070', 'CC75G', 'ES60A', 'FI63C', 'CSX40', 'ELB11', 'ET72B', 'CC75E', 'GE65C', 'GE70N', 'AU6AS', 'FI63A', 'EF63D', 'EL53F', 'ELH11', 'CSW20', 'CE74F', 'ET7BC', 'ME61J', 'ME66I', 'IF63B', 'CL73A', 'COE70A', 'CL75F', 'ELO92', 'GE77E', 'CE74G', 'EL64G', 'ET76B', 'ME67C', 'FI64A', 'IF35J', 'DI65G', 'ELN85A', 'ME79J', 'GE7AB', 'DI81F', 'ME60I', 'CC62D', 'QB55Z', 'CE70A', 'CL62B', 'CC6CP', 'ME73H', 'EL85E', 'CAART02', 'MA71E', 'ME6BI', 'ELE13', 'EL8AA', 'ES70C', 'CL74D', 'DI84G', 'CC74G', 'CL68A', 'CE61B', 'QB65A', 'DI62F', 'ET7BG', 'GE78C', 'ELN8CA', 'ET76F', 'CL65A', 'ET71C', 'ELE12', 'CE62A', 'CE65B', 'IF62F', 'EL6BG', 'ET7DA', 'EF62E', 'ED60C', 'ES7AG', 'ED60E', 'ME62J', 'FCH7SB', 'EL6AD', 'GE73D', 'CE6AB', 'CC72D', 'MA64A', 'MA71H', 'CL74A', 'ET75C', 'EL83F', 'EL66K', 'CE76E', 'DI84A', 'GE79A', 'GE75A', 'GE78B', 'DI83E', 'MA73I', 'IF60K', 'EL67B', 'ES60D', 'GE56A', 'CC75C', 'GE68A', 'ELB93', 'EF67E', 'ET72F', 'ET51C', 'MAT7C2', 'GE76G', 'CE78C', 'ELN81A', 'GE72A', 'ME62H', 'ES70L', 'GE70K', 'ME62I', 'IF67H', 'ME67A'}\n",
      "Aluno StatusEstudante.DESISTENTE: 340\n",
      "Aluno StatusEstudante.SEM_CURSAR: 58\n",
      "Aluno StatusEstudante.MUDOU_CURSO: 27\n",
      "Aluno StatusEstudante.AFASTADO: 13\n",
      "Aluno StatusEstudante.TRANSFERIDO: 7\n",
      "Aluno StatusEstudante.FORMADO: 116\n",
      "Aluno StatusEstudante.REGULAR: 395\n",
      "Aluno StatusEstudante.TRANCADO: 48\n"
     ]
    }
   ],
   "source": [
    "# Numero de estudantes com cada status\n",
    "print(disciplinas_desconhecidas)\n",
    "\n",
    "status = {}\n",
    "for estudante in estudantes_844:\n",
    "    if estudante.status not in status:\n",
    "        status[estudante.status] = 0\n",
    "    status[estudante.status] += 1\n",
    "\n",
    "\n",
    "for s in status:\n",
    "    print(f\"Aluno {s}: {status[s]}\")"
   ]
  },
  {
   "cell_type": "code",
   "execution_count": 3,
   "metadata": {},
   "outputs": [
    {
     "name": "stdout",
     "output_type": "stream",
     "text": [
      "Número de Arestas:  30907\n",
      "Número de Nós:  728\n"
     ]
    }
   ],
   "source": [
    "digrafo = nx.DiGraph()\n",
    "digrafo.add_nodes_from([d for d in disciplinas])\n",
    "\n",
    "# Cria arestas entre as disciplinas cursadas por um estudante\n",
    "for estudante in estudantes.values():\n",
    "    for d1, d2 in combinations(estudante.disciplinas, 2):\n",
    "        if d1.periodo_consecutivo(d2):\n",
    "            if not digrafo.has_edge(d1.codigo, d2.codigo):\n",
    "                digrafo.add_edge(d1.codigo, d2.codigo, weigth=1)\n",
    "            else:\n",
    "                digrafo[d1.codigo][d2.codigo][\"weigth\"] += 1\n",
    "\n",
    "print(\"Número de Arestas: \", len(digrafo.edges))\n",
    "print(\"Número de Nós: \", len(digrafo.nodes))"
   ]
  },
  {
   "cell_type": "markdown",
   "metadata": {},
   "source": [
    "## Demonstração do Louvain"
   ]
  },
  {
   "cell_type": "code",
   "execution_count": 4,
   "metadata": {},
   "outputs": [
    {
     "data": {
      "image/png": "[encoded data removed]",
      "text/plain": [
       "<Figure size 640x480 with 1 Axes>"
      ]
     },
     "metadata": {},
     "output_type": "display_data"
    }
   ],
   "source": [
    "# usa o Louvain para computar a melhor partição\n",
    "G = digrafo.to_undirected()\n",
    "partition = community_louvain.best_partition(G)\n",
    "\n",
    "# Plot do grafo\n",
    "#Layout\n",
    "pos = nx.spring_layout(G)\n",
    "cmap = colormaps['viridis']\n",
    "\n",
    "nx.draw_networkx_nodes(G, pos, partition.keys(), node_size=40, cmap=cmap, node_color=list(partition.values()))\n",
    "nx.draw_networkx_edges(G, pos, alpha=0.5)\n",
    "\n",
    "nx.draw_networkx_labels(G, pos=pos)\n",
    "\n",
    "plt.show()\n"
   ]
  },
  {
   "cell_type": "markdown",
   "metadata": {},
   "source": [
    "## Demonstração do Leiden"
   ]
  },
  {
   "cell_type": "code",
   "execution_count": 6,
   "metadata": {},
   "outputs": [
    {
     "ename": "ModuleNotFoundError",
     "evalue": "No module named 'leidenalg'",
     "output_type": "error",
     "traceback": [
      "\u001b[0;31m---------------------------------------------------------------------------\u001b[0m",
      "\u001b[0;31mModuleNotFoundError\u001b[0m                       Traceback (most recent call last)",
      "Cell \u001b[0;32mIn[6], line 1\u001b[0m\n\u001b[0;32m----> 1\u001b[0m \u001b[38;5;28;01mimport\u001b[39;00m \u001b[38;5;21;01mleidenalg\u001b[39;00m \u001b[38;5;28;01mas\u001b[39;00m \u001b[38;5;21;01mla\u001b[39;00m\n\u001b[1;32m      2\u001b[0m \u001b[38;5;28;01mimport\u001b[39;00m \u001b[38;5;21;01migraph\u001b[39;00m \u001b[38;5;28;01mas\u001b[39;00m \u001b[38;5;21;01mig\u001b[39;00m\n\u001b[1;32m      4\u001b[0m \u001b[38;5;66;03m#O leiden necessita do pacote iGraph - uso da mesma rede do clube de karatê\u001b[39;00m\n",
      "\u001b[0;31mModuleNotFoundError\u001b[0m: No module named 'leidenalg'"
     ]
    }
   ],
   "source": [
    "import leidenalg as la\n",
    "import igraph as ig\n",
    "\n",
    "#O leiden necessita do pacote iGraph - uso da mesma rede do clube de karatê\n",
    "H = ig.Graph.Famous('Zachary')\n",
    "\n",
    "partition = la.find_partition(H, la.ModularityVertexPartition)\n",
    "\n",
    "ig.plot(partition) \n"
   ]
  },
  {
   "cell_type": "code",
   "execution_count": null,
   "metadata": {},
   "outputs": [],
   "source": [
    "print(partition.membership)\n",
    "print(partition.modularity)"
   ]
  },
  {
   "cell_type": "markdown",
   "metadata": {},
   "source": [
    "## K-clique"
   ]
  },
  {
   "cell_type": "code",
   "execution_count": null,
   "metadata": {},
   "outputs": [],
   "source": [
    "import networkx as nx\n",
    "from networkx.algorithms.community import k_clique_communities\n",
    "\n",
    "G = nx.karate_club_graph()\n",
    "\n",
    "\n",
    "c = list(k_clique_communities(G, 4))\n",
    "\n",
    "for i in c:\n",
    "    print(sorted(list(i)))\n"
   ]
  },
  {
   "cell_type": "markdown",
   "metadata": {},
   "source": [
    "## Rede do Facebook"
   ]
  },
  {
   "cell_type": "code",
   "execution_count": null,
   "metadata": {},
   "outputs": [],
   "source": [
    "G_facebook = nx.read_edgelist(\"facebook_combined.txt\",create_using = nx.Graph(), nodetype = int)\n",
    "\n",
    "print(nx.info(G_facebook))"
   ]
  },
  {
   "cell_type": "markdown",
   "metadata": {},
   "source": [
    "#### Visualização da rede"
   ]
  },
  {
   "cell_type": "code",
   "execution_count": null,
   "metadata": {},
   "outputs": [],
   "source": [
    "# Simula o force-directed layout\n",
    "sp = nx.spring_layout(G_facebook)\n",
    "\n",
    "plt.figure(figsize=(20,20))\n",
    "nx.draw_networkx(G_facebook, pos=sp, with_labels=False, node_size=35)"
   ]
  },
  {
   "cell_type": "markdown",
   "metadata": {},
   "source": [
    "#### Visualização das comunidades com o Louvain"
   ]
  },
  {
   "cell_type": "code",
   "execution_count": null,
   "metadata": {},
   "outputs": [],
   "source": [
    "import matplotlib.cm as cm\n",
    "import community as community_louvain\n",
    "import matplotlib.pyplot as plt\n",
    "import networkx as nx\n",
    "\n",
    "clustersFace = community_louvain.best_partition(G_facebook)\n",
    "\n",
    "cmap = cm.get_cmap('Spectral', max(clustersFace.values()) + 1)\n",
    "plt.figure(figsize=(20,20))\n",
    "nx.draw_networkx_nodes(G_facebook, sp, clustersFace.keys(), node_size=40, cmap=cmap, node_color=list(clustersFace.values()))\n",
    "nx.draw_networkx_edges(G_facebook, sp, alpha=0.5)\n",
    "plt.show()"
   ]
  },
  {
   "cell_type": "markdown",
   "metadata": {},
   "source": [
    "#### Visualização das comunidades com o Louvain e nós redimensionados de acordo com o betweenness"
   ]
  },
  {
   "cell_type": "code",
   "execution_count": null,
   "metadata": {},
   "outputs": [],
   "source": [
    "#arts = c.best_partition(G_fb)\n",
    "clustersFace\n",
    "\n",
    "values = [clustersFace.get(node) for node in G_facebook.nodes()]\n",
    "#pos = nx.spring_layout(G_fb)\n",
    "\n",
    "betweennessCentrality = nx.betweenness_centrality(G_facebook, normalized=True, endpoints=True)\n",
    "\n",
    "\n",
    "#Configurações visuais\n",
    "node_size =  [v * 10000 for v in betweennessCentrality.values()]\n",
    "\n",
    "plt.figure(figsize=(20,20))\n",
    "\n",
    "nx.draw_networkx(G_facebook, pos=sp, with_labels=False,\n",
    "                 node_color=values,\n",
    "                 node_size=node_size )\n",
    "plt.axis('off')"
   ]
  },
  {
   "cell_type": "markdown",
   "metadata": {},
   "source": [
    "## Rede de produtos da Amazon"
   ]
  },
  {
   "cell_type": "code",
   "execution_count": null,
   "metadata": {},
   "outputs": [],
   "source": [
    "G_amazon = nx.read_edgelist('com-amazon.ungraph.txt')\n",
    "print(nx.info(G_amazon))"
   ]
  },
  {
   "cell_type": "code",
   "execution_count": null,
   "metadata": {},
   "outputs": [],
   "source": [
    "clustersAmazon = list(k_clique_communities(G_amazon,5))\n",
    "\n",
    "for i in clustersAmazon:\n",
    "    print(sorted(list(i)))"
   ]
  },
  {
   "cell_type": "code",
   "execution_count": null,
   "metadata": {},
   "outputs": [],
   "source": [
    "# Comunidades validadas\n",
    "\n",
    "'com-amazon.all.dedup.cmty.txt'\n"
   ]
  },
  {
   "cell_type": "markdown",
   "metadata": {},
   "source": [
    "## Conteúdo extra: Visualização com o Netwulf"
   ]
  },
  {
   "cell_type": "code",
   "execution_count": null,
   "metadata": {},
   "outputs": [],
   "source": [
    "#!pip install netwulf\n",
    "\n",
    "import netwulf as nw\n",
    "nw.visualize(G_facebook)"
   ]
  }
 ],
 "metadata": {
  "kernelspec": {
   "display_name": ".venv",
   "language": "python",
   "name": "python3"
  },
  "language_info": {
   "codemirror_mode": {
    "name": "ipython",
    "version": 3
   },
   "file_extension": ".py",
   "mimetype": "text/x-python",
   "name": "python",
   "nbconvert_exporter": "python",
   "pygments_lexer": "ipython3",
   "version": "3.11.2"
  }
 },
 "nbformat": 4,
 "nbformat_minor": 4
}
